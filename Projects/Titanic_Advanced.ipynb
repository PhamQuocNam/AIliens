{
 "cells": [
  {
   "cell_type": "markdown",
   "id": "0ada63a3",
   "metadata": {
    "papermill": {
     "duration": 0.014093,
     "end_time": "2024-07-31T05:42:29.311969",
     "exception": false,
     "start_time": "2024-07-31T05:42:29.297876",
     "status": "completed"
    },
    "tags": []
   },
   "source": [
    "## Note \n",
    "### If you really want to gain knowledge please Refer to version before 32 \n",
    "### After version 32 i am not focusing on details but only on accuracy score\n",
    "## feel free to ask Question\n",
    "\n",
    "## Upvote my work if you like it"
   ]
  },
  {
   "cell_type": "markdown",
   "id": "e37889a8",
   "metadata": {
    "papermill": {
     "duration": 0.013177,
     "end_time": "2024-07-31T05:42:29.338766",
     "exception": false,
     "start_time": "2024-07-31T05:42:29.325589",
     "status": "completed"
    },
    "tags": []
   },
   "source": [
    "## Importing Libraries and Loading Dataset\n",
    "Import essential libraries and load the Titanic dataset."
   ]
  },
  {
   "cell_type": "code",
   "execution_count": 36,
   "id": "8eba8a7b",
   "metadata": {
    "execution": {
     "iopub.execute_input": "2024-07-31T05:42:29.368269Z",
     "iopub.status.busy": "2024-07-31T05:42:29.367502Z",
     "iopub.status.idle": "2024-07-31T05:42:31.791630Z",
     "shell.execute_reply": "2024-07-31T05:42:31.790522Z"
    },
    "papermill": {
     "duration": 2.442104,
     "end_time": "2024-07-31T05:42:31.794373",
     "exception": false,
     "start_time": "2024-07-31T05:42:29.352269",
     "status": "completed"
    },
    "tags": []
   },
   "outputs": [],
   "source": [
    "import pandas as pd\n",
    "import numpy as np\n",
    "import matplotlib.pyplot as plt\n",
    "import seaborn as sns\n",
    "%matplotlib inline\n",
    "from sklearn.linear_model import LogisticRegression\n",
    "import warnings\n",
    "warnings.filterwarnings(\"ignore\")\n",
    "from sklearn.preprocessing import OneHotEncoder\n",
    "from sklearn.metrics import accuracy_score, precision_score,roc_auc_score,confusion_matrix\n",
    "from sklearn.model_selection import KFold, cross_val_score"
   ]
  },
  {
   "cell_type": "code",
   "execution_count": 37,
   "id": "00b5b6c0",
   "metadata": {
    "execution": {
     "iopub.execute_input": "2024-07-31T05:42:31.823860Z",
     "iopub.status.busy": "2024-07-31T05:42:31.822557Z",
     "iopub.status.idle": "2024-07-31T05:42:31.854701Z",
     "shell.execute_reply": "2024-07-31T05:42:31.853732Z"
    },
    "papermill": {
     "duration": 0.049279,
     "end_time": "2024-07-31T05:42:31.857283",
     "exception": false,
     "start_time": "2024-07-31T05:42:31.808004",
     "status": "completed"
    },
    "tags": []
   },
   "outputs": [],
   "source": [
    "training_data = pd.read_csv('Dataset/Titanic/train.csv')\n",
    "test_data = pd.read_csv('Dataset/Titanic/test.csv')\n",
    "output_data=pd.read_csv('Dataset/Titanic/gender_submission.csv')"
   ]
  },
  {
   "cell_type": "markdown",
   "id": "2589956c",
   "metadata": {
    "papermill": {
     "duration": 0.013494,
     "end_time": "2024-07-31T05:42:31.885724",
     "exception": false,
     "start_time": "2024-07-31T05:42:31.872230",
     "status": "completed"
    },
    "tags": []
   },
   "source": [
    "## Data Overview\n",
    "Preview the first few rows of the datasets to understand their structure."
   ]
  },
  {
   "cell_type": "code",
   "execution_count": 38,
   "id": "a844fbb2",
   "metadata": {
    "execution": {
     "iopub.execute_input": "2024-07-31T05:42:31.915148Z",
     "iopub.status.busy": "2024-07-31T05:42:31.914342Z",
     "iopub.status.idle": "2024-07-31T05:42:31.932854Z",
     "shell.execute_reply": "2024-07-31T05:42:31.931777Z"
    },
    "papermill": {
     "duration": 0.035845,
     "end_time": "2024-07-31T05:42:31.935337",
     "exception": false,
     "start_time": "2024-07-31T05:42:31.899492",
     "status": "completed"
    },
    "tags": []
   },
   "outputs": [
    {
     "data": {
      "text/html": [
       "<div>\n",
       "<style scoped>\n",
       "    .dataframe tbody tr th:only-of-type {\n",
       "        vertical-align: middle;\n",
       "    }\n",
       "\n",
       "    .dataframe tbody tr th {\n",
       "        vertical-align: top;\n",
       "    }\n",
       "\n",
       "    .dataframe thead th {\n",
       "        text-align: right;\n",
       "    }\n",
       "</style>\n",
       "<table border=\"1\" class=\"dataframe\">\n",
       "  <thead>\n",
       "    <tr style=\"text-align: right;\">\n",
       "      <th></th>\n",
       "      <th>PassengerId</th>\n",
       "      <th>Survived</th>\n",
       "    </tr>\n",
       "  </thead>\n",
       "  <tbody>\n",
       "    <tr>\n",
       "      <th>0</th>\n",
       "      <td>892</td>\n",
       "      <td>0</td>\n",
       "    </tr>\n",
       "    <tr>\n",
       "      <th>1</th>\n",
       "      <td>893</td>\n",
       "      <td>1</td>\n",
       "    </tr>\n",
       "    <tr>\n",
       "      <th>2</th>\n",
       "      <td>894</td>\n",
       "      <td>0</td>\n",
       "    </tr>\n",
       "    <tr>\n",
       "      <th>3</th>\n",
       "      <td>895</td>\n",
       "      <td>0</td>\n",
       "    </tr>\n",
       "    <tr>\n",
       "      <th>4</th>\n",
       "      <td>896</td>\n",
       "      <td>1</td>\n",
       "    </tr>\n",
       "  </tbody>\n",
       "</table>\n",
       "</div>"
      ],
      "text/plain": [
       "   PassengerId  Survived\n",
       "0          892         0\n",
       "1          893         1\n",
       "2          894         0\n",
       "3          895         0\n",
       "4          896         1"
      ]
     },
     "execution_count": 38,
     "metadata": {},
     "output_type": "execute_result"
    }
   ],
   "source": [
    "output_data.head()"
   ]
  },
  {
   "cell_type": "code",
   "execution_count": 39,
   "id": "c7e65b09",
   "metadata": {
    "execution": {
     "iopub.execute_input": "2024-07-31T05:42:31.964659Z",
     "iopub.status.busy": "2024-07-31T05:42:31.964010Z",
     "iopub.status.idle": "2024-07-31T05:42:31.970371Z",
     "shell.execute_reply": "2024-07-31T05:42:31.969414Z"
    },
    "papermill": {
     "duration": 0.023711,
     "end_time": "2024-07-31T05:42:31.972790",
     "exception": false,
     "start_time": "2024-07-31T05:42:31.949079",
     "status": "completed"
    },
    "tags": []
   },
   "outputs": [
    {
     "data": {
      "text/plain": [
       "(891, 12)"
      ]
     },
     "execution_count": 39,
     "metadata": {},
     "output_type": "execute_result"
    }
   ],
   "source": [
    "training_data.head()\n",
    "training_data.shape"
   ]
  },
  {
   "cell_type": "code",
   "execution_count": 40,
   "id": "ea96b6bb",
   "metadata": {
    "execution": {
     "iopub.execute_input": "2024-07-31T05:42:32.002429Z",
     "iopub.status.busy": "2024-07-31T05:42:32.001766Z",
     "iopub.status.idle": "2024-07-31T05:42:32.019881Z",
     "shell.execute_reply": "2024-07-31T05:42:32.018814Z"
    },
    "papermill": {
     "duration": 0.035424,
     "end_time": "2024-07-31T05:42:32.022193",
     "exception": false,
     "start_time": "2024-07-31T05:42:31.986769",
     "status": "completed"
    },
    "tags": []
   },
   "outputs": [
    {
     "data": {
      "text/html": [
       "<div>\n",
       "<style scoped>\n",
       "    .dataframe tbody tr th:only-of-type {\n",
       "        vertical-align: middle;\n",
       "    }\n",
       "\n",
       "    .dataframe tbody tr th {\n",
       "        vertical-align: top;\n",
       "    }\n",
       "\n",
       "    .dataframe thead th {\n",
       "        text-align: right;\n",
       "    }\n",
       "</style>\n",
       "<table border=\"1\" class=\"dataframe\">\n",
       "  <thead>\n",
       "    <tr style=\"text-align: right;\">\n",
       "      <th></th>\n",
       "      <th>PassengerId</th>\n",
       "      <th>Pclass</th>\n",
       "      <th>Name</th>\n",
       "      <th>Sex</th>\n",
       "      <th>Age</th>\n",
       "      <th>SibSp</th>\n",
       "      <th>Parch</th>\n",
       "      <th>Ticket</th>\n",
       "      <th>Fare</th>\n",
       "      <th>Cabin</th>\n",
       "      <th>Embarked</th>\n",
       "    </tr>\n",
       "  </thead>\n",
       "  <tbody>\n",
       "    <tr>\n",
       "      <th>413</th>\n",
       "      <td>1305</td>\n",
       "      <td>3</td>\n",
       "      <td>Spector, Mr. Woolf</td>\n",
       "      <td>male</td>\n",
       "      <td>NaN</td>\n",
       "      <td>0</td>\n",
       "      <td>0</td>\n",
       "      <td>A.5. 3236</td>\n",
       "      <td>8.0500</td>\n",
       "      <td>NaN</td>\n",
       "      <td>S</td>\n",
       "    </tr>\n",
       "    <tr>\n",
       "      <th>414</th>\n",
       "      <td>1306</td>\n",
       "      <td>1</td>\n",
       "      <td>Oliva y Ocana, Dona. Fermina</td>\n",
       "      <td>female</td>\n",
       "      <td>39.0</td>\n",
       "      <td>0</td>\n",
       "      <td>0</td>\n",
       "      <td>PC 17758</td>\n",
       "      <td>108.9000</td>\n",
       "      <td>C105</td>\n",
       "      <td>C</td>\n",
       "    </tr>\n",
       "    <tr>\n",
       "      <th>415</th>\n",
       "      <td>1307</td>\n",
       "      <td>3</td>\n",
       "      <td>Saether, Mr. Simon Sivertsen</td>\n",
       "      <td>male</td>\n",
       "      <td>38.5</td>\n",
       "      <td>0</td>\n",
       "      <td>0</td>\n",
       "      <td>SOTON/O.Q. 3101262</td>\n",
       "      <td>7.2500</td>\n",
       "      <td>NaN</td>\n",
       "      <td>S</td>\n",
       "    </tr>\n",
       "    <tr>\n",
       "      <th>416</th>\n",
       "      <td>1308</td>\n",
       "      <td>3</td>\n",
       "      <td>Ware, Mr. Frederick</td>\n",
       "      <td>male</td>\n",
       "      <td>NaN</td>\n",
       "      <td>0</td>\n",
       "      <td>0</td>\n",
       "      <td>359309</td>\n",
       "      <td>8.0500</td>\n",
       "      <td>NaN</td>\n",
       "      <td>S</td>\n",
       "    </tr>\n",
       "    <tr>\n",
       "      <th>417</th>\n",
       "      <td>1309</td>\n",
       "      <td>3</td>\n",
       "      <td>Peter, Master. Michael J</td>\n",
       "      <td>male</td>\n",
       "      <td>NaN</td>\n",
       "      <td>1</td>\n",
       "      <td>1</td>\n",
       "      <td>2668</td>\n",
       "      <td>22.3583</td>\n",
       "      <td>NaN</td>\n",
       "      <td>C</td>\n",
       "    </tr>\n",
       "  </tbody>\n",
       "</table>\n",
       "</div>"
      ],
      "text/plain": [
       "     PassengerId  Pclass                          Name     Sex   Age  SibSp  \\\n",
       "413         1305       3            Spector, Mr. Woolf    male   NaN      0   \n",
       "414         1306       1  Oliva y Ocana, Dona. Fermina  female  39.0      0   \n",
       "415         1307       3  Saether, Mr. Simon Sivertsen    male  38.5      0   \n",
       "416         1308       3           Ware, Mr. Frederick    male   NaN      0   \n",
       "417         1309       3      Peter, Master. Michael J    male   NaN      1   \n",
       "\n",
       "     Parch              Ticket      Fare Cabin Embarked  \n",
       "413      0           A.5. 3236    8.0500   NaN        S  \n",
       "414      0            PC 17758  108.9000  C105        C  \n",
       "415      0  SOTON/O.Q. 3101262    7.2500   NaN        S  \n",
       "416      0              359309    8.0500   NaN        S  \n",
       "417      1                2668   22.3583   NaN        C  "
      ]
     },
     "execution_count": 40,
     "metadata": {},
     "output_type": "execute_result"
    }
   ],
   "source": [
    "test_data.tail()"
   ]
  },
  {
   "cell_type": "markdown",
   "id": "a2f637b9",
   "metadata": {
    "papermill": {
     "duration": 0.013922,
     "end_time": "2024-07-31T05:42:32.050157",
     "exception": false,
     "start_time": "2024-07-31T05:42:32.036235",
     "status": "completed"
    },
    "tags": []
   },
   "source": [
    "## Visualisation of Relationship between Input and Output"
   ]
  },
  {
   "cell_type": "code",
   "execution_count": 41,
   "id": "2f2a5b61",
   "metadata": {
    "execution": {
     "iopub.execute_input": "2024-07-31T05:42:32.080688Z",
     "iopub.status.busy": "2024-07-31T05:42:32.079934Z",
     "iopub.status.idle": "2024-07-31T05:42:32.307303Z",
     "shell.execute_reply": "2024-07-31T05:42:32.306261Z"
    },
    "papermill": {
     "duration": 0.245651,
     "end_time": "2024-07-31T05:42:32.310123",
     "exception": false,
     "start_time": "2024-07-31T05:42:32.064472",
     "status": "completed"
    },
    "tags": []
   },
   "outputs": [
    {
     "data": {
      "text/plain": [
       "<Axes: xlabel='Survived', ylabel='count'>"
      ]
     },
     "execution_count": 41,
     "metadata": {},
     "output_type": "execute_result"
    },
    {
     "data": {
      "image/png": "[encoded data removed]",
      "text/plain": [
       "<Figure size 640x480 with 1 Axes>"
      ]
     },
     "metadata": {},
     "output_type": "display_data"
    }
   ],
   "source": [
    "sns.set_style('whitegrid')\n",
    "sns.countplot(x='Survived',data=training_data)\n"
   ]
  },
  {
   "cell_type": "code",
   "execution_count": 42,
   "id": "fc6a8b94",
   "metadata": {
    "execution": {
     "iopub.execute_input": "2024-07-31T05:42:32.341164Z",
     "iopub.status.busy": "2024-07-31T05:42:32.340714Z",
     "iopub.status.idle": "2024-07-31T05:42:32.361494Z",
     "shell.execute_reply": "2024-07-31T05:42:32.360487Z"
    },
    "papermill": {
     "duration": 0.039747,
     "end_time": "2024-07-31T05:42:32.364468",
     "exception": false,
     "start_time": "2024-07-31T05:42:32.324721",
     "status": "completed"
    },
    "tags": []
   },
   "outputs": [
    {
     "data": {
      "text/html": [
       "<div>\n",
       "<style scoped>\n",
       "    .dataframe tbody tr th:only-of-type {\n",
       "        vertical-align: middle;\n",
       "    }\n",
       "\n",
       "    .dataframe tbody tr th {\n",
       "        vertical-align: top;\n",
       "    }\n",
       "\n",
       "    .dataframe thead th {\n",
       "        text-align: right;\n",
       "    }\n",
       "</style>\n",
       "<table border=\"1\" class=\"dataframe\">\n",
       "  <thead>\n",
       "    <tr style=\"text-align: right;\">\n",
       "      <th></th>\n",
       "      <th>PassengerId</th>\n",
       "      <th>Survived</th>\n",
       "      <th>Pclass</th>\n",
       "      <th>Name</th>\n",
       "      <th>Sex</th>\n",
       "      <th>Age</th>\n",
       "      <th>SibSp</th>\n",
       "      <th>Parch</th>\n",
       "      <th>Ticket</th>\n",
       "      <th>Fare</th>\n",
       "      <th>Cabin</th>\n",
       "      <th>Embarked</th>\n",
       "    </tr>\n",
       "  </thead>\n",
       "  <tbody>\n",
       "    <tr>\n",
       "      <th>61</th>\n",
       "      <td>62</td>\n",
       "      <td>1</td>\n",
       "      <td>1</td>\n",
       "      <td>Icard, Miss. Amelie</td>\n",
       "      <td>female</td>\n",
       "      <td>38.0</td>\n",
       "      <td>0</td>\n",
       "      <td>0</td>\n",
       "      <td>113572</td>\n",
       "      <td>80.0</td>\n",
       "      <td>B28</td>\n",
       "      <td>NaN</td>\n",
       "    </tr>\n",
       "    <tr>\n",
       "      <th>829</th>\n",
       "      <td>830</td>\n",
       "      <td>1</td>\n",
       "      <td>1</td>\n",
       "      <td>Stone, Mrs. George Nelson (Martha Evelyn)</td>\n",
       "      <td>female</td>\n",
       "      <td>62.0</td>\n",
       "      <td>0</td>\n",
       "      <td>0</td>\n",
       "      <td>113572</td>\n",
       "      <td>80.0</td>\n",
       "      <td>B28</td>\n",
       "      <td>NaN</td>\n",
       "    </tr>\n",
       "  </tbody>\n",
       "</table>\n",
       "</div>"
      ],
      "text/plain": [
       "     PassengerId  Survived  Pclass                                       Name  \\\n",
       "61            62         1       1                        Icard, Miss. Amelie   \n",
       "829          830         1       1  Stone, Mrs. George Nelson (Martha Evelyn)   \n",
       "\n",
       "        Sex   Age  SibSp  Parch  Ticket  Fare Cabin Embarked  \n",
       "61   female  38.0      0      0  113572  80.0   B28      NaN  \n",
       "829  female  62.0      0      0  113572  80.0   B28      NaN  "
      ]
     },
     "execution_count": 42,
     "metadata": {},
     "output_type": "execute_result"
    }
   ],
   "source": [
    "filtered_data = training_data[~training_data['Embarked'].isin(['C', 'S', 'Q'])]\n",
    "filtered_data"
   ]
  },
  {
   "cell_type": "code",
   "execution_count": 43,
   "id": "371c2cff",
   "metadata": {
    "execution": {
     "iopub.execute_input": "2024-07-31T05:42:32.396727Z",
     "iopub.status.busy": "2024-07-31T05:42:32.395948Z",
     "iopub.status.idle": "2024-07-31T05:42:32.871075Z",
     "shell.execute_reply": "2024-07-31T05:42:32.869955Z"
    },
    "papermill": {
     "duration": 0.49423,
     "end_time": "2024-07-31T05:42:32.873511",
     "exception": false,
     "start_time": "2024-07-31T05:42:32.379281",
     "status": "completed"
    },
    "tags": []
   },
   "outputs": [
    {
     "data": {
      "text/plain": [
       "<seaborn.axisgrid.FacetGrid at 0x21a741d47a0>"
      ]
     },
     "execution_count": 43,
     "metadata": {},
     "output_type": "execute_result"
    },
    {
     "data": {
      "image/png": "[encoded data removed]",
      "text/plain": [
       "<Figure size 500x500 with 1 Axes>"
      ]
     },
     "metadata": {},
     "output_type": "display_data"
    }
   ],
   "source": [
    "sns.displot(data=training_data,x='Embarked')"
   ]
  },
  {
   "cell_type": "code",
   "execution_count": 44,
   "id": "ce9eaab6",
   "metadata": {
    "execution": {
     "iopub.execute_input": "2024-07-31T05:42:32.905702Z",
     "iopub.status.busy": "2024-07-31T05:42:32.905309Z",
     "iopub.status.idle": "2024-07-31T05:42:32.912523Z",
     "shell.execute_reply": "2024-07-31T05:42:32.911476Z"
    },
    "papermill": {
     "duration": 0.026359,
     "end_time": "2024-07-31T05:42:32.914997",
     "exception": false,
     "start_time": "2024-07-31T05:42:32.888638",
     "status": "completed"
    },
    "tags": []
   },
   "outputs": [],
   "source": [
    "embarked_mode = training_data['Embarked'].mode()[0]\n",
    "# Fill NaN values in 'Embarked' with the mode\n",
    "training_data['Embarked'].fillna(embarked_mode, inplace=True)"
   ]
  },
  {
   "cell_type": "code",
   "execution_count": 45,
   "id": "ffa747ee",
   "metadata": {
    "execution": {
     "iopub.execute_input": "2024-07-31T05:42:32.948091Z",
     "iopub.status.busy": "2024-07-31T05:42:32.947689Z",
     "iopub.status.idle": "2024-07-31T05:42:33.246271Z",
     "shell.execute_reply": "2024-07-31T05:42:33.244963Z"
    },
    "papermill": {
     "duration": 0.318472,
     "end_time": "2024-07-31T05:42:33.248969",
     "exception": false,
     "start_time": "2024-07-31T05:42:32.930497",
     "status": "completed"
    },
    "tags": []
   },
   "outputs": [
    {
     "data": {
      "text/plain": [
       "<Axes: xlabel='Survived', ylabel='count'>"
      ]
     },
     "execution_count": 45,
     "metadata": {},
     "output_type": "execute_result"
    },
    {
     "data": {
      "image/png": "[encoded data removed]",
      "text/plain": [
       "<Figure size 640x480 with 1 Axes>"
      ]
     },
     "metadata": {},
     "output_type": "display_data"
    }
   ],
   "source": [
    "sns.countplot(x='Survived',data=training_data,hue='Sex',palette='RdBu_r')"
   ]
  },
  {
   "cell_type": "code",
   "execution_count": 46,
   "id": "4cb9c37b",
   "metadata": {
    "execution": {
     "iopub.execute_input": "2024-07-31T05:42:33.284117Z",
     "iopub.status.busy": "2024-07-31T05:42:33.283307Z",
     "iopub.status.idle": "2024-07-31T05:42:33.574186Z",
     "shell.execute_reply": "2024-07-31T05:42:33.573172Z"
    },
    "papermill": {
     "duration": 0.31087,
     "end_time": "2024-07-31T05:42:33.576652",
     "exception": false,
     "start_time": "2024-07-31T05:42:33.265782",
     "status": "completed"
    },
    "tags": []
   },
   "outputs": [
    {
     "data": {
      "text/plain": [
       "<Axes: xlabel='Survived', ylabel='count'>"
      ]
     },
     "execution_count": 46,
     "metadata": {},
     "output_type": "execute_result"
    },
    {
     "data": {
      "image/png": "[encoded data removed]",
      "text/plain": [
       "<Figure size 640x480 with 1 Axes>"
      ]
     },
     "metadata": {},
     "output_type": "display_data"
    }
   ],
   "source": [
    "sns.countplot(x='Survived',data=training_data,hue='Pclass')"
   ]
  },
  {
   "cell_type": "code",
   "execution_count": 47,
   "id": "6d63a686",
   "metadata": {
    "execution": {
     "iopub.execute_input": "2024-07-31T05:42:33.612599Z",
     "iopub.status.busy": "2024-07-31T05:42:33.611696Z",
     "iopub.status.idle": "2024-07-31T05:42:34.351358Z",
     "shell.execute_reply": "2024-07-31T05:42:34.350167Z"
    },
    "papermill": {
     "duration": 0.760327,
     "end_time": "2024-07-31T05:42:34.353932",
     "exception": false,
     "start_time": "2024-07-31T05:42:33.593605",
     "status": "completed"
    },
    "tags": []
   },
   "outputs": [
    {
     "data": {
      "text/plain": [
       "<seaborn.axisgrid.FacetGrid at 0x21a79ec7620>"
      ]
     },
     "execution_count": 47,
     "metadata": {},
     "output_type": "execute_result"
    },
    {
     "data": {
      "image/png": "[encoded data removed]",
      "text/plain": [
       "<Figure size 500x500 with 1 Axes>"
      ]
     },
     "metadata": {},
     "output_type": "display_data"
    }
   ],
   "source": [
    "sns.displot(training_data['Age'],kde=False,bins=30)\n"
   ]
  },
  {
   "cell_type": "code",
   "execution_count": 48,
   "id": "4c642198",
   "metadata": {
    "execution": {
     "iopub.execute_input": "2024-07-31T05:42:34.392074Z",
     "iopub.status.busy": "2024-07-31T05:42:34.391066Z",
     "iopub.status.idle": "2024-07-31T05:42:34.960343Z",
     "shell.execute_reply": "2024-07-31T05:42:34.959169Z"
    },
    "papermill": {
     "duration": 0.591178,
     "end_time": "2024-07-31T05:42:34.962964",
     "exception": false,
     "start_time": "2024-07-31T05:42:34.371786",
     "status": "completed"
    },
    "tags": []
   },
   "outputs": [
    {
     "data": {
      "image/png": "[encoded data removed]",
      "text/plain": [
       "<Figure size 1000x600 with 1 Axes>"
      ]
     },
     "metadata": {},
     "output_type": "display_data"
    }
   ],
   "source": [
    "survived_fares = training_data[training_data['Survived'] == 1]['Fare']\n",
    "not_survived_fares = training_data[training_data['Survived'] == 0]['Fare']\n",
    "\n",
    "plt.figure(figsize=(10, 6))\n",
    "plt.hist([survived_fares, not_survived_fares], bins=40, color=['green', 'red'], label=['Survived', 'Not Survived'])\n",
    "plt.xlabel('Fare')\n",
    "plt.ylabel('Frequency')\n",
    "plt.title('Distribution of Fare by Survival')\n",
    "plt.legend()\n",
    "plt.show()"
   ]
  },
  {
   "cell_type": "code",
   "execution_count": 49,
   "id": "b7ba8d9a",
   "metadata": {
    "execution": {
     "iopub.execute_input": "2024-07-31T05:42:34.999757Z",
     "iopub.status.busy": "2024-07-31T05:42:34.999376Z",
     "iopub.status.idle": "2024-07-31T05:42:35.427939Z",
     "shell.execute_reply": "2024-07-31T05:42:35.426897Z"
    },
    "papermill": {
     "duration": 0.449975,
     "end_time": "2024-07-31T05:42:35.430455",
     "exception": false,
     "start_time": "2024-07-31T05:42:34.980480",
     "status": "completed"
    },
    "tags": []
   },
   "outputs": [
    {
     "data": {
      "text/plain": [
       "<Axes: xlabel='SibSp', ylabel='count'>"
      ]
     },
     "execution_count": 49,
     "metadata": {},
     "output_type": "execute_result"
    },
    {
     "data": {
      "image/png": "[encoded data removed]",
      "text/plain": [
       "<Figure size 640x480 with 1 Axes>"
      ]
     },
     "metadata": {},
     "output_type": "display_data"
    }
   ],
   "source": [
    "sns.countplot(x='SibSp',data=training_data,hue='Survived',palette='RdBu_r')"
   ]
  },
  {
   "cell_type": "code",
   "execution_count": 50,
   "id": "b28c8850",
   "metadata": {
    "execution": {
     "iopub.execute_input": "2024-07-31T05:42:35.468791Z",
     "iopub.status.busy": "2024-07-31T05:42:35.468365Z",
     "iopub.status.idle": "2024-07-31T05:42:35.874905Z",
     "shell.execute_reply": "2024-07-31T05:42:35.873842Z"
    },
    "papermill": {
     "duration": 0.428536,
     "end_time": "2024-07-31T05:42:35.877439",
     "exception": false,
     "start_time": "2024-07-31T05:42:35.448903",
     "status": "completed"
    },
    "tags": []
   },
   "outputs": [
    {
     "data": {
      "text/plain": [
       "<Axes: xlabel='Parch', ylabel='count'>"
      ]
     },
     "execution_count": 50,
     "metadata": {},
     "output_type": "execute_result"
    },
    {
     "data": {
      "image/png": "[encoded data removed]",
      "text/plain": [
       "<Figure size 640x480 with 1 Axes>"
      ]
     },
     "metadata": {},
     "output_type": "display_data"
    }
   ],
   "source": [
    "sns.countplot(x='Parch',data=training_data,hue='Survived',palette='RdBu_r')"
   ]
  },
  {
   "cell_type": "markdown",
   "id": "825b6b30",
   "metadata": {
    "papermill": {
     "duration": 0.018464,
     "end_time": "2024-07-31T05:42:35.914591",
     "exception": false,
     "start_time": "2024-07-31T05:42:35.896127",
     "status": "completed"
    },
    "tags": []
   },
   "source": [
    "## Data Cleaning and Preprocessing"
   ]
  },
  {
   "cell_type": "markdown",
   "id": "7e11a8ca",
   "metadata": {
    "papermill": {
     "duration": 0.018389,
     "end_time": "2024-07-31T05:42:35.951738",
     "exception": false,
     "start_time": "2024-07-31T05:42:35.933349",
     "status": "completed"
    },
    "tags": []
   },
   "source": [
    "### Checking for Nan Values "
   ]
  },
  {
   "cell_type": "code",
   "execution_count": 51,
   "id": "22a7cca8",
   "metadata": {
    "execution": {
     "iopub.execute_input": "2024-07-31T05:42:35.991309Z",
     "iopub.status.busy": "2024-07-31T05:42:35.990562Z",
     "iopub.status.idle": "2024-07-31T05:42:36.520685Z",
     "shell.execute_reply": "2024-07-31T05:42:36.519667Z"
    },
    "papermill": {
     "duration": 0.552854,
     "end_time": "2024-07-31T05:42:36.523346",
     "exception": false,
     "start_time": "2024-07-31T05:42:35.970492",
     "status": "completed"
    },
    "tags": []
   },
   "outputs": [
    {
     "data": {
      "text/plain": [
       "<Axes: >"
      ]
     },
     "execution_count": 51,
     "metadata": {},
     "output_type": "execute_result"
    },
    {
     "data": {
      "image/png": "[encoded data removed]",
      "text/plain": [
       "<Figure size 640x480 with 2 Axes>"
      ]
     },
     "metadata": {},
     "output_type": "display_data"
    }
   ],
   "source": [
    "sns.heatmap(training_data.isnull(),yticklabels=False,cmap=('viridis'))"
   ]
  },
  {
   "cell_type": "code",
   "execution_count": 52,
   "id": "e8f10a0e",
   "metadata": {
    "execution": {
     "iopub.execute_input": "2024-07-31T05:42:36.565014Z",
     "iopub.status.busy": "2024-07-31T05:42:36.564281Z",
     "iopub.status.idle": "2024-07-31T05:42:37.069403Z",
     "shell.execute_reply": "2024-07-31T05:42:37.068288Z"
    },
    "papermill": {
     "duration": 0.52969,
     "end_time": "2024-07-31T05:42:37.072078",
     "exception": false,
     "start_time": "2024-07-31T05:42:36.542388",
     "status": "completed"
    },
    "tags": []
   },
   "outputs": [
    {
     "data": {
      "text/plain": [
       "<Axes: >"
      ]
     },
     "execution_count": 52,
     "metadata": {},
     "output_type": "execute_result"
    },
    {
     "data": {
      "image/png": "[encoded data removed]",
      "text/plain": [
       "<Figure size 640x480 with 2 Axes>"
      ]
     },
     "metadata": {},
     "output_type": "display_data"
    }
   ],
   "source": [
    "sns.heatmap(test_data.isnull(),yticklabels=False,cmap=('viridis'))"
   ]
  },
  {
   "cell_type": "markdown",
   "id": "05afdf22",
   "metadata": {
    "papermill": {
     "duration": 0.077709,
     "end_time": "2024-07-31T05:42:37.169699",
     "exception": false,
     "start_time": "2024-07-31T05:42:37.091990",
     "status": "completed"
    },
    "tags": []
   },
   "source": [
    "## Feature Engineering\n",
    "Extract titles from passenger names and apply one-hot encoding.\n",
    "Drop unnecessary columns.\n"
   ]
  },
  {
   "cell_type": "markdown",
   "id": "3e411a69",
   "metadata": {
    "papermill": {
     "duration": 0.019588,
     "end_time": "2024-07-31T05:42:37.209150",
     "exception": false,
     "start_time": "2024-07-31T05:42:37.189562",
     "status": "completed"
    },
    "tags": []
   },
   "source": [
    "### Purpose:\n",
    "\n",
    "The below function preprocesses the Titanic dataset by extracting titles from passenger names and applying one-hot encoding to categorical features.\n",
    "### What and Why:\n",
    "- **Extract Titles**: Identifies social status, potentially affecting survival.\n",
    "- **One-Hot Encoding**: Converts categorical variables ('Title', 'Embarked', 'Sex', 'Pclass') into numerical format suitable for machine learning models.\n",
    "- **Drop Unnecessary Columns**: Removes original and irrelevant columns to clean the dataset.\n",
    "- The result is a numerically encoded DataFrame ready for modeling."
   ]
  },
  {
   "cell_type": "code",
   "execution_count": 53,
   "id": "6d0cfa27",
   "metadata": {
    "execution": {
     "iopub.execute_input": "2024-07-31T05:42:37.250982Z",
     "iopub.status.busy": "2024-07-31T05:42:37.250527Z",
     "iopub.status.idle": "2024-07-31T05:42:37.266380Z",
     "shell.execute_reply": "2024-07-31T05:42:37.265466Z"
    },
    "papermill": {
     "duration": 0.039874,
     "end_time": "2024-07-31T05:42:37.268774",
     "exception": false,
     "start_time": "2024-07-31T05:42:37.228900",
     "status": "completed"
    },
    "tags": []
   },
   "outputs": [],
   "source": [
    "def add_title_and_encode(data):\n",
    "    # Extract titles using a raw string for the regex pattern\n",
    "    data['Title'] = data.Name.str.extract(r' ([A-Za-z]+)\\.', expand=False)\n",
    "    print(data['Title'])\n",
    "    data.Title = data.Title.replace(['Lady', 'Countess','Capt', 'Col','Don', 'Dr', 'Major', \n",
    "                                     'Rev', 'Sir', 'Jonkheer', 'Dona'], 'Rare')\n",
    "    data.Title = data.Title.replace('Mlle', 'Miss')\n",
    "    data.Title = data.Title.replace('Ms', 'Miss')\n",
    "    data.Title = data.Title.replace('Mme', 'Mrs')\n",
    "    \n",
    "    # Apply OneHotEncoder to the 'Title' column\n",
    "    encoder_title = OneHotEncoder(sparse_output=False, drop='first')\n",
    "    title_encoded = encoder_title.fit_transform(data[['Title']])\n",
    "    \n",
    "    # Create a DataFrame with the encoded columns and appropriate column names\n",
    "    title_encoded_df = pd.DataFrame(title_encoded, columns=encoder_title.get_feature_names_out(['Title'])).astype(int)\n",
    "    \n",
    "    # Concatenate the original data with the new one-hot-encoded columns\n",
    "    data = pd.concat([data, title_encoded_df], axis=1)\n",
    "    \n",
    "    # Drop the original 'Title' column\n",
    "    data.drop('Title', axis=1, inplace=True)\n",
    "    \n",
    "    # Apply OneHotEncoder to the 'Embarked' column\n",
    "    encoder_embarked = OneHotEncoder(sparse_output=False, drop='first')\n",
    "    embarked_encoded = encoder_embarked.fit_transform(data[['Embarked']])\n",
    "    \n",
    "    # Create a DataFrame with the encoded columns and appropriate column names\n",
    "    embarked_encoded_df = pd.DataFrame(embarked_encoded, columns=encoder_embarked.get_feature_names_out(['Embarked'])).astype(int)\n",
    "    \n",
    "    # Concatenate the original data with the new one-hot-encoded columns\n",
    "    data = pd.concat([data, embarked_encoded_df], axis=1)\n",
    "    \n",
    "    # Apply OneHotEncoder to the 'Sex' column\n",
    "    encoder_Sex = OneHotEncoder(sparse_output=False, drop='first')\n",
    "    Sex_encoded = encoder_Sex.fit_transform(data[['Sex']])\n",
    "    \n",
    "    # Create a DataFrame with the encoded columns and appropriate column names\n",
    "    Sex_encoded_df = pd.DataFrame(Sex_encoded, columns=encoder_Sex.get_feature_names_out(['Sex'])).astype(int)\n",
    "    \n",
    "    # Concatenate the original data with the new one-hot-encoded columns\n",
    "    data = pd.concat([data, Sex_encoded_df], axis=1)\n",
    "    \n",
    "    # Apply OneHotEncoder to the 'Pclass' column\n",
    "    encoder_Pclass = OneHotEncoder(sparse_output=False, drop='first')\n",
    "    Pclass_encoded = encoder_Pclass.fit_transform(data[['Pclass']])\n",
    "    \n",
    "    # Create a DataFrame with the encoded columns and appropriate column names\n",
    "    Pclass_encoded_df = pd.DataFrame(Pclass_encoded, columns=encoder_Pclass.get_feature_names_out(['Pclass'])).astype(int)\n",
    "    \n",
    "    # Concatenate the original data with the new one-hot-encoded columns for Pclass\n",
    "    data = pd.concat([data, Pclass_encoded_df], axis=1)\n",
    "    \n",
    "    # Drop the original 'Sex', 'Pclass', 'Embarked', and other unnecessary columns\n",
    "    data.drop(['Sex', 'Pclass', 'Embarked', 'Name', 'PassengerId','Cabin','Ticket'], axis=1, inplace=True)\n",
    "    \n",
    "    return data\n"
   ]
  },
  {
   "cell_type": "code",
   "execution_count": 54,
   "id": "35cff4e8",
   "metadata": {},
   "outputs": [
    {
     "data": {
      "text/plain": [
       "0                                Braund, Mr. Owen Harris\n",
       "1      Cumings, Mrs. John Bradley (Florence Briggs Th...\n",
       "2                                 Heikkinen, Miss. Laina\n",
       "3           Futrelle, Mrs. Jacques Heath (Lily May Peel)\n",
       "4                               Allen, Mr. William Henry\n",
       "                             ...                        \n",
       "886                                Montvila, Rev. Juozas\n",
       "887                         Graham, Miss. Margaret Edith\n",
       "888             Johnston, Miss. Catherine Helen \"Carrie\"\n",
       "889                                Behr, Mr. Karl Howell\n",
       "890                                  Dooley, Mr. Patrick\n",
       "Name: Name, Length: 891, dtype: object"
      ]
     },
     "execution_count": 54,
     "metadata": {},
     "output_type": "execute_result"
    }
   ],
   "source": [
    "training_data['Name']"
   ]
  },
  {
   "cell_type": "markdown",
   "id": "fcdf5e32",
   "metadata": {
    "papermill": {
     "duration": 0.019785,
     "end_time": "2024-07-31T05:42:37.308579",
     "exception": false,
     "start_time": "2024-07-31T05:42:37.288794",
     "status": "completed"
    },
    "tags": []
   },
   "source": [
    "### New data fit for Modeling"
   ]
  },
  {
   "cell_type": "code",
   "execution_count": 55,
   "id": "59d59696",
   "metadata": {
    "execution": {
     "iopub.execute_input": "2024-07-31T05:42:37.350636Z",
     "iopub.status.busy": "2024-07-31T05:42:37.350197Z",
     "iopub.status.idle": "2024-07-31T05:42:37.399472Z",
     "shell.execute_reply": "2024-07-31T05:42:37.398448Z"
    },
    "papermill": {
     "duration": 0.073676,
     "end_time": "2024-07-31T05:42:37.402275",
     "exception": false,
     "start_time": "2024-07-31T05:42:37.328599",
     "status": "completed"
    },
    "tags": []
   },
   "outputs": [
    {
     "name": "stdout",
     "output_type": "stream",
     "text": [
      "0        Mr\n",
      "1       Mrs\n",
      "2      Miss\n",
      "3       Mrs\n",
      "4        Mr\n",
      "       ... \n",
      "886     Rev\n",
      "887    Miss\n",
      "888    Miss\n",
      "889      Mr\n",
      "890      Mr\n",
      "Name: Title, Length: 891, dtype: object\n",
      "0          Mr\n",
      "1         Mrs\n",
      "2          Mr\n",
      "3          Mr\n",
      "4         Mrs\n",
      "        ...  \n",
      "413        Mr\n",
      "414      Dona\n",
      "415        Mr\n",
      "416        Mr\n",
      "417    Master\n",
      "Name: Title, Length: 418, dtype: object\n"
     ]
    }
   ],
   "source": [
    "training_data=add_title_and_encode(training_data)\n",
    "test_data=add_title_and_encode(test_data)"
   ]
  },
  {
   "cell_type": "code",
   "execution_count": 56,
   "id": "1bccbd98",
   "metadata": {
    "execution": {
     "iopub.execute_input": "2024-07-31T05:42:37.444183Z",
     "iopub.status.busy": "2024-07-31T05:42:37.443317Z",
     "iopub.status.idle": "2024-07-31T05:42:37.459563Z",
     "shell.execute_reply": "2024-07-31T05:42:37.458412Z"
    },
    "papermill": {
     "duration": 0.039535,
     "end_time": "2024-07-31T05:42:37.461758",
     "exception": false,
     "start_time": "2024-07-31T05:42:37.422223",
     "status": "completed"
    },
    "tags": []
   },
   "outputs": [
    {
     "data": {
      "text/html": [
       "<div>\n",
       "<style scoped>\n",
       "    .dataframe tbody tr th:only-of-type {\n",
       "        vertical-align: middle;\n",
       "    }\n",
       "\n",
       "    .dataframe tbody tr th {\n",
       "        vertical-align: top;\n",
       "    }\n",
       "\n",
       "    .dataframe thead th {\n",
       "        text-align: right;\n",
       "    }\n",
       "</style>\n",
       "<table border=\"1\" class=\"dataframe\">\n",
       "  <thead>\n",
       "    <tr style=\"text-align: right;\">\n",
       "      <th></th>\n",
       "      <th>Age</th>\n",
       "      <th>SibSp</th>\n",
       "      <th>Parch</th>\n",
       "      <th>Fare</th>\n",
       "      <th>Title_Miss</th>\n",
       "      <th>Title_Mr</th>\n",
       "      <th>Title_Mrs</th>\n",
       "      <th>Title_Rare</th>\n",
       "      <th>Embarked_Q</th>\n",
       "      <th>Embarked_S</th>\n",
       "      <th>Sex_male</th>\n",
       "      <th>Pclass_2</th>\n",
       "      <th>Pclass_3</th>\n",
       "    </tr>\n",
       "  </thead>\n",
       "  <tbody>\n",
       "    <tr>\n",
       "      <th>0</th>\n",
       "      <td>34.5</td>\n",
       "      <td>0</td>\n",
       "      <td>0</td>\n",
       "      <td>7.8292</td>\n",
       "      <td>0</td>\n",
       "      <td>1</td>\n",
       "      <td>0</td>\n",
       "      <td>0</td>\n",
       "      <td>1</td>\n",
       "      <td>0</td>\n",
       "      <td>1</td>\n",
       "      <td>0</td>\n",
       "      <td>1</td>\n",
       "    </tr>\n",
       "    <tr>\n",
       "      <th>1</th>\n",
       "      <td>47.0</td>\n",
       "      <td>1</td>\n",
       "      <td>0</td>\n",
       "      <td>7.0000</td>\n",
       "      <td>0</td>\n",
       "      <td>0</td>\n",
       "      <td>1</td>\n",
       "      <td>0</td>\n",
       "      <td>0</td>\n",
       "      <td>1</td>\n",
       "      <td>0</td>\n",
       "      <td>0</td>\n",
       "      <td>1</td>\n",
       "    </tr>\n",
       "    <tr>\n",
       "      <th>2</th>\n",
       "      <td>62.0</td>\n",
       "      <td>0</td>\n",
       "      <td>0</td>\n",
       "      <td>9.6875</td>\n",
       "      <td>0</td>\n",
       "      <td>1</td>\n",
       "      <td>0</td>\n",
       "      <td>0</td>\n",
       "      <td>1</td>\n",
       "      <td>0</td>\n",
       "      <td>1</td>\n",
       "      <td>1</td>\n",
       "      <td>0</td>\n",
       "    </tr>\n",
       "    <tr>\n",
       "      <th>3</th>\n",
       "      <td>27.0</td>\n",
       "      <td>0</td>\n",
       "      <td>0</td>\n",
       "      <td>8.6625</td>\n",
       "      <td>0</td>\n",
       "      <td>1</td>\n",
       "      <td>0</td>\n",
       "      <td>0</td>\n",
       "      <td>0</td>\n",
       "      <td>1</td>\n",
       "      <td>1</td>\n",
       "      <td>0</td>\n",
       "      <td>1</td>\n",
       "    </tr>\n",
       "    <tr>\n",
       "      <th>4</th>\n",
       "      <td>22.0</td>\n",
       "      <td>1</td>\n",
       "      <td>1</td>\n",
       "      <td>12.2875</td>\n",
       "      <td>0</td>\n",
       "      <td>0</td>\n",
       "      <td>1</td>\n",
       "      <td>0</td>\n",
       "      <td>0</td>\n",
       "      <td>1</td>\n",
       "      <td>0</td>\n",
       "      <td>0</td>\n",
       "      <td>1</td>\n",
       "    </tr>\n",
       "  </tbody>\n",
       "</table>\n",
       "</div>"
      ],
      "text/plain": [
       "    Age  SibSp  Parch     Fare  Title_Miss  Title_Mr  Title_Mrs  Title_Rare  \\\n",
       "0  34.5      0      0   7.8292           0         1          0           0   \n",
       "1  47.0      1      0   7.0000           0         0          1           0   \n",
       "2  62.0      0      0   9.6875           0         1          0           0   \n",
       "3  27.0      0      0   8.6625           0         1          0           0   \n",
       "4  22.0      1      1  12.2875           0         0          1           0   \n",
       "\n",
       "   Embarked_Q  Embarked_S  Sex_male  Pclass_2  Pclass_3  \n",
       "0           1           0         1         0         1  \n",
       "1           0           1         0         0         1  \n",
       "2           1           0         1         1         0  \n",
       "3           0           1         1         0         1  \n",
       "4           0           1         0         0         1  "
      ]
     },
     "execution_count": 56,
     "metadata": {},
     "output_type": "execute_result"
    }
   ],
   "source": [
    "test_data.head()"
   ]
  },
  {
   "cell_type": "code",
   "execution_count": 57,
   "id": "931fdbe4",
   "metadata": {
    "execution": {
     "iopub.execute_input": "2024-07-31T05:42:37.505016Z",
     "iopub.status.busy": "2024-07-31T05:42:37.504600Z",
     "iopub.status.idle": "2024-07-31T05:42:37.520094Z",
     "shell.execute_reply": "2024-07-31T05:42:37.519053Z"
    },
    "papermill": {
     "duration": 0.040439,
     "end_time": "2024-07-31T05:42:37.522771",
     "exception": false,
     "start_time": "2024-07-31T05:42:37.482332",
     "status": "completed"
    },
    "tags": []
   },
   "outputs": [
    {
     "data": {
      "text/html": [
       "<div>\n",
       "<style scoped>\n",
       "    .dataframe tbody tr th:only-of-type {\n",
       "        vertical-align: middle;\n",
       "    }\n",
       "\n",
       "    .dataframe tbody tr th {\n",
       "        vertical-align: top;\n",
       "    }\n",
       "\n",
       "    .dataframe thead th {\n",
       "        text-align: right;\n",
       "    }\n",
       "</style>\n",
       "<table border=\"1\" class=\"dataframe\">\n",
       "  <thead>\n",
       "    <tr style=\"text-align: right;\">\n",
       "      <th></th>\n",
       "      <th>Survived</th>\n",
       "      <th>Age</th>\n",
       "      <th>SibSp</th>\n",
       "      <th>Parch</th>\n",
       "      <th>Fare</th>\n",
       "      <th>Title_Miss</th>\n",
       "      <th>Title_Mr</th>\n",
       "      <th>Title_Mrs</th>\n",
       "      <th>Title_Rare</th>\n",
       "      <th>Embarked_Q</th>\n",
       "      <th>Embarked_S</th>\n",
       "      <th>Sex_male</th>\n",
       "      <th>Pclass_2</th>\n",
       "      <th>Pclass_3</th>\n",
       "    </tr>\n",
       "  </thead>\n",
       "  <tbody>\n",
       "    <tr>\n",
       "      <th>0</th>\n",
       "      <td>0</td>\n",
       "      <td>22.0</td>\n",
       "      <td>1</td>\n",
       "      <td>0</td>\n",
       "      <td>7.2500</td>\n",
       "      <td>0</td>\n",
       "      <td>1</td>\n",
       "      <td>0</td>\n",
       "      <td>0</td>\n",
       "      <td>0</td>\n",
       "      <td>1</td>\n",
       "      <td>1</td>\n",
       "      <td>0</td>\n",
       "      <td>1</td>\n",
       "    </tr>\n",
       "    <tr>\n",
       "      <th>1</th>\n",
       "      <td>1</td>\n",
       "      <td>38.0</td>\n",
       "      <td>1</td>\n",
       "      <td>0</td>\n",
       "      <td>71.2833</td>\n",
       "      <td>0</td>\n",
       "      <td>0</td>\n",
       "      <td>1</td>\n",
       "      <td>0</td>\n",
       "      <td>0</td>\n",
       "      <td>0</td>\n",
       "      <td>0</td>\n",
       "      <td>0</td>\n",
       "      <td>0</td>\n",
       "    </tr>\n",
       "    <tr>\n",
       "      <th>2</th>\n",
       "      <td>1</td>\n",
       "      <td>26.0</td>\n",
       "      <td>0</td>\n",
       "      <td>0</td>\n",
       "      <td>7.9250</td>\n",
       "      <td>1</td>\n",
       "      <td>0</td>\n",
       "      <td>0</td>\n",
       "      <td>0</td>\n",
       "      <td>0</td>\n",
       "      <td>1</td>\n",
       "      <td>0</td>\n",
       "      <td>0</td>\n",
       "      <td>1</td>\n",
       "    </tr>\n",
       "    <tr>\n",
       "      <th>3</th>\n",
       "      <td>1</td>\n",
       "      <td>35.0</td>\n",
       "      <td>1</td>\n",
       "      <td>0</td>\n",
       "      <td>53.1000</td>\n",
       "      <td>0</td>\n",
       "      <td>0</td>\n",
       "      <td>1</td>\n",
       "      <td>0</td>\n",
       "      <td>0</td>\n",
       "      <td>1</td>\n",
       "      <td>0</td>\n",
       "      <td>0</td>\n",
       "      <td>0</td>\n",
       "    </tr>\n",
       "    <tr>\n",
       "      <th>4</th>\n",
       "      <td>0</td>\n",
       "      <td>35.0</td>\n",
       "      <td>0</td>\n",
       "      <td>0</td>\n",
       "      <td>8.0500</td>\n",
       "      <td>0</td>\n",
       "      <td>1</td>\n",
       "      <td>0</td>\n",
       "      <td>0</td>\n",
       "      <td>0</td>\n",
       "      <td>1</td>\n",
       "      <td>1</td>\n",
       "      <td>0</td>\n",
       "      <td>1</td>\n",
       "    </tr>\n",
       "  </tbody>\n",
       "</table>\n",
       "</div>"
      ],
      "text/plain": [
       "   Survived   Age  SibSp  Parch     Fare  Title_Miss  Title_Mr  Title_Mrs  \\\n",
       "0         0  22.0      1      0   7.2500           0         1          0   \n",
       "1         1  38.0      1      0  71.2833           0         0          1   \n",
       "2         1  26.0      0      0   7.9250           1         0          0   \n",
       "3         1  35.0      1      0  53.1000           0         0          1   \n",
       "4         0  35.0      0      0   8.0500           0         1          0   \n",
       "\n",
       "   Title_Rare  Embarked_Q  Embarked_S  Sex_male  Pclass_2  Pclass_3  \n",
       "0           0           0           1         1         0         1  \n",
       "1           0           0           0         0         0         0  \n",
       "2           0           0           1         0         0         1  \n",
       "3           0           0           1         0         0         0  \n",
       "4           0           0           1         1         0         1  "
      ]
     },
     "execution_count": 57,
     "metadata": {},
     "output_type": "execute_result"
    }
   ],
   "source": [
    "training_data.head()"
   ]
  },
  {
   "cell_type": "markdown",
   "id": "cae42fe8",
   "metadata": {
    "papermill": {
     "duration": 0.021995,
     "end_time": "2024-07-31T05:42:37.565416",
     "exception": false,
     "start_time": "2024-07-31T05:42:37.543421",
     "status": "completed"
    },
    "tags": []
   },
   "source": [
    "## Filling NaN Values"
   ]
  },
  {
   "cell_type": "code",
   "execution_count": 58,
   "id": "614ddc51",
   "metadata": {
    "execution": {
     "iopub.execute_input": "2024-07-31T05:42:37.608333Z",
     "iopub.status.busy": "2024-07-31T05:42:37.607909Z",
     "iopub.status.idle": "2024-07-31T05:42:37.615526Z",
     "shell.execute_reply": "2024-07-31T05:42:37.614270Z"
    },
    "papermill": {
     "duration": 0.031933,
     "end_time": "2024-07-31T05:42:37.617983",
     "exception": false,
     "start_time": "2024-07-31T05:42:37.586050",
     "status": "completed"
    },
    "tags": []
   },
   "outputs": [],
   "source": [
    "test_data['Fare'] = test_data['Fare'].fillna(np.mean(test_data['Fare']))\n",
    "training_data['Fare'] = training_data['Fare'].fillna(np.mean(training_data['Fare']))"
   ]
  },
  {
   "cell_type": "code",
   "execution_count": 59,
   "id": "5f9e8933",
   "metadata": {},
   "outputs": [],
   "source": [
    "def fill_age_based_on_title(data):\n",
    "    # Calculate median age for different encoded titles\n",
    "    median_ages = data.groupby(['Title_Miss', 'Title_Mr', 'Title_Mrs', 'Title_Rare'])['Age'].median()\n",
    "    \n",
    "    # Iterate over the dataset and fill missing Age values based on the calculated medians\n",
    "    for index, row in data.iterrows():\n",
    "        if pd.isnull(row['Age']):\n",
    "            # Create a tuple of encoded title features\n",
    "            encoded_titles = (row['Title_Miss'], row['Title_Mr'], row['Title_Mrs'], row['Title_Rare'])\n",
    "            median_age = median_ages.loc[encoded_titles]\n",
    "            \n",
    "            # Generate a random age within ±2 years around the median age\n",
    "            random_age = np.random.uniform(median_age - 2, median_age + 2)\n",
    "            data.at[index, 'Age'] = random_age\n",
    "    \n",
    "    return data\n",
    "\n",
    "# Apply the function to both training and test data\n",
    "training_data = fill_age_based_on_title(training_data)\n",
    "test_data = fill_age_based_on_title(test_data)"
   ]
  },
  {
   "cell_type": "code",
   "execution_count": 60,
   "id": "6f118b3b",
   "metadata": {
    "execution": {
     "iopub.execute_input": "2024-07-31T05:42:37.660654Z",
     "iopub.status.busy": "2024-07-31T05:42:37.660241Z",
     "iopub.status.idle": "2024-07-31T05:42:38.232731Z",
     "shell.execute_reply": "2024-07-31T05:42:38.231615Z"
    },
    "papermill": {
     "duration": 0.596441,
     "end_time": "2024-07-31T05:42:38.235071",
     "exception": false,
     "start_time": "2024-07-31T05:42:37.638630",
     "status": "completed"
    },
    "tags": []
   },
   "outputs": [
    {
     "data": {
      "text/plain": [
       "<Axes: >"
      ]
     },
     "execution_count": 60,
     "metadata": {},
     "output_type": "execute_result"
    },
    {
     "data": {
      "image/png": "[encoded data removed]",
      "text/plain": [
       "<Figure size 640x480 with 2 Axes>"
      ]
     },
     "metadata": {},
     "output_type": "display_data"
    }
   ],
   "source": [
    "sns.heatmap(test_data.isnull(),yticklabels=False,cmap=('viridis'))"
   ]
  },
  {
   "cell_type": "code",
   "execution_count": 61,
   "id": "9f8f3304",
   "metadata": {
    "execution": {
     "iopub.execute_input": "2024-07-31T05:42:38.279842Z",
     "iopub.status.busy": "2024-07-31T05:42:38.279423Z",
     "iopub.status.idle": "2024-07-31T05:42:38.979158Z",
     "shell.execute_reply": "2024-07-31T05:42:38.978185Z"
    },
    "papermill": {
     "duration": 0.725816,
     "end_time": "2024-07-31T05:42:38.981987",
     "exception": false,
     "start_time": "2024-07-31T05:42:38.256171",
     "status": "completed"
    },
    "tags": []
   },
   "outputs": [
    {
     "data": {
      "text/plain": [
       "<Axes: >"
      ]
     },
     "execution_count": 61,
     "metadata": {},
     "output_type": "execute_result"
    },
    {
     "data": {
      "image/png": "[encoded data removed]",
      "text/plain": [
       "<Figure size 640x480 with 2 Axes>"
      ]
     },
     "metadata": {},
     "output_type": "display_data"
    }
   ],
   "source": [
    "sns.heatmap(training_data.isnull(),yticklabels=False,cmap=('viridis'))"
   ]
  },
  {
   "cell_type": "code",
   "execution_count": 62,
   "id": "a56b554b",
   "metadata": {
    "execution": {
     "iopub.execute_input": "2024-07-31T05:42:39.027985Z",
     "iopub.status.busy": "2024-07-31T05:42:39.026986Z",
     "iopub.status.idle": "2024-07-31T05:42:39.041191Z",
     "shell.execute_reply": "2024-07-31T05:42:39.040163Z"
    },
    "papermill": {
     "duration": 0.039828,
     "end_time": "2024-07-31T05:42:39.043591",
     "exception": false,
     "start_time": "2024-07-31T05:42:39.003763",
     "status": "completed"
    },
    "tags": []
   },
   "outputs": [],
   "source": [
    "def add_features(data):\n",
    "    # Family Size\n",
    "    data['FamilySize'] = data['SibSp'] + data['Parch'] + 1\n",
    "    data['IsAlone'] = 1\n",
    "    data['IsAlone'].loc[data['FamilySize'] > 1] = 0\n",
    "\n",
    "    data['FarePerPerson'] = data['Fare'] / data['FamilySize']\n",
    "    data.drop('Fare', axis=1, inplace=True)\n",
    "    \n",
    "    return data\n",
    "\n",
    "training_data = add_features(training_data)\n",
    "test_data = add_features(test_data)"
   ]
  },
  {
   "cell_type": "code",
   "execution_count": 63,
   "id": "d2f53faf",
   "metadata": {
    "execution": {
     "iopub.execute_input": "2024-07-31T05:42:39.091085Z",
     "iopub.status.busy": "2024-07-31T05:42:39.090638Z",
     "iopub.status.idle": "2024-07-31T05:42:39.662024Z",
     "shell.execute_reply": "2024-07-31T05:42:39.660998Z"
    },
    "papermill": {
     "duration": 0.598411,
     "end_time": "2024-07-31T05:42:39.664606",
     "exception": false,
     "start_time": "2024-07-31T05:42:39.066195",
     "status": "completed"
    },
    "tags": []
   },
   "outputs": [
    {
     "data": {
      "text/plain": [
       "<Axes: >"
      ]
     },
     "execution_count": 63,
     "metadata": {},
     "output_type": "execute_result"
    },
    {
     "data": {
      "image/png": "[encoded data removed]",
      "text/plain": [
       "<Figure size 3000x300 with 2 Axes>"
      ]
     },
     "metadata": {},
     "output_type": "display_data"
    }
   ],
   "source": [
    "training_data.drop(['Title_Rare','FamilySize','Title_Mr','Pclass_2','Title_Miss'], axis=1, inplace=True)\n",
    "test_data.drop(['Title_Rare','FamilySize','Title_Mr','Pclass_2','Title_Miss'], axis=1, inplace=True)\n",
    "plt.figure(figsize=(30,3))\n",
    "sns.heatmap(training_data.corr()[0:1],annot=True,cmap=\"coolwarm\")"
   ]
  },
  {
   "cell_type": "code",
   "execution_count": 64,
   "id": "d7ff1c5b",
   "metadata": {
    "execution": {
     "iopub.execute_input": "2024-07-31T05:42:39.712871Z",
     "iopub.status.busy": "2024-07-31T05:42:39.712464Z",
     "iopub.status.idle": "2024-07-31T05:42:39.726978Z",
     "shell.execute_reply": "2024-07-31T05:42:39.725953Z"
    },
    "papermill": {
     "duration": 0.042798,
     "end_time": "2024-07-31T05:42:39.729481",
     "exception": false,
     "start_time": "2024-07-31T05:42:39.686683",
     "status": "completed"
    },
    "tags": []
   },
   "outputs": [
    {
     "data": {
      "text/html": [
       "<div>\n",
       "<style scoped>\n",
       "    .dataframe tbody tr th:only-of-type {\n",
       "        vertical-align: middle;\n",
       "    }\n",
       "\n",
       "    .dataframe tbody tr th {\n",
       "        vertical-align: top;\n",
       "    }\n",
       "\n",
       "    .dataframe thead th {\n",
       "        text-align: right;\n",
       "    }\n",
       "</style>\n",
       "<table border=\"1\" class=\"dataframe\">\n",
       "  <thead>\n",
       "    <tr style=\"text-align: right;\">\n",
       "      <th></th>\n",
       "      <th>Survived</th>\n",
       "      <th>Age</th>\n",
       "      <th>SibSp</th>\n",
       "      <th>Parch</th>\n",
       "      <th>Title_Mrs</th>\n",
       "      <th>Embarked_Q</th>\n",
       "      <th>Embarked_S</th>\n",
       "      <th>Sex_male</th>\n",
       "      <th>Pclass_3</th>\n",
       "      <th>IsAlone</th>\n",
       "      <th>FarePerPerson</th>\n",
       "    </tr>\n",
       "  </thead>\n",
       "  <tbody>\n",
       "    <tr>\n",
       "      <th>0</th>\n",
       "      <td>0</td>\n",
       "      <td>22.0</td>\n",
       "      <td>1</td>\n",
       "      <td>0</td>\n",
       "      <td>0</td>\n",
       "      <td>0</td>\n",
       "      <td>1</td>\n",
       "      <td>1</td>\n",
       "      <td>1</td>\n",
       "      <td>0</td>\n",
       "      <td>3.62500</td>\n",
       "    </tr>\n",
       "    <tr>\n",
       "      <th>1</th>\n",
       "      <td>1</td>\n",
       "      <td>38.0</td>\n",
       "      <td>1</td>\n",
       "      <td>0</td>\n",
       "      <td>1</td>\n",
       "      <td>0</td>\n",
       "      <td>0</td>\n",
       "      <td>0</td>\n",
       "      <td>0</td>\n",
       "      <td>0</td>\n",
       "      <td>35.64165</td>\n",
       "    </tr>\n",
       "    <tr>\n",
       "      <th>2</th>\n",
       "      <td>1</td>\n",
       "      <td>26.0</td>\n",
       "      <td>0</td>\n",
       "      <td>0</td>\n",
       "      <td>0</td>\n",
       "      <td>0</td>\n",
       "      <td>1</td>\n",
       "      <td>0</td>\n",
       "      <td>1</td>\n",
       "      <td>1</td>\n",
       "      <td>7.92500</td>\n",
       "    </tr>\n",
       "    <tr>\n",
       "      <th>3</th>\n",
       "      <td>1</td>\n",
       "      <td>35.0</td>\n",
       "      <td>1</td>\n",
       "      <td>0</td>\n",
       "      <td>1</td>\n",
       "      <td>0</td>\n",
       "      <td>1</td>\n",
       "      <td>0</td>\n",
       "      <td>0</td>\n",
       "      <td>0</td>\n",
       "      <td>26.55000</td>\n",
       "    </tr>\n",
       "    <tr>\n",
       "      <th>4</th>\n",
       "      <td>0</td>\n",
       "      <td>35.0</td>\n",
       "      <td>0</td>\n",
       "      <td>0</td>\n",
       "      <td>0</td>\n",
       "      <td>0</td>\n",
       "      <td>1</td>\n",
       "      <td>1</td>\n",
       "      <td>1</td>\n",
       "      <td>1</td>\n",
       "      <td>8.05000</td>\n",
       "    </tr>\n",
       "  </tbody>\n",
       "</table>\n",
       "</div>"
      ],
      "text/plain": [
       "   Survived   Age  SibSp  Parch  Title_Mrs  Embarked_Q  Embarked_S  Sex_male  \\\n",
       "0         0  22.0      1      0          0           0           1         1   \n",
       "1         1  38.0      1      0          1           0           0         0   \n",
       "2         1  26.0      0      0          0           0           1         0   \n",
       "3         1  35.0      1      0          1           0           1         0   \n",
       "4         0  35.0      0      0          0           0           1         1   \n",
       "\n",
       "   Pclass_3  IsAlone  FarePerPerson  \n",
       "0         1        0        3.62500  \n",
       "1         0        0       35.64165  \n",
       "2         1        1        7.92500  \n",
       "3         0        0       26.55000  \n",
       "4         1        1        8.05000  "
      ]
     },
     "execution_count": 64,
     "metadata": {},
     "output_type": "execute_result"
    }
   ],
   "source": [
    "training_data.head()"
   ]
  },
  {
   "cell_type": "code",
   "execution_count": 65,
   "id": "4b345e3e",
   "metadata": {
    "execution": {
     "iopub.execute_input": "2024-07-31T05:42:39.776740Z",
     "iopub.status.busy": "2024-07-31T05:42:39.776323Z",
     "iopub.status.idle": "2024-07-31T05:42:39.789629Z",
     "shell.execute_reply": "2024-07-31T05:42:39.788574Z"
    },
    "papermill": {
     "duration": 0.039613,
     "end_time": "2024-07-31T05:42:39.791900",
     "exception": false,
     "start_time": "2024-07-31T05:42:39.752287",
     "status": "completed"
    },
    "tags": []
   },
   "outputs": [
    {
     "data": {
      "text/html": [
       "<div>\n",
       "<style scoped>\n",
       "    .dataframe tbody tr th:only-of-type {\n",
       "        vertical-align: middle;\n",
       "    }\n",
       "\n",
       "    .dataframe tbody tr th {\n",
       "        vertical-align: top;\n",
       "    }\n",
       "\n",
       "    .dataframe thead th {\n",
       "        text-align: right;\n",
       "    }\n",
       "</style>\n",
       "<table border=\"1\" class=\"dataframe\">\n",
       "  <thead>\n",
       "    <tr style=\"text-align: right;\">\n",
       "      <th></th>\n",
       "      <th>Age</th>\n",
       "      <th>SibSp</th>\n",
       "      <th>Parch</th>\n",
       "      <th>Title_Mrs</th>\n",
       "      <th>Embarked_Q</th>\n",
       "      <th>Embarked_S</th>\n",
       "      <th>Sex_male</th>\n",
       "      <th>Pclass_3</th>\n",
       "      <th>IsAlone</th>\n",
       "      <th>FarePerPerson</th>\n",
       "    </tr>\n",
       "  </thead>\n",
       "  <tbody>\n",
       "    <tr>\n",
       "      <th>0</th>\n",
       "      <td>34.5</td>\n",
       "      <td>0</td>\n",
       "      <td>0</td>\n",
       "      <td>0</td>\n",
       "      <td>1</td>\n",
       "      <td>0</td>\n",
       "      <td>1</td>\n",
       "      <td>1</td>\n",
       "      <td>1</td>\n",
       "      <td>7.829200</td>\n",
       "    </tr>\n",
       "    <tr>\n",
       "      <th>1</th>\n",
       "      <td>47.0</td>\n",
       "      <td>1</td>\n",
       "      <td>0</td>\n",
       "      <td>1</td>\n",
       "      <td>0</td>\n",
       "      <td>1</td>\n",
       "      <td>0</td>\n",
       "      <td>1</td>\n",
       "      <td>0</td>\n",
       "      <td>3.500000</td>\n",
       "    </tr>\n",
       "    <tr>\n",
       "      <th>2</th>\n",
       "      <td>62.0</td>\n",
       "      <td>0</td>\n",
       "      <td>0</td>\n",
       "      <td>0</td>\n",
       "      <td>1</td>\n",
       "      <td>0</td>\n",
       "      <td>1</td>\n",
       "      <td>0</td>\n",
       "      <td>1</td>\n",
       "      <td>9.687500</td>\n",
       "    </tr>\n",
       "    <tr>\n",
       "      <th>3</th>\n",
       "      <td>27.0</td>\n",
       "      <td>0</td>\n",
       "      <td>0</td>\n",
       "      <td>0</td>\n",
       "      <td>0</td>\n",
       "      <td>1</td>\n",
       "      <td>1</td>\n",
       "      <td>1</td>\n",
       "      <td>1</td>\n",
       "      <td>8.662500</td>\n",
       "    </tr>\n",
       "    <tr>\n",
       "      <th>4</th>\n",
       "      <td>22.0</td>\n",
       "      <td>1</td>\n",
       "      <td>1</td>\n",
       "      <td>1</td>\n",
       "      <td>0</td>\n",
       "      <td>1</td>\n",
       "      <td>0</td>\n",
       "      <td>1</td>\n",
       "      <td>0</td>\n",
       "      <td>4.095833</td>\n",
       "    </tr>\n",
       "  </tbody>\n",
       "</table>\n",
       "</div>"
      ],
      "text/plain": [
       "    Age  SibSp  Parch  Title_Mrs  Embarked_Q  Embarked_S  Sex_male  Pclass_3  \\\n",
       "0  34.5      0      0          0           1           0         1         1   \n",
       "1  47.0      1      0          1           0           1         0         1   \n",
       "2  62.0      0      0          0           1           0         1         0   \n",
       "3  27.0      0      0          0           0           1         1         1   \n",
       "4  22.0      1      1          1           0           1         0         1   \n",
       "\n",
       "   IsAlone  FarePerPerson  \n",
       "0        1       7.829200  \n",
       "1        0       3.500000  \n",
       "2        1       9.687500  \n",
       "3        1       8.662500  \n",
       "4        0       4.095833  "
      ]
     },
     "execution_count": 65,
     "metadata": {},
     "output_type": "execute_result"
    }
   ],
   "source": [
    "test_data.head()"
   ]
  },
  {
   "cell_type": "markdown",
   "id": "e6b2293e",
   "metadata": {
    "papermill": {
     "duration": 0.02217,
     "end_time": "2024-07-31T05:42:39.837123",
     "exception": false,
     "start_time": "2024-07-31T05:42:39.814953",
     "status": "completed"
    },
    "tags": []
   },
   "source": [
    "## Splitting Data"
   ]
  },
  {
   "cell_type": "code",
   "execution_count": 66,
   "id": "84c9696d",
   "metadata": {
    "execution": {
     "iopub.execute_input": "2024-07-31T05:42:39.884050Z",
     "iopub.status.busy": "2024-07-31T05:42:39.883591Z",
     "iopub.status.idle": "2024-07-31T05:42:39.896181Z",
     "shell.execute_reply": "2024-07-31T05:42:39.894871Z"
    },
    "papermill": {
     "duration": 0.038731,
     "end_time": "2024-07-31T05:42:39.898543",
     "exception": false,
     "start_time": "2024-07-31T05:42:39.859812",
     "status": "completed"
    },
    "tags": []
   },
   "outputs": [
    {
     "name": "stdout",
     "output_type": "stream",
     "text": [
      "(891,)\n",
      "(891, 10)\n"
     ]
    },
    {
     "data": {
      "text/plain": [
       "Age              0\n",
       "SibSp            0\n",
       "Parch            0\n",
       "Title_Mrs        0\n",
       "Embarked_Q       0\n",
       "Embarked_S       0\n",
       "Sex_male         0\n",
       "Pclass_3         0\n",
       "IsAlone          0\n",
       "FarePerPerson    0\n",
       "dtype: int64"
      ]
     },
     "execution_count": 66,
     "metadata": {},
     "output_type": "execute_result"
    }
   ],
   "source": [
    "X_train = training_data.drop('Survived', axis=1)  # Features\n",
    "y_train = training_data['Survived']  # Target\n",
    "print(y_train.shape)\n",
    "print(X_train.shape)\n",
    "X_train.isnull().sum()"
   ]
  },
  {
   "cell_type": "markdown",
   "id": "088d9635",
   "metadata": {
    "papermill": {
     "duration": 0.023042,
     "end_time": "2024-07-31T05:42:39.944864",
     "exception": false,
     "start_time": "2024-07-31T05:42:39.921822",
     "status": "completed"
    },
    "tags": []
   },
   "source": [
    "## Using LightGBM"
   ]
  },
  {
   "cell_type": "code",
   "execution_count": 67,
   "id": "5bdb26ec",
   "metadata": {
    "execution": {
     "iopub.execute_input": "2024-07-31T05:42:39.993132Z",
     "iopub.status.busy": "2024-07-31T05:42:39.992224Z",
     "iopub.status.idle": "2024-07-31T05:42:41.551622Z",
     "shell.execute_reply": "2024-07-31T05:42:41.550309Z"
    },
    "papermill": {
     "duration": 1.586669,
     "end_time": "2024-07-31T05:42:41.554223",
     "exception": false,
     "start_time": "2024-07-31T05:42:39.967554",
     "status": "completed"
    },
    "tags": []
   },
   "outputs": [
    {
     "name": "stdout",
     "output_type": "stream",
     "text": [
      "Training until validation scores don't improve for 10 rounds\n",
      "Early stopping, best iteration is:\n",
      "[27]\tvalid_0's auc: 0.899678\n",
      "Training until validation scores don't improve for 10 rounds\n",
      "Early stopping, best iteration is:\n",
      "[16]\tvalid_0's auc: 0.852763\n",
      "Training until validation scores don't improve for 10 rounds\n",
      "Early stopping, best iteration is:\n",
      "[8]\tvalid_0's auc: 0.927381\n",
      "Training until validation scores don't improve for 10 rounds\n"
     ]
    },
    {
     "name": "stdout",
     "output_type": "stream",
     "text": [
      "Early stopping, best iteration is:\n",
      "[1]\tvalid_0's auc: 0.835768\n",
      "Training until validation scores don't improve for 10 rounds\n",
      "Early stopping, best iteration is:\n",
      "[2]\tvalid_0's auc: 0.883254\n",
      "Cross-validation ROC AUC scores: [0.8996782496782497, 0.8527632109721662, 0.9273809523809524, 0.8357683982683982, 0.8832539142273655]\n",
      "Average cross-validation ROC AUC score: 0.8798\n"
     ]
    },
    {
     "data": {
      "text/html": [
       "<style>#sk-container-id-2 {\n",
       "  /* Definition of color scheme common for light and dark mode */\n",
       "  --sklearn-color-text: black;\n",
       "  --sklearn-color-line: gray;\n",
       "  /* Definition of color scheme for unfitted estimators */\n",
       "  --sklearn-color-unfitted-level-0: #fff5e6;\n",
       "  --sklearn-color-unfitted-level-1: #f6e4d2;\n",
       "  --sklearn-color-unfitted-level-2: #ffe0b3;\n",
       "  --sklearn-color-unfitted-level-3: chocolate;\n",
       "  /* Definition of color scheme for fitted estimators */\n",
       "  --sklearn-color-fitted-level-0: #f0f8ff;\n",
       "  --sklearn-color-fitted-level-1: #d4ebff;\n",
       "  --sklearn-color-fitted-level-2: #b3dbfd;\n",
       "  --sklearn-color-fitted-level-3: cornflowerblue;\n",
       "\n",
       "  /* Specific color for light theme */\n",
       "  --sklearn-color-text-on-default-background: var(--sg-text-color, var(--theme-code-foreground, var(--jp-content-font-color1, black)));\n",
       "  --sklearn-color-background: var(--sg-background-color, var(--theme-background, var(--jp-layout-color0, white)));\n",
       "  --sklearn-color-border-box: var(--sg-text-color, var(--theme-code-foreground, var(--jp-content-font-color1, black)));\n",
       "  --sklearn-color-icon: #696969;\n",
       "\n",
       "  @media (prefers-color-scheme: dark) {\n",
       "    /* Redefinition of color scheme for dark theme */\n",
       "    --sklearn-color-text-on-default-background: var(--sg-text-color, var(--theme-code-foreground, var(--jp-content-font-color1, white)));\n",
       "    --sklearn-color-background: var(--sg-background-color, var(--theme-background, var(--jp-layout-color0, #111)));\n",
       "    --sklearn-color-border-box: var(--sg-text-color, var(--theme-code-foreground, var(--jp-content-font-color1, white)));\n",
       "    --sklearn-color-icon: #878787;\n",
       "  }\n",
       "}\n",
       "\n",
       "#sk-container-id-2 {\n",
       "  color: var(--sklearn-color-text);\n",
       "}\n",
       "\n",
       "#sk-container-id-2 pre {\n",
       "  padding: 0;\n",
       "}\n",
       "\n",
       "#sk-container-id-2 input.sk-hidden--visually {\n",
       "  border: 0;\n",
       "  clip: rect(1px 1px 1px 1px);\n",
       "  clip: rect(1px, 1px, 1px, 1px);\n",
       "  height: 1px;\n",
       "  margin: -1px;\n",
       "  overflow: hidden;\n",
       "  padding: 0;\n",
       "  position: absolute;\n",
       "  width: 1px;\n",
       "}\n",
       "\n",
       "#sk-container-id-2 div.sk-dashed-wrapped {\n",
       "  border: 1px dashed var(--sklearn-color-line);\n",
       "  margin: 0 0.4em 0.5em 0.4em;\n",
       "  box-sizing: border-box;\n",
       "  padding-bottom: 0.4em;\n",
       "  background-color: var(--sklearn-color-background);\n",
       "}\n",
       "\n",
       "#sk-container-id-2 div.sk-container {\n",
       "  /* jupyter's `normalize.less` sets `[hidden] { display: none; }`\n",
       "     but bootstrap.min.css set `[hidden] { display: none !important; }`\n",
       "     so we also need the `!important` here to be able to override the\n",
       "     default hidden behavior on the sphinx rendered scikit-learn.org.\n",
       "     See: https://github.com/scikit-learn/scikit-learn/issues/21755 */\n",
       "  display: inline-block !important;\n",
       "  position: relative;\n",
       "}\n",
       "\n",
       "#sk-container-id-2 div.sk-text-repr-fallback {\n",
       "  display: none;\n",
       "}\n",
       "\n",
       "div.sk-parallel-item,\n",
       "div.sk-serial,\n",
       "div.sk-item {\n",
       "  /* draw centered vertical line to link estimators */\n",
       "  background-image: linear-gradient(var(--sklearn-color-text-on-default-background), var(--sklearn-color-text-on-default-background));\n",
       "  background-size: 2px 100%;\n",
       "  background-repeat: no-repeat;\n",
       "  background-position: center center;\n",
       "}\n",
       "\n",
       "/* Parallel-specific style estimator block */\n",
       "\n",
       "#sk-container-id-2 div.sk-parallel-item::after {\n",
       "  content: \"\";\n",
       "  width: 100%;\n",
       "  border-bottom: 2px solid var(--sklearn-color-text-on-default-background);\n",
       "  flex-grow: 1;\n",
       "}\n",
       "\n",
       "#sk-container-id-2 div.sk-parallel {\n",
       "  display: flex;\n",
       "  align-items: stretch;\n",
       "  justify-content: center;\n",
       "  background-color: var(--sklearn-color-background);\n",
       "  position: relative;\n",
       "}\n",
       "\n",
       "#sk-container-id-2 div.sk-parallel-item {\n",
       "  display: flex;\n",
       "  flex-direction: column;\n",
       "}\n",
       "\n",
       "#sk-container-id-2 div.sk-parallel-item:first-child::after {\n",
       "  align-self: flex-end;\n",
       "  width: 50%;\n",
       "}\n",
       "\n",
       "#sk-container-id-2 div.sk-parallel-item:last-child::after {\n",
       "  align-self: flex-start;\n",
       "  width: 50%;\n",
       "}\n",
       "\n",
       "#sk-container-id-2 div.sk-parallel-item:only-child::after {\n",
       "  width: 0;\n",
       "}\n",
       "\n",
       "/* Serial-specific style estimator block */\n",
       "\n",
       "#sk-container-id-2 div.sk-serial {\n",
       "  display: flex;\n",
       "  flex-direction: column;\n",
       "  align-items: center;\n",
       "  background-color: var(--sklearn-color-background);\n",
       "  padding-right: 1em;\n",
       "  padding-left: 1em;\n",
       "}\n",
       "\n",
       "\n",
       "/* Toggleable style: style used for estimator/Pipeline/ColumnTransformer box that is\n",
       "clickable and can be expanded/collapsed.\n",
       "- Pipeline and ColumnTransformer use this feature and define the default style\n",
       "- Estimators will overwrite some part of the style using the `sk-estimator` class\n",
       "*/\n",
       "\n",
       "/* Pipeline and ColumnTransformer style (default) */\n",
       "\n",
       "#sk-container-id-2 div.sk-toggleable {\n",
       "  /* Default theme specific background. It is overwritten whether we have a\n",
       "  specific estimator or a Pipeline/ColumnTransformer */\n",
       "  background-color: var(--sklearn-color-background);\n",
       "}\n",
       "\n",
       "/* Toggleable label */\n",
       "#sk-container-id-2 label.sk-toggleable__label {\n",
       "  cursor: pointer;\n",
       "  display: block;\n",
       "  width: 100%;\n",
       "  margin-bottom: 0;\n",
       "  padding: 0.5em;\n",
       "  box-sizing: border-box;\n",
       "  text-align: center;\n",
       "}\n",
       "\n",
       "#sk-container-id-2 label.sk-toggleable__label-arrow:before {\n",
       "  /* Arrow on the left of the label */\n",
       "  content: \"▸\";\n",
       "  float: left;\n",
       "  margin-right: 0.25em;\n",
       "  color: var(--sklearn-color-icon);\n",
       "}\n",
       "\n",
       "#sk-container-id-2 label.sk-toggleable__label-arrow:hover:before {\n",
       "  color: var(--sklearn-color-text);\n",
       "}\n",
       "\n",
       "/* Toggleable content - dropdown */\n",
       "\n",
       "#sk-container-id-2 div.sk-toggleable__content {\n",
       "  max-height: 0;\n",
       "  max-width: 0;\n",
       "  overflow: hidden;\n",
       "  text-align: left;\n",
       "  /* unfitted */\n",
       "  background-color: var(--sklearn-color-unfitted-level-0);\n",
       "}\n",
       "\n",
       "#sk-container-id-2 div.sk-toggleable__content.fitted {\n",
       "  /* fitted */\n",
       "  background-color: var(--sklearn-color-fitted-level-0);\n",
       "}\n",
       "\n",
       "#sk-container-id-2 div.sk-toggleable__content pre {\n",
       "  margin: 0.2em;\n",
       "  border-radius: 0.25em;\n",
       "  color: var(--sklearn-color-text);\n",
       "  /* unfitted */\n",
       "  background-color: var(--sklearn-color-unfitted-level-0);\n",
       "}\n",
       "\n",
       "#sk-container-id-2 div.sk-toggleable__content.fitted pre {\n",
       "  /* unfitted */\n",
       "  background-color: var(--sklearn-color-fitted-level-0);\n",
       "}\n",
       "\n",
       "#sk-container-id-2 input.sk-toggleable__control:checked~div.sk-toggleable__content {\n",
       "  /* Expand drop-down */\n",
       "  max-height: 200px;\n",
       "  max-width: 100%;\n",
       "  overflow: auto;\n",
       "}\n",
       "\n",
       "#sk-container-id-2 input.sk-toggleable__control:checked~label.sk-toggleable__label-arrow:before {\n",
       "  content: \"▾\";\n",
       "}\n",
       "\n",
       "/* Pipeline/ColumnTransformer-specific style */\n",
       "\n",
       "#sk-container-id-2 div.sk-label input.sk-toggleable__control:checked~label.sk-toggleable__label {\n",
       "  color: var(--sklearn-color-text);\n",
       "  background-color: var(--sklearn-color-unfitted-level-2);\n",
       "}\n",
       "\n",
       "#sk-container-id-2 div.sk-label.fitted input.sk-toggleable__control:checked~label.sk-toggleable__label {\n",
       "  background-color: var(--sklearn-color-fitted-level-2);\n",
       "}\n",
       "\n",
       "/* Estimator-specific style */\n",
       "\n",
       "/* Colorize estimator box */\n",
       "#sk-container-id-2 div.sk-estimator input.sk-toggleable__control:checked~label.sk-toggleable__label {\n",
       "  /* unfitted */\n",
       "  background-color: var(--sklearn-color-unfitted-level-2);\n",
       "}\n",
       "\n",
       "#sk-container-id-2 div.sk-estimator.fitted input.sk-toggleable__control:checked~label.sk-toggleable__label {\n",
       "  /* fitted */\n",
       "  background-color: var(--sklearn-color-fitted-level-2);\n",
       "}\n",
       "\n",
       "#sk-container-id-2 div.sk-label label.sk-toggleable__label,\n",
       "#sk-container-id-2 div.sk-label label {\n",
       "  /* The background is the default theme color */\n",
       "  color: var(--sklearn-color-text-on-default-background);\n",
       "}\n",
       "\n",
       "/* On hover, darken the color of the background */\n",
       "#sk-container-id-2 div.sk-label:hover label.sk-toggleable__label {\n",
       "  color: var(--sklearn-color-text);\n",
       "  background-color: var(--sklearn-color-unfitted-level-2);\n",
       "}\n",
       "\n",
       "/* Label box, darken color on hover, fitted */\n",
       "#sk-container-id-2 div.sk-label.fitted:hover label.sk-toggleable__label.fitted {\n",
       "  color: var(--sklearn-color-text);\n",
       "  background-color: var(--sklearn-color-fitted-level-2);\n",
       "}\n",
       "\n",
       "/* Estimator label */\n",
       "\n",
       "#sk-container-id-2 div.sk-label label {\n",
       "  font-family: monospace;\n",
       "  font-weight: bold;\n",
       "  display: inline-block;\n",
       "  line-height: 1.2em;\n",
       "}\n",
       "\n",
       "#sk-container-id-2 div.sk-label-container {\n",
       "  text-align: center;\n",
       "}\n",
       "\n",
       "/* Estimator-specific */\n",
       "#sk-container-id-2 div.sk-estimator {\n",
       "  font-family: monospace;\n",
       "  border: 1px dotted var(--sklearn-color-border-box);\n",
       "  border-radius: 0.25em;\n",
       "  box-sizing: border-box;\n",
       "  margin-bottom: 0.5em;\n",
       "  /* unfitted */\n",
       "  background-color: var(--sklearn-color-unfitted-level-0);\n",
       "}\n",
       "\n",
       "#sk-container-id-2 div.sk-estimator.fitted {\n",
       "  /* fitted */\n",
       "  background-color: var(--sklearn-color-fitted-level-0);\n",
       "}\n",
       "\n",
       "/* on hover */\n",
       "#sk-container-id-2 div.sk-estimator:hover {\n",
       "  /* unfitted */\n",
       "  background-color: var(--sklearn-color-unfitted-level-2);\n",
       "}\n",
       "\n",
       "#sk-container-id-2 div.sk-estimator.fitted:hover {\n",
       "  /* fitted */\n",
       "  background-color: var(--sklearn-color-fitted-level-2);\n",
       "}\n",
       "\n",
       "/* Specification for estimator info (e.g. \"i\" and \"?\") */\n",
       "\n",
       "/* Common style for \"i\" and \"?\" */\n",
       "\n",
       ".sk-estimator-doc-link,\n",
       "a:link.sk-estimator-doc-link,\n",
       "a:visited.sk-estimator-doc-link {\n",
       "  float: right;\n",
       "  font-size: smaller;\n",
       "  line-height: 1em;\n",
       "  font-family: monospace;\n",
       "  background-color: var(--sklearn-color-background);\n",
       "  border-radius: 1em;\n",
       "  height: 1em;\n",
       "  width: 1em;\n",
       "  text-decoration: none !important;\n",
       "  margin-left: 1ex;\n",
       "  /* unfitted */\n",
       "  border: var(--sklearn-color-unfitted-level-1) 1pt solid;\n",
       "  color: var(--sklearn-color-unfitted-level-1);\n",
       "}\n",
       "\n",
       ".sk-estimator-doc-link.fitted,\n",
       "a:link.sk-estimator-doc-link.fitted,\n",
       "a:visited.sk-estimator-doc-link.fitted {\n",
       "  /* fitted */\n",
       "  border: var(--sklearn-color-fitted-level-1) 1pt solid;\n",
       "  color: var(--sklearn-color-fitted-level-1);\n",
       "}\n",
       "\n",
       "/* On hover */\n",
       "div.sk-estimator:hover .sk-estimator-doc-link:hover,\n",
       ".sk-estimator-doc-link:hover,\n",
       "div.sk-label-container:hover .sk-estimator-doc-link:hover,\n",
       ".sk-estimator-doc-link:hover {\n",
       "  /* unfitted */\n",
       "  background-color: var(--sklearn-color-unfitted-level-3);\n",
       "  color: var(--sklearn-color-background);\n",
       "  text-decoration: none;\n",
       "}\n",
       "\n",
       "div.sk-estimator.fitted:hover .sk-estimator-doc-link.fitted:hover,\n",
       ".sk-estimator-doc-link.fitted:hover,\n",
       "div.sk-label-container:hover .sk-estimator-doc-link.fitted:hover,\n",
       ".sk-estimator-doc-link.fitted:hover {\n",
       "  /* fitted */\n",
       "  background-color: var(--sklearn-color-fitted-level-3);\n",
       "  color: var(--sklearn-color-background);\n",
       "  text-decoration: none;\n",
       "}\n",
       "\n",
       "/* Span, style for the box shown on hovering the info icon */\n",
       ".sk-estimator-doc-link span {\n",
       "  display: none;\n",
       "  z-index: 9999;\n",
       "  position: relative;\n",
       "  font-weight: normal;\n",
       "  right: .2ex;\n",
       "  padding: .5ex;\n",
       "  margin: .5ex;\n",
       "  width: min-content;\n",
       "  min-width: 20ex;\n",
       "  max-width: 50ex;\n",
       "  color: var(--sklearn-color-text);\n",
       "  box-shadow: 2pt 2pt 4pt #999;\n",
       "  /* unfitted */\n",
       "  background: var(--sklearn-color-unfitted-level-0);\n",
       "  border: .5pt solid var(--sklearn-color-unfitted-level-3);\n",
       "}\n",
       "\n",
       ".sk-estimator-doc-link.fitted span {\n",
       "  /* fitted */\n",
       "  background: var(--sklearn-color-fitted-level-0);\n",
       "  border: var(--sklearn-color-fitted-level-3);\n",
       "}\n",
       "\n",
       ".sk-estimator-doc-link:hover span {\n",
       "  display: block;\n",
       "}\n",
       "\n",
       "/* \"?\"-specific style due to the `<a>` HTML tag */\n",
       "\n",
       "#sk-container-id-2 a.estimator_doc_link {\n",
       "  float: right;\n",
       "  font-size: 1rem;\n",
       "  line-height: 1em;\n",
       "  font-family: monospace;\n",
       "  background-color: var(--sklearn-color-background);\n",
       "  border-radius: 1rem;\n",
       "  height: 1rem;\n",
       "  width: 1rem;\n",
       "  text-decoration: none;\n",
       "  /* unfitted */\n",
       "  color: var(--sklearn-color-unfitted-level-1);\n",
       "  border: var(--sklearn-color-unfitted-level-1) 1pt solid;\n",
       "}\n",
       "\n",
       "#sk-container-id-2 a.estimator_doc_link.fitted {\n",
       "  /* fitted */\n",
       "  border: var(--sklearn-color-fitted-level-1) 1pt solid;\n",
       "  color: var(--sklearn-color-fitted-level-1);\n",
       "}\n",
       "\n",
       "/* On hover */\n",
       "#sk-container-id-2 a.estimator_doc_link:hover {\n",
       "  /* unfitted */\n",
       "  background-color: var(--sklearn-color-unfitted-level-3);\n",
       "  color: var(--sklearn-color-background);\n",
       "  text-decoration: none;\n",
       "}\n",
       "\n",
       "#sk-container-id-2 a.estimator_doc_link.fitted:hover {\n",
       "  /* fitted */\n",
       "  background-color: var(--sklearn-color-fitted-level-3);\n",
       "}\n",
       "</style><div id=\"sk-container-id-2\" class=\"sk-top-container\"><div class=\"sk-text-repr-fallback\"><pre>LGBMClassifier(bagging_fraction=0.8, bagging_freq=5, device_type=&#x27;cpu&#x27;,\n",
       "               feature_fraction=0.8, lambda_l1=0.1, lambda_l2=0.1,\n",
       "               learning_rate=0.075, max_depth=10, metric=&#x27;auc&#x27;, num_leaves=128,\n",
       "               objective=&#x27;binary&#x27;, verbose=-1)</pre><b>In a Jupyter environment, please rerun this cell to show the HTML representation or trust the notebook. <br />On GitHub, the HTML representation is unable to render, please try loading this page with nbviewer.org.</b></div><div class=\"sk-container\" hidden><div class=\"sk-item\"><div class=\"sk-estimator fitted sk-toggleable\"><input class=\"sk-toggleable__control sk-hidden--visually\" id=\"sk-estimator-id-2\" type=\"checkbox\" checked><label for=\"sk-estimator-id-2\" class=\"sk-toggleable__label fitted sk-toggleable__label-arrow fitted\">&nbsp;LGBMClassifier<span class=\"sk-estimator-doc-link fitted\">i<span>Fitted</span></span></label><div class=\"sk-toggleable__content fitted\"><pre>LGBMClassifier(bagging_fraction=0.8, bagging_freq=5, device_type=&#x27;cpu&#x27;,\n",
       "               feature_fraction=0.8, lambda_l1=0.1, lambda_l2=0.1,\n",
       "               learning_rate=0.075, max_depth=10, metric=&#x27;auc&#x27;, num_leaves=128,\n",
       "               objective=&#x27;binary&#x27;, verbose=-1)</pre></div> </div></div></div></div>"
      ],
      "text/plain": [
       "LGBMClassifier(bagging_fraction=0.8, bagging_freq=5, device_type='cpu',\n",
       "               feature_fraction=0.8, lambda_l1=0.1, lambda_l2=0.1,\n",
       "               learning_rate=0.075, max_depth=10, metric='auc', num_leaves=128,\n",
       "               objective='binary', verbose=-1)"
      ]
     },
     "execution_count": 67,
     "metadata": {},
     "output_type": "execute_result"
    }
   ],
   "source": [
    "import lightgbm as lgb\n",
    "from sklearn.model_selection import KFold, cross_val_score\n",
    "from sklearn.metrics import roc_auc_score, accuracy_score, confusion_matrix\n",
    "import numpy as np\n",
    "\n",
    "# Define LightGBM model parameters\n",
    "params = {\n",
    "    'objective': 'binary',\n",
    "    'metric': 'auc',\n",
    "    'device_type': 'cpu',  # Use CPU instead of GPU\n",
    "    'boosting_type': 'gbdt',\n",
    "    'num_leaves': 128,\n",
    "    'learning_rate': 0.075,\n",
    "    'feature_fraction': 0.8,\n",
    "    'bagging_fraction': 0.8,\n",
    "    'bagging_freq': 5,\n",
    "    'lambda_l1': 0.1,\n",
    "    'lambda_l2': 0.1,\n",
    "    'max_depth': 10,\n",
    "    'verbose': -1\n",
    "}\n",
    "\n",
    "# Define function for k-fold cross-validation\n",
    "def k_fold_cross_validation(model, X, y, k=5):\n",
    "    kf = KFold(n_splits=k, shuffle=True, random_state=42)\n",
    "    scores = []\n",
    "    for train_index, val_index in kf.split(X):\n",
    "        X_train_fold, X_val_fold = X.iloc[train_index], X.iloc[val_index]\n",
    "        y_train_fold, y_val_fold = y.iloc[train_index], y.iloc[val_index]\n",
    "        \n",
    "        train_data_fold = lgb.Dataset(X_train_fold, label=y_train_fold)\n",
    "        val_data_fold = lgb.Dataset(X_val_fold, label=y_val_fold, reference=train_data_fold)\n",
    "        \n",
    "        model_fold = lgb.train(params, train_data_fold, num_boost_round=1308, \n",
    "                               valid_sets=[val_data_fold], \n",
    "                               callbacks=[lgb.early_stopping(stopping_rounds=10), lgb.log_evaluation(50)])\n",
    "        \n",
    "        y_pred_prob = model_fold.predict(X_val_fold, num_iteration=model_fold.best_iteration)\n",
    "        score = roc_auc_score(y_val_fold, y_pred_prob)\n",
    "        scores.append(score)\n",
    "    \n",
    "    return scores\n",
    "\n",
    "# Train LightGBM model\n",
    "lgb_model = lgb.LGBMClassifier(**params)\n",
    "\n",
    "# Perform k-fold cross-validation\n",
    "cv_scores = k_fold_cross_validation(lgb_model, X_train, y_train, k=5)\n",
    "print(f'Cross-validation ROC AUC scores: {cv_scores}')\n",
    "print(f'Average cross-validation ROC AUC score: {np.mean(cv_scores):.4f}')\n",
    "\n",
    "# Train on the full training data\n",
    "lgb_model.fit(X_train, y_train)\n",
    "\n"
   ]
  },
  {
   "cell_type": "markdown",
   "id": "c215da9a",
   "metadata": {
    "papermill": {
     "duration": 0.023929,
     "end_time": "2024-07-31T05:42:41.604357",
     "exception": false,
     "start_time": "2024-07-31T05:42:41.580428",
     "status": "completed"
    },
    "tags": []
   },
   "source": [
    "## predicting and Evaluating "
   ]
  },
  {
   "cell_type": "code",
   "execution_count": 68,
   "id": "eead8d53",
   "metadata": {
    "execution": {
     "iopub.execute_input": "2024-07-31T05:42:41.654477Z",
     "iopub.status.busy": "2024-07-31T05:42:41.653800Z",
     "iopub.status.idle": "2024-07-31T05:42:41.675087Z",
     "shell.execute_reply": "2024-07-31T05:42:41.673541Z"
    },
    "papermill": {
     "duration": 0.04922,
     "end_time": "2024-07-31T05:42:41.677504",
     "exception": false,
     "start_time": "2024-07-31T05:42:41.628284",
     "status": "completed"
    },
    "tags": []
   },
   "outputs": [
    {
     "name": "stdout",
     "output_type": "stream",
     "text": [
      "Index(['Age', 'SibSp', 'Parch', 'Title_Mrs', 'Embarked_Q', 'Embarked_S',\n",
      "       'Sex_male', 'Pclass_3', 'IsAlone', 'FarePerPerson'],\n",
      "      dtype='object')\n",
      "Model accuracy on test data: 84.2105%\n",
      "Model roc_auc_score on test data: 0.8308\n",
      "[[232  34]\n",
      " [ 32 120]]\n"
     ]
    }
   ],
   "source": [
    "# Check columns in test_data\n",
    "print(test_data.columns)\n",
    "\n",
    "# Drop columns not used in the model (adjust according to actual column names)\n",
    "columns_to_drop = ['PassengerId']  # Adjust this list as needed\n",
    "existing_columns_to_drop = [col for col in columns_to_drop if col in test_data.columns]\n",
    "test_features = test_data.drop(columns=existing_columns_to_drop)\n",
    "\n",
    "# Predict\n",
    "predictions = lgb_model.predict(test_features)\n",
    "\n",
    "# Evaluate model using output_data (ground truth)\n",
    "true_values = output_data['Survived']  # Ensure output_data is the correct DataFrame\n",
    "accuracy = accuracy_score(true_values, predictions)\n",
    "roc_auc = roc_auc_score(true_values, predictions)\n",
    "\n",
    "# Print evaluation metrics\n",
    "print(f\"Model accuracy on test data: {accuracy*100:.4f}%\")\n",
    "print(f\"Model roc_auc_score on test data: {roc_auc:.4f}\")\n",
    "print(confusion_matrix(true_values, predictions))\n"
   ]
  },
  {
   "cell_type": "markdown",
   "id": "1b6c6c4a",
   "metadata": {
    "papermill": {
     "duration": 0.024214,
     "end_time": "2024-07-31T05:42:41.726934",
     "exception": false,
     "start_time": "2024-07-31T05:42:41.702720",
     "status": "completed"
    },
    "tags": []
   },
   "source": [
    "## Saving Submission.csv"
   ]
  },
  {
   "cell_type": "code",
   "execution_count": 69,
   "id": "a41d21b0",
   "metadata": {
    "execution": {
     "iopub.execute_input": "2024-07-31T05:42:41.777458Z",
     "iopub.status.busy": "2024-07-31T05:42:41.776722Z",
     "iopub.status.idle": "2024-07-31T05:42:41.792852Z",
     "shell.execute_reply": "2024-07-31T05:42:41.791966Z"
    },
    "papermill": {
     "duration": 0.044223,
     "end_time": "2024-07-31T05:42:41.795428",
     "exception": false,
     "start_time": "2024-07-31T05:42:41.751205",
     "status": "completed"
    },
    "tags": []
   },
   "outputs": [
    {
     "ename": "FileNotFoundError",
     "evalue": "[Errno 2] No such file or directory: '/kaggle/input/titanic/test.csv'",
     "output_type": "error",
     "traceback": [
      "\u001b[1;31m---------------------------------------------------------------------------\u001b[0m",
      "\u001b[1;31mFileNotFoundError\u001b[0m                         Traceback (most recent call last)",
      "Cell \u001b[1;32mIn[69], line 1\u001b[0m\n\u001b[1;32m----> 1\u001b[0m test_data_\u001b[38;5;241m=\u001b[39m\u001b[43mpd\u001b[49m\u001b[38;5;241;43m.\u001b[39;49m\u001b[43mread_csv\u001b[49m\u001b[43m(\u001b[49m\u001b[38;5;124;43m'\u001b[39;49m\u001b[38;5;124;43m/kaggle/input/titanic/test.csv\u001b[39;49m\u001b[38;5;124;43m'\u001b[39;49m\u001b[43m)\u001b[49m\n\u001b[0;32m      2\u001b[0m output \u001b[38;5;241m=\u001b[39m pd\u001b[38;5;241m.\u001b[39mDataFrame({\u001b[38;5;124m'\u001b[39m\u001b[38;5;124mPassengerId\u001b[39m\u001b[38;5;124m'\u001b[39m: test_data_\u001b[38;5;241m.\u001b[39mPassengerId, \u001b[38;5;124m'\u001b[39m\u001b[38;5;124mSurvived\u001b[39m\u001b[38;5;124m'\u001b[39m:predictions})\n\u001b[0;32m      3\u001b[0m output\u001b[38;5;241m.\u001b[39mto_csv(\u001b[38;5;124m'\u001b[39m\u001b[38;5;124msubmission.csv\u001b[39m\u001b[38;5;124m'\u001b[39m, index\u001b[38;5;241m=\u001b[39m\u001b[38;5;28;01mFalse\u001b[39;00m)\n",
      "File \u001b[1;32mc:\\Users\\Dell\\AppData\\Local\\Programs\\Python\\Python312\\Lib\\site-packages\\pandas\\io\\parsers\\readers.py:1026\u001b[0m, in \u001b[0;36mread_csv\u001b[1;34m(filepath_or_buffer, sep, delimiter, header, names, index_col, usecols, dtype, engine, converters, true_values, false_values, skipinitialspace, skiprows, skipfooter, nrows, na_values, keep_default_na, na_filter, verbose, skip_blank_lines, parse_dates, infer_datetime_format, keep_date_col, date_parser, date_format, dayfirst, cache_dates, iterator, chunksize, compression, thousands, decimal, lineterminator, quotechar, quoting, doublequote, escapechar, comment, encoding, encoding_errors, dialect, on_bad_lines, delim_whitespace, low_memory, memory_map, float_precision, storage_options, dtype_backend)\u001b[0m\n\u001b[0;32m   1013\u001b[0m kwds_defaults \u001b[38;5;241m=\u001b[39m _refine_defaults_read(\n\u001b[0;32m   1014\u001b[0m     dialect,\n\u001b[0;32m   1015\u001b[0m     delimiter,\n\u001b[1;32m   (...)\u001b[0m\n\u001b[0;32m   1022\u001b[0m     dtype_backend\u001b[38;5;241m=\u001b[39mdtype_backend,\n\u001b[0;32m   1023\u001b[0m )\n\u001b[0;32m   1024\u001b[0m kwds\u001b[38;5;241m.\u001b[39mupdate(kwds_defaults)\n\u001b[1;32m-> 1026\u001b[0m \u001b[38;5;28;01mreturn\u001b[39;00m \u001b[43m_read\u001b[49m\u001b[43m(\u001b[49m\u001b[43mfilepath_or_buffer\u001b[49m\u001b[43m,\u001b[49m\u001b[43m \u001b[49m\u001b[43mkwds\u001b[49m\u001b[43m)\u001b[49m\n",
      "File \u001b[1;32mc:\\Users\\Dell\\AppData\\Local\\Programs\\Python\\Python312\\Lib\\site-packages\\pandas\\io\\parsers\\readers.py:620\u001b[0m, in \u001b[0;36m_read\u001b[1;34m(filepath_or_buffer, kwds)\u001b[0m\n\u001b[0;32m    617\u001b[0m _validate_names(kwds\u001b[38;5;241m.\u001b[39mget(\u001b[38;5;124m\"\u001b[39m\u001b[38;5;124mnames\u001b[39m\u001b[38;5;124m\"\u001b[39m, \u001b[38;5;28;01mNone\u001b[39;00m))\n\u001b[0;32m    619\u001b[0m \u001b[38;5;66;03m# Create the parser.\u001b[39;00m\n\u001b[1;32m--> 620\u001b[0m parser \u001b[38;5;241m=\u001b[39m \u001b[43mTextFileReader\u001b[49m\u001b[43m(\u001b[49m\u001b[43mfilepath_or_buffer\u001b[49m\u001b[43m,\u001b[49m\u001b[43m \u001b[49m\u001b[38;5;241;43m*\u001b[39;49m\u001b[38;5;241;43m*\u001b[39;49m\u001b[43mkwds\u001b[49m\u001b[43m)\u001b[49m\n\u001b[0;32m    622\u001b[0m \u001b[38;5;28;01mif\u001b[39;00m chunksize \u001b[38;5;129;01mor\u001b[39;00m iterator:\n\u001b[0;32m    623\u001b[0m     \u001b[38;5;28;01mreturn\u001b[39;00m parser\n",
      "File \u001b[1;32mc:\\Users\\Dell\\AppData\\Local\\Programs\\Python\\Python312\\Lib\\site-packages\\pandas\\io\\parsers\\readers.py:1620\u001b[0m, in \u001b[0;36mTextFileReader.__init__\u001b[1;34m(self, f, engine, **kwds)\u001b[0m\n\u001b[0;32m   1617\u001b[0m     \u001b[38;5;28mself\u001b[39m\u001b[38;5;241m.\u001b[39moptions[\u001b[38;5;124m\"\u001b[39m\u001b[38;5;124mhas_index_names\u001b[39m\u001b[38;5;124m\"\u001b[39m] \u001b[38;5;241m=\u001b[39m kwds[\u001b[38;5;124m\"\u001b[39m\u001b[38;5;124mhas_index_names\u001b[39m\u001b[38;5;124m\"\u001b[39m]\n\u001b[0;32m   1619\u001b[0m \u001b[38;5;28mself\u001b[39m\u001b[38;5;241m.\u001b[39mhandles: IOHandles \u001b[38;5;241m|\u001b[39m \u001b[38;5;28;01mNone\u001b[39;00m \u001b[38;5;241m=\u001b[39m \u001b[38;5;28;01mNone\u001b[39;00m\n\u001b[1;32m-> 1620\u001b[0m \u001b[38;5;28mself\u001b[39m\u001b[38;5;241m.\u001b[39m_engine \u001b[38;5;241m=\u001b[39m \u001b[38;5;28;43mself\u001b[39;49m\u001b[38;5;241;43m.\u001b[39;49m\u001b[43m_make_engine\u001b[49m\u001b[43m(\u001b[49m\u001b[43mf\u001b[49m\u001b[43m,\u001b[49m\u001b[43m \u001b[49m\u001b[38;5;28;43mself\u001b[39;49m\u001b[38;5;241;43m.\u001b[39;49m\u001b[43mengine\u001b[49m\u001b[43m)\u001b[49m\n",
      "File \u001b[1;32mc:\\Users\\Dell\\AppData\\Local\\Programs\\Python\\Python312\\Lib\\site-packages\\pandas\\io\\parsers\\readers.py:1880\u001b[0m, in \u001b[0;36mTextFileReader._make_engine\u001b[1;34m(self, f, engine)\u001b[0m\n\u001b[0;32m   1878\u001b[0m     \u001b[38;5;28;01mif\u001b[39;00m \u001b[38;5;124m\"\u001b[39m\u001b[38;5;124mb\u001b[39m\u001b[38;5;124m\"\u001b[39m \u001b[38;5;129;01mnot\u001b[39;00m \u001b[38;5;129;01min\u001b[39;00m mode:\n\u001b[0;32m   1879\u001b[0m         mode \u001b[38;5;241m+\u001b[39m\u001b[38;5;241m=\u001b[39m \u001b[38;5;124m\"\u001b[39m\u001b[38;5;124mb\u001b[39m\u001b[38;5;124m\"\u001b[39m\n\u001b[1;32m-> 1880\u001b[0m \u001b[38;5;28mself\u001b[39m\u001b[38;5;241m.\u001b[39mhandles \u001b[38;5;241m=\u001b[39m \u001b[43mget_handle\u001b[49m\u001b[43m(\u001b[49m\n\u001b[0;32m   1881\u001b[0m \u001b[43m    \u001b[49m\u001b[43mf\u001b[49m\u001b[43m,\u001b[49m\n\u001b[0;32m   1882\u001b[0m \u001b[43m    \u001b[49m\u001b[43mmode\u001b[49m\u001b[43m,\u001b[49m\n\u001b[0;32m   1883\u001b[0m \u001b[43m    \u001b[49m\u001b[43mencoding\u001b[49m\u001b[38;5;241;43m=\u001b[39;49m\u001b[38;5;28;43mself\u001b[39;49m\u001b[38;5;241;43m.\u001b[39;49m\u001b[43moptions\u001b[49m\u001b[38;5;241;43m.\u001b[39;49m\u001b[43mget\u001b[49m\u001b[43m(\u001b[49m\u001b[38;5;124;43m\"\u001b[39;49m\u001b[38;5;124;43mencoding\u001b[39;49m\u001b[38;5;124;43m\"\u001b[39;49m\u001b[43m,\u001b[49m\u001b[43m \u001b[49m\u001b[38;5;28;43;01mNone\u001b[39;49;00m\u001b[43m)\u001b[49m\u001b[43m,\u001b[49m\n\u001b[0;32m   1884\u001b[0m \u001b[43m    \u001b[49m\u001b[43mcompression\u001b[49m\u001b[38;5;241;43m=\u001b[39;49m\u001b[38;5;28;43mself\u001b[39;49m\u001b[38;5;241;43m.\u001b[39;49m\u001b[43moptions\u001b[49m\u001b[38;5;241;43m.\u001b[39;49m\u001b[43mget\u001b[49m\u001b[43m(\u001b[49m\u001b[38;5;124;43m\"\u001b[39;49m\u001b[38;5;124;43mcompression\u001b[39;49m\u001b[38;5;124;43m\"\u001b[39;49m\u001b[43m,\u001b[49m\u001b[43m \u001b[49m\u001b[38;5;28;43;01mNone\u001b[39;49;00m\u001b[43m)\u001b[49m\u001b[43m,\u001b[49m\n\u001b[0;32m   1885\u001b[0m \u001b[43m    \u001b[49m\u001b[43mmemory_map\u001b[49m\u001b[38;5;241;43m=\u001b[39;49m\u001b[38;5;28;43mself\u001b[39;49m\u001b[38;5;241;43m.\u001b[39;49m\u001b[43moptions\u001b[49m\u001b[38;5;241;43m.\u001b[39;49m\u001b[43mget\u001b[49m\u001b[43m(\u001b[49m\u001b[38;5;124;43m\"\u001b[39;49m\u001b[38;5;124;43mmemory_map\u001b[39;49m\u001b[38;5;124;43m\"\u001b[39;49m\u001b[43m,\u001b[49m\u001b[43m \u001b[49m\u001b[38;5;28;43;01mFalse\u001b[39;49;00m\u001b[43m)\u001b[49m\u001b[43m,\u001b[49m\n\u001b[0;32m   1886\u001b[0m \u001b[43m    \u001b[49m\u001b[43mis_text\u001b[49m\u001b[38;5;241;43m=\u001b[39;49m\u001b[43mis_text\u001b[49m\u001b[43m,\u001b[49m\n\u001b[0;32m   1887\u001b[0m \u001b[43m    \u001b[49m\u001b[43merrors\u001b[49m\u001b[38;5;241;43m=\u001b[39;49m\u001b[38;5;28;43mself\u001b[39;49m\u001b[38;5;241;43m.\u001b[39;49m\u001b[43moptions\u001b[49m\u001b[38;5;241;43m.\u001b[39;49m\u001b[43mget\u001b[49m\u001b[43m(\u001b[49m\u001b[38;5;124;43m\"\u001b[39;49m\u001b[38;5;124;43mencoding_errors\u001b[39;49m\u001b[38;5;124;43m\"\u001b[39;49m\u001b[43m,\u001b[49m\u001b[43m \u001b[49m\u001b[38;5;124;43m\"\u001b[39;49m\u001b[38;5;124;43mstrict\u001b[39;49m\u001b[38;5;124;43m\"\u001b[39;49m\u001b[43m)\u001b[49m\u001b[43m,\u001b[49m\n\u001b[0;32m   1888\u001b[0m \u001b[43m    \u001b[49m\u001b[43mstorage_options\u001b[49m\u001b[38;5;241;43m=\u001b[39;49m\u001b[38;5;28;43mself\u001b[39;49m\u001b[38;5;241;43m.\u001b[39;49m\u001b[43moptions\u001b[49m\u001b[38;5;241;43m.\u001b[39;49m\u001b[43mget\u001b[49m\u001b[43m(\u001b[49m\u001b[38;5;124;43m\"\u001b[39;49m\u001b[38;5;124;43mstorage_options\u001b[39;49m\u001b[38;5;124;43m\"\u001b[39;49m\u001b[43m,\u001b[49m\u001b[43m \u001b[49m\u001b[38;5;28;43;01mNone\u001b[39;49;00m\u001b[43m)\u001b[49m\u001b[43m,\u001b[49m\n\u001b[0;32m   1889\u001b[0m \u001b[43m\u001b[49m\u001b[43m)\u001b[49m\n\u001b[0;32m   1890\u001b[0m \u001b[38;5;28;01massert\u001b[39;00m \u001b[38;5;28mself\u001b[39m\u001b[38;5;241m.\u001b[39mhandles \u001b[38;5;129;01mis\u001b[39;00m \u001b[38;5;129;01mnot\u001b[39;00m \u001b[38;5;28;01mNone\u001b[39;00m\n\u001b[0;32m   1891\u001b[0m f \u001b[38;5;241m=\u001b[39m \u001b[38;5;28mself\u001b[39m\u001b[38;5;241m.\u001b[39mhandles\u001b[38;5;241m.\u001b[39mhandle\n",
      "File \u001b[1;32mc:\\Users\\Dell\\AppData\\Local\\Programs\\Python\\Python312\\Lib\\site-packages\\pandas\\io\\common.py:873\u001b[0m, in \u001b[0;36mget_handle\u001b[1;34m(path_or_buf, mode, encoding, compression, memory_map, is_text, errors, storage_options)\u001b[0m\n\u001b[0;32m    868\u001b[0m \u001b[38;5;28;01melif\u001b[39;00m \u001b[38;5;28misinstance\u001b[39m(handle, \u001b[38;5;28mstr\u001b[39m):\n\u001b[0;32m    869\u001b[0m     \u001b[38;5;66;03m# Check whether the filename is to be opened in binary mode.\u001b[39;00m\n\u001b[0;32m    870\u001b[0m     \u001b[38;5;66;03m# Binary mode does not support 'encoding' and 'newline'.\u001b[39;00m\n\u001b[0;32m    871\u001b[0m     \u001b[38;5;28;01mif\u001b[39;00m ioargs\u001b[38;5;241m.\u001b[39mencoding \u001b[38;5;129;01mand\u001b[39;00m \u001b[38;5;124m\"\u001b[39m\u001b[38;5;124mb\u001b[39m\u001b[38;5;124m\"\u001b[39m \u001b[38;5;129;01mnot\u001b[39;00m \u001b[38;5;129;01min\u001b[39;00m ioargs\u001b[38;5;241m.\u001b[39mmode:\n\u001b[0;32m    872\u001b[0m         \u001b[38;5;66;03m# Encoding\u001b[39;00m\n\u001b[1;32m--> 873\u001b[0m         handle \u001b[38;5;241m=\u001b[39m \u001b[38;5;28;43mopen\u001b[39;49m\u001b[43m(\u001b[49m\n\u001b[0;32m    874\u001b[0m \u001b[43m            \u001b[49m\u001b[43mhandle\u001b[49m\u001b[43m,\u001b[49m\n\u001b[0;32m    875\u001b[0m \u001b[43m            \u001b[49m\u001b[43mioargs\u001b[49m\u001b[38;5;241;43m.\u001b[39;49m\u001b[43mmode\u001b[49m\u001b[43m,\u001b[49m\n\u001b[0;32m    876\u001b[0m \u001b[43m            \u001b[49m\u001b[43mencoding\u001b[49m\u001b[38;5;241;43m=\u001b[39;49m\u001b[43mioargs\u001b[49m\u001b[38;5;241;43m.\u001b[39;49m\u001b[43mencoding\u001b[49m\u001b[43m,\u001b[49m\n\u001b[0;32m    877\u001b[0m \u001b[43m            \u001b[49m\u001b[43merrors\u001b[49m\u001b[38;5;241;43m=\u001b[39;49m\u001b[43merrors\u001b[49m\u001b[43m,\u001b[49m\n\u001b[0;32m    878\u001b[0m \u001b[43m            \u001b[49m\u001b[43mnewline\u001b[49m\u001b[38;5;241;43m=\u001b[39;49m\u001b[38;5;124;43m\"\u001b[39;49m\u001b[38;5;124;43m\"\u001b[39;49m\u001b[43m,\u001b[49m\n\u001b[0;32m    879\u001b[0m \u001b[43m        \u001b[49m\u001b[43m)\u001b[49m\n\u001b[0;32m    880\u001b[0m     \u001b[38;5;28;01melse\u001b[39;00m:\n\u001b[0;32m    881\u001b[0m         \u001b[38;5;66;03m# Binary mode\u001b[39;00m\n\u001b[0;32m    882\u001b[0m         handle \u001b[38;5;241m=\u001b[39m \u001b[38;5;28mopen\u001b[39m(handle, ioargs\u001b[38;5;241m.\u001b[39mmode)\n",
      "\u001b[1;31mFileNotFoundError\u001b[0m: [Errno 2] No such file or directory: '/kaggle/input/titanic/test.csv'"
     ]
    }
   ],
   "source": [
    "test_data_=pd.read_csv('/kaggle/input/titanic/test.csv')\n",
    "output = pd.DataFrame({'PassengerId': test_data_.PassengerId, 'Survived':predictions})\n",
    "output.to_csv('submission.csv', index=False)\n",
    "x=pd.read_csv('submission.csv')"
   ]
  },
  {
   "cell_type": "code",
   "execution_count": null,
   "id": "dbd7c564",
   "metadata": {
    "execution": {
     "iopub.execute_input": "2024-07-31T05:42:41.847224Z",
     "iopub.status.busy": "2024-07-31T05:42:41.846376Z",
     "iopub.status.idle": "2024-07-31T05:42:41.856414Z",
     "shell.execute_reply": "2024-07-31T05:42:41.855359Z"
    },
    "papermill": {
     "duration": 0.0391,
     "end_time": "2024-07-31T05:42:41.859290",
     "exception": false,
     "start_time": "2024-07-31T05:42:41.820190",
     "status": "completed"
    },
    "tags": []
   },
   "outputs": [
    {
     "data": {
      "text/html": [
       "<div>\n",
       "<style scoped>\n",
       "    .dataframe tbody tr th:only-of-type {\n",
       "        vertical-align: middle;\n",
       "    }\n",
       "\n",
       "    .dataframe tbody tr th {\n",
       "        vertical-align: top;\n",
       "    }\n",
       "\n",
       "    .dataframe thead th {\n",
       "        text-align: right;\n",
       "    }\n",
       "</style>\n",
       "<table border=\"1\" class=\"dataframe\">\n",
       "  <thead>\n",
       "    <tr style=\"text-align: right;\">\n",
       "      <th></th>\n",
       "      <th>PassengerId</th>\n",
       "      <th>Survived</th>\n",
       "    </tr>\n",
       "  </thead>\n",
       "  <tbody>\n",
       "    <tr>\n",
       "      <th>0</th>\n",
       "      <td>892</td>\n",
       "      <td>0</td>\n",
       "    </tr>\n",
       "    <tr>\n",
       "      <th>1</th>\n",
       "      <td>893</td>\n",
       "      <td>0</td>\n",
       "    </tr>\n",
       "    <tr>\n",
       "      <th>2</th>\n",
       "      <td>894</td>\n",
       "      <td>0</td>\n",
       "    </tr>\n",
       "    <tr>\n",
       "      <th>3</th>\n",
       "      <td>895</td>\n",
       "      <td>0</td>\n",
       "    </tr>\n",
       "    <tr>\n",
       "      <th>4</th>\n",
       "      <td>896</td>\n",
       "      <td>0</td>\n",
       "    </tr>\n",
       "  </tbody>\n",
       "</table>\n",
       "</div>"
      ],
      "text/plain": [
       "   PassengerId  Survived\n",
       "0          892         0\n",
       "1          893         0\n",
       "2          894         0\n",
       "3          895         0\n",
       "4          896         0"
      ]
     },
     "execution_count": 33,
     "metadata": {},
     "output_type": "execute_result"
    }
   ],
   "source": [
    "x.head()"
   ]
  },
  {
   "cell_type": "markdown",
   "id": "d041e8e2",
   "metadata": {
    "papermill": {
     "duration": 0.024391,
     "end_time": "2024-07-31T05:42:41.908571",
     "exception": false,
     "start_time": "2024-07-31T05:42:41.884180",
     "status": "completed"
    },
    "tags": []
   },
   "source": [
    "## Conclusion Using LightGBM\n",
    "In this project, we aimed to predict the survival of passengers on the Titanic using goven dataset. Our approach involved preprocessing the data, including handling missing values, one-hot encoding categorical features, and standardizing numerical features. We used LightGBM as our predictive model and employed standardization and an optimizer to enhance the model's performance and speed.\n",
    "\n",
    "### Overall accuracy: 99.05%"
   ]
  }
 ],
 "metadata": {
  "kaggle": {
   "accelerator": "none",
   "dataSources": [
    {
     "databundleVersionId": 26502,
     "sourceId": 3136,
     "sourceType": "competition"
    },
    {
     "datasetId": 122398,
     "sourceId": 315766,
     "sourceType": "datasetVersion"
    }
   ],
   "dockerImageVersionId": 30746,
   "isGpuEnabled": false,
   "isInternetEnabled": true,
   "language": "python",
   "sourceType": "notebook"
  },
  "kernelspec": {
   "display_name": "Python 3",
   "language": "python",
   "name": "python3"
  },
  "language_info": {
   "codemirror_mode": {
    "name": "ipython",
    "version": 3
   },
   "file_extension": ".py",
   "mimetype": "text/x-python",
   "name": "python",
   "nbconvert_exporter": "python",
   "pygments_lexer": "ipython3",
   "version": "3.12.2"
  },
  "papermill": {
   "default_parameters": {},
   "duration": 16.575788,
   "end_time": "2024-07-31T05:42:42.654679",
   "environment_variables": {},
   "exception": null,
   "input_path": "__notebook__.ipynb",
   "output_path": "__notebook__.ipynb",
   "parameters": {},
   "start_time": "2024-07-31T05:42:26.078891",
   "version": "2.5.0"
  }
 },
 "nbformat": 4,
 "nbformat_minor": 5
}
