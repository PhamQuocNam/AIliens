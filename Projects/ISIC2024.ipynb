{
 "cells": [
  {
   "cell_type": "markdown",
   "id": "82b8b5ab",
   "metadata": {
    "papermill": {
     "duration": 0.013273,
     "end_time": "2024-06-30T00:26:48.408364",
     "exception": false,
     "start_time": "2024-06-30T00:26:48.395091",
     "status": "completed"
    },
    "tags": []
   },
   "source": [
    "# <span><h1 style = \"font-family: garamond; font-size: 40px; font-style: normal; letter-spcaing: 3px; background-color: #f6f5f5; color :#fe346e; border-radius: 100px 100px; text-align:center\">Import Required Libraries 📚</h1></span>"
   ]
  },
  {
   "cell_type": "code",
   "execution_count": 1,
   "id": "99b91d79",
   "metadata": {
    "execution": {
     "iopub.execute_input": "2024-06-30T00:26:48.435376Z",
     "iopub.status.busy": "2024-06-30T00:26:48.435019Z",
     "iopub.status.idle": "2024-06-30T00:27:02.527178Z",
     "shell.execute_reply": "2024-06-30T00:27:02.526270Z"
    },
    "papermill": {
     "duration": 14.108468,
     "end_time": "2024-06-30T00:27:02.529644",
     "exception": false,
     "start_time": "2024-06-30T00:26:48.421176",
     "status": "completed"
    },
    "tags": []
   },
   "outputs": [
    {
     "name": "stdout",
     "output_type": "stream",
     "text": [
      "Collecting torcheval\r\n",
      "  Downloading torcheval-0.0.7-py3-none-any.whl.metadata (8.6 kB)\r\n",
      "Requirement already satisfied: typing-extensions in /opt/conda/lib/python3.10/site-packages (from torcheval) (4.9.0)\r\n",
      "Downloading torcheval-0.0.7-py3-none-any.whl (179 kB)\r\n",
      "\u001b[2K   \u001b[90m━━━━━━━━━━━━━━━━━━━━━━━━━━━━━━━━━━━━━━━━\u001b[0m \u001b[32m179.2/179.2 kB\u001b[0m \u001b[31m6.5 MB/s\u001b[0m eta \u001b[36m0:00:00\u001b[0m\r\n",
      "\u001b[?25hInstalling collected packages: torcheval\r\n",
      "Successfully installed torcheval-0.0.7\r\n"
     ]
    }
   ],
   "source": [
    "!pip install torcheval"
   ]
  },
  {
   "cell_type": "code",
   "execution_count": 2,
   "id": "a4aac53a",
   "metadata": {
    "execution": {
     "iopub.execute_input": "2024-06-30T00:27:02.558883Z",
     "iopub.status.busy": "2024-06-30T00:27:02.558523Z",
     "iopub.status.idle": "2024-06-30T00:27:12.065439Z",
     "shell.execute_reply": "2024-06-30T00:27:12.064612Z"
    },
    "papermill": {
     "duration": 9.524364,
     "end_time": "2024-06-30T00:27:12.067824",
     "exception": false,
     "start_time": "2024-06-30T00:27:02.543460",
     "status": "completed"
    },
    "tags": []
   },
   "outputs": [],
   "source": [
    "import os\n",
    "import gc\n",
    "import cv2\n",
    "import math\n",
    "import copy\n",
    "import time\n",
    "import random\n",
    "import glob\n",
    "from matplotlib import pyplot as plt\n",
    "\n",
    "# For data manipulation\n",
    "import numpy as np\n",
    "import pandas as pd\n",
    "\n",
    "# Pytorch Imports\n",
    "import torch\n",
    "import torch.nn as nn\n",
    "import torch.optim as optim\n",
    "import torch.nn.functional as F\n",
    "from torch.optim import lr_scheduler\n",
    "from torch.utils.data import Dataset, DataLoader\n",
    "from torch.cuda import amp\n",
    "import torchvision\n",
    "from torcheval.metrics.functional import binary_auroc\n",
    "\n",
    "# Utils\n",
    "import joblib\n",
    "from tqdm import tqdm\n",
    "from collections import defaultdict\n",
    "\n",
    "# Sklearn Imports\n",
    "from sklearn.preprocessing import LabelEncoder\n",
    "from sklearn.model_selection import StratifiedKFold, StratifiedGroupKFold \n",
    "\n",
    "# For Image Models\n",
    "import timm\n",
    "\n",
    "# Albumentations for augmentations\n",
    "import albumentations as A\n",
    "from albumentations.pytorch import ToTensorV2\n",
    "\n",
    "# For colored terminal text\n",
    "from colorama import Fore, Back, Style\n",
    "b_ = Fore.BLUE\n",
    "sr_ = Style.RESET_ALL\n",
    "\n",
    "import warnings\n",
    "warnings.filterwarnings(\"ignore\")\n",
    "\n",
    "# For descriptive error messages\n",
    "os.environ['CUDA_LAUNCH_BLOCKING'] = \"1\""
   ]
  },
  {
   "cell_type": "markdown",
   "id": "f60606a7",
   "metadata": {
    "papermill": {
     "duration": 0.013839,
     "end_time": "2024-06-30T00:27:12.095387",
     "exception": false,
     "start_time": "2024-06-30T00:27:12.081548",
     "status": "completed"
    },
    "tags": []
   },
   "source": [
    "# <span><h1 style = \"font-family: garamond; font-size: 40px; font-style: normal; letter-spcaing: 3px; background-color: #f6f5f5; color :#fe346e; border-radius: 100px 100px; text-align:center\">Training Configuration ⚙️</h1></span>"
   ]
  },
  {
   "cell_type": "code",
   "execution_count": 3,
   "id": "0682173d",
   "metadata": {
    "execution": {
     "iopub.execute_input": "2024-06-30T00:27:12.123217Z",
     "iopub.status.busy": "2024-06-30T00:27:12.122676Z",
     "iopub.status.idle": "2024-06-30T00:27:12.176650Z",
     "shell.execute_reply": "2024-06-30T00:27:12.175818Z"
    },
    "papermill": {
     "duration": 0.070072,
     "end_time": "2024-06-30T00:27:12.178605",
     "exception": false,
     "start_time": "2024-06-30T00:27:12.108533",
     "status": "completed"
    },
    "tags": []
   },
   "outputs": [],
   "source": [
    "CONFIG = {\n",
    "    \"seed\": 42,\n",
    "    \"epochs\": 50,\n",
    "    \"img_size\": 384,\n",
    "    \"model_name\": \"tf_efficientnet_b0_ns\",\n",
    "    \"checkpoint_path\" : \"/kaggle/input/tf-efficientnet/pytorch/tf-efficientnet-b0/1/tf_efficientnet_b0_aa-827b6e33.pth\",\n",
    "    \"train_batch_size\": 32,\n",
    "    \"valid_batch_size\": 64,\n",
    "    \"learning_rate\": 1e-4,\n",
    "    \"scheduler\": 'CosineAnnealingLR',\n",
    "    \"min_lr\": 1e-6,\n",
    "    \"T_max\": 500,\n",
    "    \"weight_decay\": 1e-6,\n",
    "    \"fold\" : 0,\n",
    "    \"n_fold\": 5,\n",
    "    \"n_accumulate\": 1,\n",
    "    \"device\": torch.device(\"cuda:0\" if torch.cuda.is_available() else \"cpu\"),\n",
    "}"
   ]
  },
  {
   "cell_type": "markdown",
   "id": "b338f2aa",
   "metadata": {
    "papermill": {
     "duration": 0.012949,
     "end_time": "2024-06-30T00:27:12.205023",
     "exception": false,
     "start_time": "2024-06-30T00:27:12.192074",
     "status": "completed"
    },
    "tags": []
   },
   "source": [
    "# <span><h1 style = \"font-family: garamond; font-size: 40px; font-style: normal; letter-spcaing: 3px; background-color: #f6f5f5; color :#fe346e; border-radius: 100px 100px; text-align:center\">Set Seed for Reproducibility</h1></span>"
   ]
  },
  {
   "cell_type": "code",
   "execution_count": 4,
   "id": "d8a1953b",
   "metadata": {
    "execution": {
     "iopub.execute_input": "2024-06-30T00:27:12.233552Z",
     "iopub.status.busy": "2024-06-30T00:27:12.232631Z",
     "iopub.status.idle": "2024-06-30T00:27:12.241103Z",
     "shell.execute_reply": "2024-06-30T00:27:12.240469Z"
    },
    "papermill": {
     "duration": 0.024686,
     "end_time": "2024-06-30T00:27:12.242930",
     "exception": false,
     "start_time": "2024-06-30T00:27:12.218244",
     "status": "completed"
    },
    "tags": []
   },
   "outputs": [],
   "source": [
    "def set_seed(seed=42):\n",
    "    '''Sets the seed of the entire notebook so results are the same every time we run.\n",
    "    This is for REPRODUCIBILITY.'''\n",
    "    np.random.seed(seed)\n",
    "    torch.manual_seed(seed)\n",
    "    torch.cuda.manual_seed(seed)\n",
    "    # When running on the CuDNN backend, two further options must be set\n",
    "    torch.backends.cudnn.deterministic = True\n",
    "    torch.backends.cudnn.benchmark = False\n",
    "    # Set a fixed value for the hash seed\n",
    "    os.environ['PYTHONHASHSEED'] = str(seed)\n",
    "    \n",
    "set_seed(CONFIG['seed'])"
   ]
  },
  {
   "cell_type": "code",
   "execution_count": 5,
   "id": "8fcf21ae",
   "metadata": {
    "execution": {
     "iopub.execute_input": "2024-06-30T00:27:12.273740Z",
     "iopub.status.busy": "2024-06-30T00:27:12.273401Z",
     "iopub.status.idle": "2024-06-30T00:27:12.277584Z",
     "shell.execute_reply": "2024-06-30T00:27:12.276684Z"
    },
    "papermill": {
     "duration": 0.020945,
     "end_time": "2024-06-30T00:27:12.279516",
     "exception": false,
     "start_time": "2024-06-30T00:27:12.258571",
     "status": "completed"
    },
    "tags": []
   },
   "outputs": [],
   "source": [
    "ROOT_DIR = \"/kaggle/input/isic-2024-challenge\"\n",
    "TRAIN_DIR = f'{ROOT_DIR}/train-image/image'"
   ]
  },
  {
   "cell_type": "code",
   "execution_count": 6,
   "id": "f8a1daad",
   "metadata": {
    "execution": {
     "iopub.execute_input": "2024-06-30T00:27:12.308712Z",
     "iopub.status.busy": "2024-06-30T00:27:12.307920Z",
     "iopub.status.idle": "2024-06-30T00:27:12.312347Z",
     "shell.execute_reply": "2024-06-30T00:27:12.311426Z"
    },
    "papermill": {
     "duration": 0.020972,
     "end_time": "2024-06-30T00:27:12.314300",
     "exception": false,
     "start_time": "2024-06-30T00:27:12.293328",
     "status": "completed"
    },
    "tags": []
   },
   "outputs": [],
   "source": [
    "def get_train_file_path(image_id):\n",
    "    return f\"{TRAIN_DIR}/{image_id}.jpg\""
   ]
  },
  {
   "cell_type": "markdown",
   "id": "29d2051a",
   "metadata": {
    "papermill": {
     "duration": 0.012992,
     "end_time": "2024-06-30T00:27:12.340833",
     "exception": false,
     "start_time": "2024-06-30T00:27:12.327841",
     "status": "completed"
    },
    "tags": []
   },
   "source": [
    "# <h1 style = \"font-family: garamond; font-size: 40px; font-style: normal; letter-spcaing: 3px; background-color: #f6f5f5; color :#fe346e; border-radius: 100px 100px; text-align:center\">Read the Data 📖</h1>"
   ]
  },
  {
   "cell_type": "code",
   "execution_count": 7,
   "id": "b69eea7e",
   "metadata": {
    "execution": {
     "iopub.execute_input": "2024-06-30T00:27:12.369274Z",
     "iopub.status.busy": "2024-06-30T00:27:12.368898Z",
     "iopub.status.idle": "2024-06-30T00:27:15.560524Z",
     "shell.execute_reply": "2024-06-30T00:27:15.559485Z"
    },
    "papermill": {
     "duration": 3.208757,
     "end_time": "2024-06-30T00:27:15.562788",
     "exception": false,
     "start_time": "2024-06-30T00:27:12.354031",
     "status": "completed"
    },
    "tags": []
   },
   "outputs": [],
   "source": [
    "train_images = sorted(glob.glob(f\"{TRAIN_DIR}/*.jpg\"))"
   ]
  },
  {
   "cell_type": "code",
   "execution_count": 8,
   "id": "17fc6e39",
   "metadata": {
    "execution": {
     "iopub.execute_input": "2024-06-30T00:27:15.591841Z",
     "iopub.status.busy": "2024-06-30T00:27:15.591521Z",
     "iopub.status.idle": "2024-06-30T00:27:23.171153Z",
     "shell.execute_reply": "2024-06-30T00:27:23.170239Z"
    },
    "papermill": {
     "duration": 7.596165,
     "end_time": "2024-06-30T00:27:23.173270",
     "exception": false,
     "start_time": "2024-06-30T00:27:15.577105",
     "status": "completed"
    },
    "tags": []
   },
   "outputs": [
    {
     "name": "stdout",
     "output_type": "stream",
     "text": [
      "        df.shape, # of positive cases, # of patients\n",
      "original> (401059, 55) 393 (1042,)\n",
      "filtered> (8253, 55) 393 (950,)\n"
     ]
    },
    {
     "data": {
      "text/html": [
       "<div>\n",
       "<style scoped>\n",
       "    .dataframe tbody tr th:only-of-type {\n",
       "        vertical-align: middle;\n",
       "    }\n",
       "\n",
       "    .dataframe tbody tr th {\n",
       "        vertical-align: top;\n",
       "    }\n",
       "\n",
       "    .dataframe thead th {\n",
       "        text-align: right;\n",
       "    }\n",
       "</style>\n",
       "<table border=\"1\" class=\"dataframe\">\n",
       "  <thead>\n",
       "    <tr style=\"text-align: right;\">\n",
       "      <th></th>\n",
       "      <th>isic_id</th>\n",
       "      <th>target</th>\n",
       "      <th>patient_id</th>\n",
       "      <th>age_approx</th>\n",
       "      <th>sex</th>\n",
       "      <th>anatom_site_general</th>\n",
       "      <th>clin_size_long_diam_mm</th>\n",
       "      <th>image_type</th>\n",
       "      <th>tbp_tile_type</th>\n",
       "      <th>tbp_lv_A</th>\n",
       "      <th>...</th>\n",
       "      <th>iddx_full</th>\n",
       "      <th>iddx_1</th>\n",
       "      <th>iddx_2</th>\n",
       "      <th>iddx_3</th>\n",
       "      <th>iddx_4</th>\n",
       "      <th>iddx_5</th>\n",
       "      <th>mel_mitotic_index</th>\n",
       "      <th>mel_thick_mm</th>\n",
       "      <th>tbp_lv_dnn_lesion_confidence</th>\n",
       "      <th>file_path</th>\n",
       "    </tr>\n",
       "  </thead>\n",
       "  <tbody>\n",
       "    <tr>\n",
       "      <th>0</th>\n",
       "      <td>ISIC_0082829</td>\n",
       "      <td>1</td>\n",
       "      <td>IP_3249371</td>\n",
       "      <td>80.0</td>\n",
       "      <td>female</td>\n",
       "      <td>anterior torso</td>\n",
       "      <td>9.27</td>\n",
       "      <td>TBP tile: close-up</td>\n",
       "      <td>3D: XP</td>\n",
       "      <td>18.093368</td>\n",
       "      <td>...</td>\n",
       "      <td>Malignant::Malignant epidermal proliferations:...</td>\n",
       "      <td>Malignant</td>\n",
       "      <td>Malignant epidermal proliferations</td>\n",
       "      <td>Squamous cell carcinoma in situ</td>\n",
       "      <td>NaN</td>\n",
       "      <td>NaN</td>\n",
       "      <td>NaN</td>\n",
       "      <td>NaN</td>\n",
       "      <td>72.211683</td>\n",
       "      <td>/kaggle/input/isic-2024-challenge/train-image/...</td>\n",
       "    </tr>\n",
       "    <tr>\n",
       "      <th>1</th>\n",
       "      <td>ISIC_0096034</td>\n",
       "      <td>1</td>\n",
       "      <td>IP_6723298</td>\n",
       "      <td>75.0</td>\n",
       "      <td>male</td>\n",
       "      <td>head/neck</td>\n",
       "      <td>3.88</td>\n",
       "      <td>TBP tile: close-up</td>\n",
       "      <td>3D: white</td>\n",
       "      <td>26.187010</td>\n",
       "      <td>...</td>\n",
       "      <td>Malignant::Malignant adnexal epithelial prolif...</td>\n",
       "      <td>Malignant</td>\n",
       "      <td>Malignant adnexal epithelial proliferations - ...</td>\n",
       "      <td>Basal cell carcinoma</td>\n",
       "      <td>Basal cell carcinoma, Nodular</td>\n",
       "      <td>NaN</td>\n",
       "      <td>NaN</td>\n",
       "      <td>NaN</td>\n",
       "      <td>94.559590</td>\n",
       "      <td>/kaggle/input/isic-2024-challenge/train-image/...</td>\n",
       "    </tr>\n",
       "    <tr>\n",
       "      <th>2</th>\n",
       "      <td>ISIC_0104229</td>\n",
       "      <td>1</td>\n",
       "      <td>IP_9057861</td>\n",
       "      <td>80.0</td>\n",
       "      <td>male</td>\n",
       "      <td>anterior torso</td>\n",
       "      <td>6.55</td>\n",
       "      <td>TBP tile: close-up</td>\n",
       "      <td>3D: white</td>\n",
       "      <td>33.480140</td>\n",
       "      <td>...</td>\n",
       "      <td>Malignant::Malignant adnexal epithelial prolif...</td>\n",
       "      <td>Malignant</td>\n",
       "      <td>Malignant adnexal epithelial proliferations - ...</td>\n",
       "      <td>Basal cell carcinoma</td>\n",
       "      <td>Basal cell carcinoma, Nodular</td>\n",
       "      <td>NaN</td>\n",
       "      <td>NaN</td>\n",
       "      <td>NaN</td>\n",
       "      <td>66.196170</td>\n",
       "      <td>/kaggle/input/isic-2024-challenge/train-image/...</td>\n",
       "    </tr>\n",
       "    <tr>\n",
       "      <th>3</th>\n",
       "      <td>ISIC_0119495</td>\n",
       "      <td>1</td>\n",
       "      <td>IP_6856511</td>\n",
       "      <td>60.0</td>\n",
       "      <td>male</td>\n",
       "      <td>upper extremity</td>\n",
       "      <td>5.27</td>\n",
       "      <td>TBP tile: close-up</td>\n",
       "      <td>3D: white</td>\n",
       "      <td>25.872050</td>\n",
       "      <td>...</td>\n",
       "      <td>Malignant::Malignant epidermal proliferations:...</td>\n",
       "      <td>Malignant</td>\n",
       "      <td>Malignant epidermal proliferations</td>\n",
       "      <td>Squamous cell carcinoma, Invasive</td>\n",
       "      <td>NaN</td>\n",
       "      <td>NaN</td>\n",
       "      <td>NaN</td>\n",
       "      <td>NaN</td>\n",
       "      <td>99.991270</td>\n",
       "      <td>/kaggle/input/isic-2024-challenge/train-image/...</td>\n",
       "    </tr>\n",
       "    <tr>\n",
       "      <th>4</th>\n",
       "      <td>ISIC_0157834</td>\n",
       "      <td>1</td>\n",
       "      <td>IP_3927284</td>\n",
       "      <td>55.0</td>\n",
       "      <td>male</td>\n",
       "      <td>posterior torso</td>\n",
       "      <td>5.29</td>\n",
       "      <td>TBP tile: close-up</td>\n",
       "      <td>3D: white</td>\n",
       "      <td>30.966662</td>\n",
       "      <td>...</td>\n",
       "      <td>Malignant::Malignant adnexal epithelial prolif...</td>\n",
       "      <td>Malignant</td>\n",
       "      <td>Malignant adnexal epithelial proliferations - ...</td>\n",
       "      <td>Basal cell carcinoma</td>\n",
       "      <td>Basal cell carcinoma, Superficial</td>\n",
       "      <td>NaN</td>\n",
       "      <td>NaN</td>\n",
       "      <td>NaN</td>\n",
       "      <td>99.960846</td>\n",
       "      <td>/kaggle/input/isic-2024-challenge/train-image/...</td>\n",
       "    </tr>\n",
       "    <tr>\n",
       "      <th>...</th>\n",
       "      <td>...</td>\n",
       "      <td>...</td>\n",
       "      <td>...</td>\n",
       "      <td>...</td>\n",
       "      <td>...</td>\n",
       "      <td>...</td>\n",
       "      <td>...</td>\n",
       "      <td>...</td>\n",
       "      <td>...</td>\n",
       "      <td>...</td>\n",
       "      <td>...</td>\n",
       "      <td>...</td>\n",
       "      <td>...</td>\n",
       "      <td>...</td>\n",
       "      <td>...</td>\n",
       "      <td>...</td>\n",
       "      <td>...</td>\n",
       "      <td>...</td>\n",
       "      <td>...</td>\n",
       "      <td>...</td>\n",
       "      <td>...</td>\n",
       "    </tr>\n",
       "    <tr>\n",
       "      <th>8248</th>\n",
       "      <td>ISIC_0267522</td>\n",
       "      <td>0</td>\n",
       "      <td>IP_9577633</td>\n",
       "      <td>50.0</td>\n",
       "      <td>male</td>\n",
       "      <td>lower extremity</td>\n",
       "      <td>4.94</td>\n",
       "      <td>TBP tile: close-up</td>\n",
       "      <td>3D: XP</td>\n",
       "      <td>21.738880</td>\n",
       "      <td>...</td>\n",
       "      <td>Benign</td>\n",
       "      <td>Benign</td>\n",
       "      <td>NaN</td>\n",
       "      <td>NaN</td>\n",
       "      <td>NaN</td>\n",
       "      <td>NaN</td>\n",
       "      <td>NaN</td>\n",
       "      <td>NaN</td>\n",
       "      <td>96.325510</td>\n",
       "      <td>/kaggle/input/isic-2024-challenge/train-image/...</td>\n",
       "    </tr>\n",
       "    <tr>\n",
       "      <th>8249</th>\n",
       "      <td>ISIC_0267560</td>\n",
       "      <td>0</td>\n",
       "      <td>IP_7746572</td>\n",
       "      <td>80.0</td>\n",
       "      <td>male</td>\n",
       "      <td>anterior torso</td>\n",
       "      <td>9.32</td>\n",
       "      <td>TBP tile: close-up</td>\n",
       "      <td>3D: white</td>\n",
       "      <td>18.481750</td>\n",
       "      <td>...</td>\n",
       "      <td>Benign</td>\n",
       "      <td>Benign</td>\n",
       "      <td>NaN</td>\n",
       "      <td>NaN</td>\n",
       "      <td>NaN</td>\n",
       "      <td>NaN</td>\n",
       "      <td>NaN</td>\n",
       "      <td>NaN</td>\n",
       "      <td>97.022320</td>\n",
       "      <td>/kaggle/input/isic-2024-challenge/train-image/...</td>\n",
       "    </tr>\n",
       "    <tr>\n",
       "      <th>8250</th>\n",
       "      <td>ISIC_0267568</td>\n",
       "      <td>0</td>\n",
       "      <td>IP_0379091</td>\n",
       "      <td>60.0</td>\n",
       "      <td>male</td>\n",
       "      <td>anterior torso</td>\n",
       "      <td>3.45</td>\n",
       "      <td>TBP tile: close-up</td>\n",
       "      <td>3D: white</td>\n",
       "      <td>13.901465</td>\n",
       "      <td>...</td>\n",
       "      <td>Benign</td>\n",
       "      <td>Benign</td>\n",
       "      <td>NaN</td>\n",
       "      <td>NaN</td>\n",
       "      <td>NaN</td>\n",
       "      <td>NaN</td>\n",
       "      <td>NaN</td>\n",
       "      <td>NaN</td>\n",
       "      <td>72.961688</td>\n",
       "      <td>/kaggle/input/isic-2024-challenge/train-image/...</td>\n",
       "    </tr>\n",
       "    <tr>\n",
       "      <th>8251</th>\n",
       "      <td>ISIC_0267594</td>\n",
       "      <td>0</td>\n",
       "      <td>IP_1433033</td>\n",
       "      <td>70.0</td>\n",
       "      <td>NaN</td>\n",
       "      <td>lower extremity</td>\n",
       "      <td>3.00</td>\n",
       "      <td>TBP tile: close-up</td>\n",
       "      <td>3D: XP</td>\n",
       "      <td>17.986882</td>\n",
       "      <td>...</td>\n",
       "      <td>Benign</td>\n",
       "      <td>Benign</td>\n",
       "      <td>NaN</td>\n",
       "      <td>NaN</td>\n",
       "      <td>NaN</td>\n",
       "      <td>NaN</td>\n",
       "      <td>NaN</td>\n",
       "      <td>NaN</td>\n",
       "      <td>99.899274</td>\n",
       "      <td>/kaggle/input/isic-2024-challenge/train-image/...</td>\n",
       "    </tr>\n",
       "    <tr>\n",
       "      <th>8252</th>\n",
       "      <td>ISIC_0267606</td>\n",
       "      <td>0</td>\n",
       "      <td>IP_8565023</td>\n",
       "      <td>30.0</td>\n",
       "      <td>male</td>\n",
       "      <td>head/neck</td>\n",
       "      <td>3.10</td>\n",
       "      <td>TBP tile: close-up</td>\n",
       "      <td>3D: XP</td>\n",
       "      <td>13.420060</td>\n",
       "      <td>...</td>\n",
       "      <td>Benign</td>\n",
       "      <td>Benign</td>\n",
       "      <td>NaN</td>\n",
       "      <td>NaN</td>\n",
       "      <td>NaN</td>\n",
       "      <td>NaN</td>\n",
       "      <td>NaN</td>\n",
       "      <td>NaN</td>\n",
       "      <td>99.449560</td>\n",
       "      <td>/kaggle/input/isic-2024-challenge/train-image/...</td>\n",
       "    </tr>\n",
       "  </tbody>\n",
       "</table>\n",
       "<p>8253 rows × 56 columns</p>\n",
       "</div>"
      ],
      "text/plain": [
       "           isic_id  target  patient_id  age_approx     sex  \\\n",
       "0     ISIC_0082829       1  IP_3249371        80.0  female   \n",
       "1     ISIC_0096034       1  IP_6723298        75.0    male   \n",
       "2     ISIC_0104229       1  IP_9057861        80.0    male   \n",
       "3     ISIC_0119495       1  IP_6856511        60.0    male   \n",
       "4     ISIC_0157834       1  IP_3927284        55.0    male   \n",
       "...            ...     ...         ...         ...     ...   \n",
       "8248  ISIC_0267522       0  IP_9577633        50.0    male   \n",
       "8249  ISIC_0267560       0  IP_7746572        80.0    male   \n",
       "8250  ISIC_0267568       0  IP_0379091        60.0    male   \n",
       "8251  ISIC_0267594       0  IP_1433033        70.0     NaN   \n",
       "8252  ISIC_0267606       0  IP_8565023        30.0    male   \n",
       "\n",
       "     anatom_site_general  clin_size_long_diam_mm          image_type  \\\n",
       "0         anterior torso                    9.27  TBP tile: close-up   \n",
       "1              head/neck                    3.88  TBP tile: close-up   \n",
       "2         anterior torso                    6.55  TBP tile: close-up   \n",
       "3        upper extremity                    5.27  TBP tile: close-up   \n",
       "4        posterior torso                    5.29  TBP tile: close-up   \n",
       "...                  ...                     ...                 ...   \n",
       "8248     lower extremity                    4.94  TBP tile: close-up   \n",
       "8249      anterior torso                    9.32  TBP tile: close-up   \n",
       "8250      anterior torso                    3.45  TBP tile: close-up   \n",
       "8251     lower extremity                    3.00  TBP tile: close-up   \n",
       "8252           head/neck                    3.10  TBP tile: close-up   \n",
       "\n",
       "     tbp_tile_type   tbp_lv_A  ...  \\\n",
       "0           3D: XP  18.093368  ...   \n",
       "1        3D: white  26.187010  ...   \n",
       "2        3D: white  33.480140  ...   \n",
       "3        3D: white  25.872050  ...   \n",
       "4        3D: white  30.966662  ...   \n",
       "...            ...        ...  ...   \n",
       "8248        3D: XP  21.738880  ...   \n",
       "8249     3D: white  18.481750  ...   \n",
       "8250     3D: white  13.901465  ...   \n",
       "8251        3D: XP  17.986882  ...   \n",
       "8252        3D: XP  13.420060  ...   \n",
       "\n",
       "                                              iddx_full     iddx_1  \\\n",
       "0     Malignant::Malignant epidermal proliferations:...  Malignant   \n",
       "1     Malignant::Malignant adnexal epithelial prolif...  Malignant   \n",
       "2     Malignant::Malignant adnexal epithelial prolif...  Malignant   \n",
       "3     Malignant::Malignant epidermal proliferations:...  Malignant   \n",
       "4     Malignant::Malignant adnexal epithelial prolif...  Malignant   \n",
       "...                                                 ...        ...   \n",
       "8248                                             Benign     Benign   \n",
       "8249                                             Benign     Benign   \n",
       "8250                                             Benign     Benign   \n",
       "8251                                             Benign     Benign   \n",
       "8252                                             Benign     Benign   \n",
       "\n",
       "                                                 iddx_2  \\\n",
       "0                    Malignant epidermal proliferations   \n",
       "1     Malignant adnexal epithelial proliferations - ...   \n",
       "2     Malignant adnexal epithelial proliferations - ...   \n",
       "3                    Malignant epidermal proliferations   \n",
       "4     Malignant adnexal epithelial proliferations - ...   \n",
       "...                                                 ...   \n",
       "8248                                                NaN   \n",
       "8249                                                NaN   \n",
       "8250                                                NaN   \n",
       "8251                                                NaN   \n",
       "8252                                                NaN   \n",
       "\n",
       "                                 iddx_3                             iddx_4  \\\n",
       "0       Squamous cell carcinoma in situ                                NaN   \n",
       "1                  Basal cell carcinoma      Basal cell carcinoma, Nodular   \n",
       "2                  Basal cell carcinoma      Basal cell carcinoma, Nodular   \n",
       "3     Squamous cell carcinoma, Invasive                                NaN   \n",
       "4                  Basal cell carcinoma  Basal cell carcinoma, Superficial   \n",
       "...                                 ...                                ...   \n",
       "8248                                NaN                                NaN   \n",
       "8249                                NaN                                NaN   \n",
       "8250                                NaN                                NaN   \n",
       "8251                                NaN                                NaN   \n",
       "8252                                NaN                                NaN   \n",
       "\n",
       "      iddx_5  mel_mitotic_index  mel_thick_mm  tbp_lv_dnn_lesion_confidence  \\\n",
       "0        NaN                NaN           NaN                     72.211683   \n",
       "1        NaN                NaN           NaN                     94.559590   \n",
       "2        NaN                NaN           NaN                     66.196170   \n",
       "3        NaN                NaN           NaN                     99.991270   \n",
       "4        NaN                NaN           NaN                     99.960846   \n",
       "...      ...                ...           ...                           ...   \n",
       "8248     NaN                NaN           NaN                     96.325510   \n",
       "8249     NaN                NaN           NaN                     97.022320   \n",
       "8250     NaN                NaN           NaN                     72.961688   \n",
       "8251     NaN                NaN           NaN                     99.899274   \n",
       "8252     NaN                NaN           NaN                     99.449560   \n",
       "\n",
       "                                              file_path  \n",
       "0     /kaggle/input/isic-2024-challenge/train-image/...  \n",
       "1     /kaggle/input/isic-2024-challenge/train-image/...  \n",
       "2     /kaggle/input/isic-2024-challenge/train-image/...  \n",
       "3     /kaggle/input/isic-2024-challenge/train-image/...  \n",
       "4     /kaggle/input/isic-2024-challenge/train-image/...  \n",
       "...                                                 ...  \n",
       "8248  /kaggle/input/isic-2024-challenge/train-image/...  \n",
       "8249  /kaggle/input/isic-2024-challenge/train-image/...  \n",
       "8250  /kaggle/input/isic-2024-challenge/train-image/...  \n",
       "8251  /kaggle/input/isic-2024-challenge/train-image/...  \n",
       "8252  /kaggle/input/isic-2024-challenge/train-image/...  \n",
       "\n",
       "[8253 rows x 56 columns]"
      ]
     },
     "execution_count": 8,
     "metadata": {},
     "output_type": "execute_result"
    }
   ],
   "source": [
    "df = pd.read_csv(f\"{ROOT_DIR}/train-metadata.csv\")\n",
    "\n",
    "print(\"        df.shape, # of positive cases, # of patients\")\n",
    "print(\"original>\", df.shape, df.target.sum(), df[\"patient_id\"].unique().shape)\n",
    "\n",
    "df_positive = df[df[\"target\"] == 1].reset_index(drop=True)\n",
    "df_negative = df[df[\"target\"] == 0].reset_index(drop=True)\n",
    "\n",
    "df = pd.concat([df_positive, df_negative.iloc[:df_positive.shape[0]*20, :]])  # positive:negative = 1:20\n",
    "print(\"filtered>\", df.shape, df.target.sum(), df[\"patient_id\"].unique().shape)\n",
    "\n",
    "df['file_path'] = df['isic_id'].apply(get_train_file_path)\n",
    "df = df[ df[\"file_path\"].isin(train_images) ].reset_index(drop=True)\n",
    "df"
   ]
  },
  {
   "cell_type": "code",
   "execution_count": 9,
   "id": "b0e2850f",
   "metadata": {
    "execution": {
     "iopub.execute_input": "2024-06-30T00:27:23.204439Z",
     "iopub.status.busy": "2024-06-30T00:27:23.204066Z",
     "iopub.status.idle": "2024-06-30T00:27:23.210593Z",
     "shell.execute_reply": "2024-06-30T00:27:23.209759Z"
    },
    "papermill": {
     "duration": 0.02394,
     "end_time": "2024-06-30T00:27:23.212623",
     "exception": false,
     "start_time": "2024-06-30T00:27:23.188683",
     "status": "completed"
    },
    "tags": []
   },
   "outputs": [
    {
     "data": {
      "text/plain": [
       "(8253, 393)"
      ]
     },
     "execution_count": 9,
     "metadata": {},
     "output_type": "execute_result"
    }
   ],
   "source": [
    "df.shape[0], df.target.sum()"
   ]
  },
  {
   "cell_type": "code",
   "execution_count": 10,
   "id": "5bc3f8b6",
   "metadata": {
    "execution": {
     "iopub.execute_input": "2024-06-30T00:27:23.243454Z",
     "iopub.status.busy": "2024-06-30T00:27:23.242804Z",
     "iopub.status.idle": "2024-06-30T00:27:23.249381Z",
     "shell.execute_reply": "2024-06-30T00:27:23.248502Z"
    },
    "papermill": {
     "duration": 0.024293,
     "end_time": "2024-06-30T00:27:23.251509",
     "exception": false,
     "start_time": "2024-06-30T00:27:23.227216",
     "status": "completed"
    },
    "tags": []
   },
   "outputs": [
    {
     "data": {
      "text/plain": [
       "10316"
      ]
     },
     "execution_count": 10,
     "metadata": {},
     "output_type": "execute_result"
    }
   ],
   "source": [
    "CONFIG['T_max'] = df.shape[0] * (CONFIG[\"n_fold\"]-1) * CONFIG['epochs'] // CONFIG['train_batch_size'] // CONFIG[\"n_fold\"]\n",
    "CONFIG['T_max']"
   ]
  },
  {
   "cell_type": "markdown",
   "id": "b823032f",
   "metadata": {
    "papermill": {
     "duration": 0.014276,
     "end_time": "2024-06-30T00:27:23.280193",
     "exception": false,
     "start_time": "2024-06-30T00:27:23.265917",
     "status": "completed"
    },
    "tags": []
   },
   "source": [
    "# <span><h1 style = \"font-family: garamond; font-size: 40px; font-style: normal; letter-spcaing: 3px; background-color: #f6f5f5; color :#fe346e; border-radius: 100px 100px; text-align:center\">Create Folds</h1></span>"
   ]
  },
  {
   "cell_type": "code",
   "execution_count": 11,
   "id": "e1ff6b6c",
   "metadata": {
    "execution": {
     "iopub.execute_input": "2024-06-30T00:27:23.311287Z",
     "iopub.status.busy": "2024-06-30T00:27:23.310608Z",
     "iopub.status.idle": "2024-06-30T00:27:23.812844Z",
     "shell.execute_reply": "2024-06-30T00:27:23.811829Z"
    },
    "papermill": {
     "duration": 0.520606,
     "end_time": "2024-06-30T00:27:23.815301",
     "exception": false,
     "start_time": "2024-06-30T00:27:23.294695",
     "status": "completed"
    },
    "tags": []
   },
   "outputs": [],
   "source": [
    "sgkf = StratifiedGroupKFold(n_splits=CONFIG['n_fold'])\n",
    "\n",
    "for fold, ( _, val_) in enumerate(sgkf.split(df, df.target,df.patient_id)):\n",
    "      df.loc[val_ , \"kfold\"] = int(fold)"
   ]
  },
  {
   "cell_type": "markdown",
   "id": "8b594f5c",
   "metadata": {
    "papermill": {
     "duration": 0.014468,
     "end_time": "2024-06-30T00:27:23.845469",
     "exception": false,
     "start_time": "2024-06-30T00:27:23.831001",
     "status": "completed"
    },
    "tags": []
   },
   "source": [
    "# <span><h1 style = \"font-family: garamond; font-size: 40px; font-style: normal; letter-spcaing: 3px; background-color: #f6f5f5; color :#fe346e; border-radius: 100px 100px; text-align:center\">Dataset Class</h1></span>"
   ]
  },
  {
   "cell_type": "code",
   "execution_count": 12,
   "id": "95950cb6",
   "metadata": {
    "execution": {
     "iopub.execute_input": "2024-06-30T00:27:23.876872Z",
     "iopub.status.busy": "2024-06-30T00:27:23.876013Z",
     "iopub.status.idle": "2024-06-30T00:27:23.888889Z",
     "shell.execute_reply": "2024-06-30T00:27:23.888081Z"
    },
    "papermill": {
     "duration": 0.030762,
     "end_time": "2024-06-30T00:27:23.890748",
     "exception": false,
     "start_time": "2024-06-30T00:27:23.859986",
     "status": "completed"
    },
    "tags": []
   },
   "outputs": [],
   "source": [
    "class ISICDataset_for_Train(Dataset):\n",
    "    def __init__(self, df, transforms=None):\n",
    "        self.df_positive = df[df[\"target\"] == 1].reset_index()\n",
    "        self.df_negative = df[df[\"target\"] == 0].reset_index()\n",
    "        self.file_names_positive = self.df_positive['file_path'].values\n",
    "        self.file_names_negative = self.df_negative['file_path'].values\n",
    "        self.targets_positive = self.df_positive['target'].values\n",
    "        self.targets_negative = self.df_negative['target'].values\n",
    "        self.transforms = transforms\n",
    "        \n",
    "    def __len__(self):\n",
    "        return len(self.df_positive) * 2\n",
    "    \n",
    "    def __getitem__(self, index):\n",
    "        if random.random() >= 0.5:\n",
    "            df = self.df_positive\n",
    "            file_names = self.file_names_positive\n",
    "            targets = self.targets_positive\n",
    "        else:\n",
    "            df = self.df_negative\n",
    "            file_names = self.file_names_negative\n",
    "            targets = self.targets_negative\n",
    "        index = index % df.shape[0]\n",
    "        \n",
    "        img_path = file_names[index]\n",
    "        img = cv2.imread(img_path)\n",
    "        img = cv2.cvtColor(img, cv2.COLOR_BGR2RGB)\n",
    "        target = targets[index]\n",
    "        \n",
    "        if self.transforms:\n",
    "            img = self.transforms(image=img)[\"image\"]\n",
    "            \n",
    "        return {\n",
    "            'image': img,\n",
    "            'target': target\n",
    "        }\n",
    "    \n",
    "class ISICDataset(Dataset):\n",
    "    def __init__(self, df, transforms=None):\n",
    "        self.df = df\n",
    "        self.file_names = df['file_path'].values\n",
    "        self.targets = df['target'].values\n",
    "        self.transforms = transforms\n",
    "        \n",
    "    def __len__(self):\n",
    "        return len(self.df)\n",
    "    \n",
    "    def __getitem__(self, index):\n",
    "        img_path = self.file_names[index]\n",
    "        img = cv2.imread(img_path)\n",
    "        img = cv2.cvtColor(img, cv2.COLOR_BGR2RGB)\n",
    "        target = self.targets[index]\n",
    "        \n",
    "        if self.transforms:\n",
    "            img = self.transforms(image=img)[\"image\"]\n",
    "            \n",
    "        return {\n",
    "            'image': img,\n",
    "            'target': target\n",
    "        }"
   ]
  },
  {
   "cell_type": "markdown",
   "id": "f35597fe",
   "metadata": {
    "papermill": {
     "duration": 0.01431,
     "end_time": "2024-06-30T00:27:23.919537",
     "exception": false,
     "start_time": "2024-06-30T00:27:23.905227",
     "status": "completed"
    },
    "tags": []
   },
   "source": [
    "# <span><h1 style = \"font-family: garamond; font-size: 40px; font-style: normal; letter-spcaing: 3px; background-color: #f6f5f5; color :#fe346e; border-radius: 100px 100px; text-align:center\">Augmentations</h1></span>"
   ]
  },
  {
   "cell_type": "code",
   "execution_count": 13,
   "id": "2d5d8b68",
   "metadata": {
    "execution": {
     "iopub.execute_input": "2024-06-30T00:27:23.949817Z",
     "iopub.status.busy": "2024-06-30T00:27:23.949446Z",
     "iopub.status.idle": "2024-06-30T00:27:23.958760Z",
     "shell.execute_reply": "2024-06-30T00:27:23.957911Z"
    },
    "papermill": {
     "duration": 0.026802,
     "end_time": "2024-06-30T00:27:23.960690",
     "exception": false,
     "start_time": "2024-06-30T00:27:23.933888",
     "status": "completed"
    },
    "tags": []
   },
   "outputs": [],
   "source": [
    "data_transforms = {\n",
    "    \"train\": A.Compose([\n",
    "        A.Resize(CONFIG['img_size'], CONFIG['img_size']),\n",
    "        A.RandomRotate90(p=0.5),\n",
    "        A.Flip(p=0.5),\n",
    "        A.Downscale(p=0.25),\n",
    "        A.ShiftScaleRotate(shift_limit=0.1, \n",
    "                           scale_limit=0.15, \n",
    "                           rotate_limit=60, \n",
    "                           p=0.5),\n",
    "        A.HueSaturationValue(\n",
    "                hue_shift_limit=0.2, \n",
    "                sat_shift_limit=0.2, \n",
    "                val_shift_limit=0.2, \n",
    "                p=0.5\n",
    "            ),\n",
    "        A.RandomBrightnessContrast(\n",
    "                brightness_limit=(-0.1,0.1), \n",
    "                contrast_limit=(-0.1, 0.1), \n",
    "                p=0.5\n",
    "            ),\n",
    "        A.Normalize(\n",
    "                mean=[0.485, 0.456, 0.406], \n",
    "                std=[0.229, 0.224, 0.225], \n",
    "                max_pixel_value=255.0, \n",
    "                p=1.0\n",
    "            ),\n",
    "        ToTensorV2()], p=1.),\n",
    "    \n",
    "    \"valid\": A.Compose([\n",
    "        A.Resize(CONFIG['img_size'], CONFIG['img_size']),\n",
    "        A.Normalize(\n",
    "                mean=[0.485, 0.456, 0.406], \n",
    "                std=[0.229, 0.224, 0.225], \n",
    "                max_pixel_value=255.0, \n",
    "                p=1.0\n",
    "            ),\n",
    "        ToTensorV2()], p=1.)\n",
    "}"
   ]
  },
  {
   "cell_type": "markdown",
   "id": "13fb80c3",
   "metadata": {
    "papermill": {
     "duration": 0.016189,
     "end_time": "2024-06-30T00:27:23.991340",
     "exception": false,
     "start_time": "2024-06-30T00:27:23.975151",
     "status": "completed"
    },
    "tags": []
   },
   "source": [
    "# <span><h1 style = \"font-family: garamond; font-size: 40px; font-style: normal; letter-spcaing: 3px; background-color: #f6f5f5; color :#fe346e; border-radius: 100px 100px; text-align:center\">GeM Pooling</h1></span>"
   ]
  },
  {
   "cell_type": "code",
   "execution_count": 14,
   "id": "9bb393d9",
   "metadata": {
    "execution": {
     "iopub.execute_input": "2024-06-30T00:27:24.032631Z",
     "iopub.status.busy": "2024-06-30T00:27:24.032259Z",
     "iopub.status.idle": "2024-06-30T00:27:24.043418Z",
     "shell.execute_reply": "2024-06-30T00:27:24.041590Z"
    },
    "papermill": {
     "duration": 0.035434,
     "end_time": "2024-06-30T00:27:24.046373",
     "exception": false,
     "start_time": "2024-06-30T00:27:24.010939",
     "status": "completed"
    },
    "tags": []
   },
   "outputs": [],
   "source": [
    "class GeM(nn.Module):\n",
    "    def __init__(self, p=3, eps=1e-6):\n",
    "        super(GeM, self).__init__()\n",
    "        self.p = nn.Parameter(torch.ones(1)*p)\n",
    "        self.eps = eps\n",
    "\n",
    "    def forward(self, x):\n",
    "        return self.gem(x, p=self.p, eps=self.eps)\n",
    "        \n",
    "    def gem(self, x, p=3, eps=1e-6):\n",
    "        return F.avg_pool2d(x.clamp(min=eps).pow(p), (x.size(-2), x.size(-1))).pow(1./p)\n",
    "        \n",
    "    def __repr__(self):\n",
    "        return self.__class__.__name__ + \\\n",
    "                '(' + 'p=' + '{:.4f}'.format(self.p.data.tolist()[0]) + \\\n",
    "                ', ' + 'eps=' + str(self.eps) + ')'"
   ]
  },
  {
   "cell_type": "markdown",
   "id": "62814ac2",
   "metadata": {
    "papermill": {
     "duration": 0.01457,
     "end_time": "2024-06-30T00:27:24.127136",
     "exception": false,
     "start_time": "2024-06-30T00:27:24.112566",
     "status": "completed"
    },
    "tags": []
   },
   "source": [
    "# <span><h1 style = \"font-family: garamond; font-size: 40px; font-style: normal; letter-spcaing: 3px; background-color: #f6f5f5; color :#fe346e; border-radius: 100px 100px; text-align:center\">Create Model</h1></span>"
   ]
  },
  {
   "cell_type": "code",
   "execution_count": 15,
   "id": "d3f1ded0",
   "metadata": {
    "execution": {
     "iopub.execute_input": "2024-06-30T00:27:24.159112Z",
     "iopub.status.busy": "2024-06-30T00:27:24.158146Z",
     "iopub.status.idle": "2024-06-30T00:27:25.202900Z",
     "shell.execute_reply": "2024-06-30T00:27:25.201919Z"
    },
    "papermill": {
     "duration": 1.063313,
     "end_time": "2024-06-30T00:27:25.205376",
     "exception": false,
     "start_time": "2024-06-30T00:27:24.142063",
     "status": "completed"
    },
    "tags": []
   },
   "outputs": [
    {
     "data": {
      "application/vnd.jupyter.widget-view+json": {
       "model_id": "315ba745fb3a4cd58c469cd39abba44b",
       "version_major": 2,
       "version_minor": 0
      },
      "text/plain": [
       "model.safetensors:   0%|          | 0.00/21.4M [00:00<?, ?B/s]"
      ]
     },
     "metadata": {},
     "output_type": "display_data"
    }
   ],
   "source": [
    "class ISICModel(nn.Module):\n",
    "    def __init__(self, model_name, num_classes=1, pretrained=True, checkpoint_path=None):\n",
    "        super(ISICModel, self).__init__()\n",
    "        self.model = timm.create_model(model_name, pretrained=pretrained, checkpoint_path=checkpoint_path)\n",
    "\n",
    "        in_features = self.model.classifier.in_features\n",
    "        self.model.classifier = nn.Identity()\n",
    "        self.model.global_pool = nn.Identity()\n",
    "        self.pooling = GeM()\n",
    "        self.linear = nn.Linear(in_features, num_classes)\n",
    "        self.sigmoid = nn.Sigmoid()\n",
    "\n",
    "    def forward(self, images):\n",
    "        features = self.model(images)\n",
    "        pooled_features = self.pooling(features).flatten(1)\n",
    "        output = self.sigmoid(self.linear(pooled_features))\n",
    "        return output\n",
    "\n",
    "    \n",
    "model = ISICModel(CONFIG['model_name'], checkpoint_path=CONFIG['checkpoint_path'])\n",
    "model.to(CONFIG['device']);"
   ]
  },
  {
   "cell_type": "markdown",
   "id": "b4afa6eb",
   "metadata": {
    "papermill": {
     "duration": 0.014962,
     "end_time": "2024-06-30T00:27:25.235592",
     "exception": false,
     "start_time": "2024-06-30T00:27:25.220630",
     "status": "completed"
    },
    "tags": []
   },
   "source": [
    "# <span><h1 style = \"font-family: garamond; font-size: 40px; font-style: normal; letter-spcaing: 3px; background-color: #f6f5f5; color :#fe346e; border-radius: 100px 100px; text-align:center\">Loss Function</h1></span>"
   ]
  },
  {
   "cell_type": "code",
   "execution_count": 16,
   "id": "02fcce31",
   "metadata": {
    "execution": {
     "iopub.execute_input": "2024-06-30T00:27:25.267258Z",
     "iopub.status.busy": "2024-06-30T00:27:25.266890Z",
     "iopub.status.idle": "2024-06-30T00:27:25.271348Z",
     "shell.execute_reply": "2024-06-30T00:27:25.270428Z"
    },
    "papermill": {
     "duration": 0.022603,
     "end_time": "2024-06-30T00:27:25.273284",
     "exception": false,
     "start_time": "2024-06-30T00:27:25.250681",
     "status": "completed"
    },
    "tags": []
   },
   "outputs": [],
   "source": [
    "def criterion(outputs, targets):\n",
    "    return nn.BCELoss()(outputs, targets)"
   ]
  },
  {
   "cell_type": "markdown",
   "id": "956129a7",
   "metadata": {
    "papermill": {
     "duration": 0.014482,
     "end_time": "2024-06-30T00:27:25.303033",
     "exception": false,
     "start_time": "2024-06-30T00:27:25.288551",
     "status": "completed"
    },
    "tags": []
   },
   "source": [
    "# <span><h1 style = \"font-family: garamond; font-size: 40px; font-style: normal; letter-spcaing: 3px; background-color: #f6f5f5; color :#fe346e; border-radius: 100px 100px; text-align:center\">Training Function</h1></span>"
   ]
  },
  {
   "cell_type": "code",
   "execution_count": 17,
   "id": "89e26160",
   "metadata": {
    "execution": {
     "iopub.execute_input": "2024-06-30T00:27:25.334821Z",
     "iopub.status.busy": "2024-06-30T00:27:25.334473Z",
     "iopub.status.idle": "2024-06-30T00:27:25.344303Z",
     "shell.execute_reply": "2024-06-30T00:27:25.343421Z"
    },
    "papermill": {
     "duration": 0.028056,
     "end_time": "2024-06-30T00:27:25.346185",
     "exception": false,
     "start_time": "2024-06-30T00:27:25.318129",
     "status": "completed"
    },
    "tags": []
   },
   "outputs": [],
   "source": [
    "def train_one_epoch(model, optimizer, scheduler, dataloader, device, epoch):\n",
    "    model.train()\n",
    "    \n",
    "    dataset_size = 0\n",
    "    running_loss = 0.0\n",
    "    running_auroc  = 0.0\n",
    "    \n",
    "    bar = tqdm(enumerate(dataloader), total=len(dataloader))\n",
    "    for step, data in bar:\n",
    "        images = data['image'].to(device, dtype=torch.float)\n",
    "        targets = data['target'].to(device, dtype=torch.float)\n",
    "        \n",
    "        batch_size = images.size(0)\n",
    "        \n",
    "        outputs = model(images).squeeze()\n",
    "        loss = criterion(outputs, targets)\n",
    "        loss = loss / CONFIG['n_accumulate']\n",
    "            \n",
    "        loss.backward()\n",
    "    \n",
    "        if (step + 1) % CONFIG['n_accumulate'] == 0:\n",
    "            optimizer.step()\n",
    "\n",
    "            # zero the parameter gradients\n",
    "            optimizer.zero_grad()\n",
    "\n",
    "            if scheduler is not None:\n",
    "                scheduler.step()\n",
    "                \n",
    "        auroc = binary_auroc(input=outputs.squeeze(), target=targets).item()\n",
    "        \n",
    "        running_loss += (loss.item() * batch_size)\n",
    "        running_auroc  += (auroc * batch_size)\n",
    "        dataset_size += batch_size\n",
    "        \n",
    "        epoch_loss = running_loss / dataset_size\n",
    "        epoch_auroc = running_auroc / dataset_size\n",
    "        \n",
    "        bar.set_postfix(Epoch=epoch, Train_Loss=epoch_loss, Train_Auroc=epoch_auroc,\n",
    "                        LR=optimizer.param_groups[0]['lr'])\n",
    "    gc.collect()\n",
    "    \n",
    "    return epoch_loss, epoch_auroc"
   ]
  },
  {
   "cell_type": "markdown",
   "id": "c5e74927",
   "metadata": {
    "papermill": {
     "duration": 0.014504,
     "end_time": "2024-06-30T00:27:25.375380",
     "exception": false,
     "start_time": "2024-06-30T00:27:25.360876",
     "status": "completed"
    },
    "tags": []
   },
   "source": [
    "# <span><h1 style = \"font-family: garamond; font-size: 40px; font-style: normal; letter-spcaing: 3px; background-color: #f6f5f5; color :#fe346e; border-radius: 100px 100px; text-align:center\">Validation Function</h1></span>"
   ]
  },
  {
   "cell_type": "code",
   "execution_count": 18,
   "id": "8b463f96",
   "metadata": {
    "execution": {
     "iopub.execute_input": "2024-06-30T00:27:25.406875Z",
     "iopub.status.busy": "2024-06-30T00:27:25.406021Z",
     "iopub.status.idle": "2024-06-30T00:27:25.414770Z",
     "shell.execute_reply": "2024-06-30T00:27:25.413906Z"
    },
    "papermill": {
     "duration": 0.026703,
     "end_time": "2024-06-30T00:27:25.416861",
     "exception": false,
     "start_time": "2024-06-30T00:27:25.390158",
     "status": "completed"
    },
    "tags": []
   },
   "outputs": [],
   "source": [
    "@torch.inference_mode()\n",
    "def valid_one_epoch(model, dataloader, device, epoch):\n",
    "    model.eval()\n",
    "    \n",
    "    dataset_size = 0\n",
    "    running_loss = 0.0\n",
    "    running_auroc = 0.0\n",
    "    \n",
    "    bar = tqdm(enumerate(dataloader), total=len(dataloader))\n",
    "    for step, data in bar:        \n",
    "        images = data['image'].to(device, dtype=torch.float)\n",
    "        targets = data['target'].to(device, dtype=torch.float)\n",
    "        \n",
    "        batch_size = images.size(0)\n",
    "\n",
    "        outputs = model(images).squeeze()\n",
    "        loss = criterion(outputs, targets)\n",
    "\n",
    "        auroc = binary_auroc(input=outputs.squeeze(), target=targets).item()\n",
    "        running_loss += (loss.item() * batch_size)\n",
    "        running_auroc  += (auroc * batch_size)\n",
    "        dataset_size += batch_size\n",
    "        \n",
    "        epoch_loss = running_loss / dataset_size\n",
    "        epoch_auroc = running_auroc / dataset_size\n",
    "        \n",
    "        bar.set_postfix(Epoch=epoch, Valid_Loss=epoch_loss, Valid_Auroc=epoch_auroc,\n",
    "                        LR=optimizer.param_groups[0]['lr'])   \n",
    "    \n",
    "    gc.collect()\n",
    "    \n",
    "    return epoch_loss, epoch_auroc"
   ]
  },
  {
   "cell_type": "markdown",
   "id": "0ae54cc7",
   "metadata": {
    "papermill": {
     "duration": 0.014293,
     "end_time": "2024-06-30T00:27:25.445918",
     "exception": false,
     "start_time": "2024-06-30T00:27:25.431625",
     "status": "completed"
    },
    "tags": []
   },
   "source": [
    "# <span><h1 style = \"font-family: garamond; font-size: 40px; font-style: normal; letter-spcaing: 3px; background-color: #f6f5f5; color :#fe346e; border-radius: 100px 100px; text-align:center\">Run Training</h1></span>"
   ]
  },
  {
   "cell_type": "code",
   "execution_count": 19,
   "id": "50a78cfd",
   "metadata": {
    "execution": {
     "iopub.execute_input": "2024-06-30T00:27:25.476935Z",
     "iopub.status.busy": "2024-06-30T00:27:25.476103Z",
     "iopub.status.idle": "2024-06-30T00:27:25.487664Z",
     "shell.execute_reply": "2024-06-30T00:27:25.486803Z"
    },
    "papermill": {
     "duration": 0.029037,
     "end_time": "2024-06-30T00:27:25.489508",
     "exception": false,
     "start_time": "2024-06-30T00:27:25.460471",
     "status": "completed"
    },
    "tags": []
   },
   "outputs": [],
   "source": [
    "def run_training(model, optimizer, scheduler, device, num_epochs):\n",
    "    if torch.cuda.is_available():\n",
    "        print(\"[INFO] Using GPU: {}\\n\".format(torch.cuda.get_device_name()))\n",
    "    \n",
    "    start = time.time()\n",
    "    best_model_wts = copy.deepcopy(model.state_dict())\n",
    "    best_epoch_auroc = -np.inf\n",
    "    history = defaultdict(list)\n",
    "    \n",
    "    for epoch in range(1, num_epochs + 1): \n",
    "        gc.collect()\n",
    "        train_epoch_loss, train_epoch_auroc = train_one_epoch(model, optimizer, scheduler, \n",
    "                                           dataloader=train_loader, \n",
    "                                           device=CONFIG['device'], epoch=epoch)\n",
    "        \n",
    "        val_epoch_loss, val_epoch_auroc = valid_one_epoch(model, valid_loader, device=CONFIG['device'], \n",
    "                                         epoch=epoch)\n",
    "    \n",
    "        history['Train Loss'].append(train_epoch_loss)\n",
    "        history['Valid Loss'].append(val_epoch_loss)\n",
    "        history['Train AUROC'].append(train_epoch_auroc)\n",
    "        history['Valid AUROC'].append(val_epoch_auroc)\n",
    "        history['lr'].append( scheduler.get_lr()[0] )\n",
    "        \n",
    "        # deep copy the model\n",
    "        if best_epoch_auroc <= val_epoch_auroc:\n",
    "            print(f\"{b_}Validation AUROC Improved ({best_epoch_auroc} ---> {val_epoch_auroc})\")\n",
    "            best_epoch_auroc = val_epoch_auroc\n",
    "            best_model_wts = copy.deepcopy(model.state_dict())\n",
    "            PATH = \"AUROC{:.4f}_Loss{:.4f}_epoch{:.0f}.bin\".format(val_epoch_auroc, val_epoch_loss, epoch)\n",
    "            torch.save(model.state_dict(), PATH)\n",
    "            # Save a model file from the current directory\n",
    "            print(f\"Model Saved{sr_}\")\n",
    "            \n",
    "        print()\n",
    "    \n",
    "    end = time.time()\n",
    "    time_elapsed = end - start\n",
    "    print('Training complete in {:.0f}h {:.0f}m {:.0f}s'.format(\n",
    "        time_elapsed // 3600, (time_elapsed % 3600) // 60, (time_elapsed % 3600) % 60))\n",
    "    print(\"Best AUROC: {:.4f}\".format(best_epoch_auroc))\n",
    "    \n",
    "    # load best model weights\n",
    "    model.load_state_dict(best_model_wts)\n",
    "    \n",
    "    return model, history"
   ]
  },
  {
   "cell_type": "code",
   "execution_count": 20,
   "id": "1eb018b4",
   "metadata": {
    "execution": {
     "iopub.execute_input": "2024-06-30T00:27:25.522700Z",
     "iopub.status.busy": "2024-06-30T00:27:25.522379Z",
     "iopub.status.idle": "2024-06-30T00:27:25.528515Z",
     "shell.execute_reply": "2024-06-30T00:27:25.527398Z"
    },
    "papermill": {
     "duration": 0.026119,
     "end_time": "2024-06-30T00:27:25.530425",
     "exception": false,
     "start_time": "2024-06-30T00:27:25.504306",
     "status": "completed"
    },
    "tags": []
   },
   "outputs": [],
   "source": [
    "def fetch_scheduler(optimizer):\n",
    "    if CONFIG['scheduler'] == 'CosineAnnealingLR':\n",
    "        scheduler = lr_scheduler.CosineAnnealingLR(optimizer,T_max=CONFIG['T_max'], \n",
    "                                                   eta_min=CONFIG['min_lr'])\n",
    "    elif CONFIG['scheduler'] == 'CosineAnnealingWarmRestarts':\n",
    "        scheduler = lr_scheduler.CosineAnnealingWarmRestarts(optimizer,T_0=CONFIG['T_0'], \n",
    "                                                             eta_min=CONFIG['min_lr'])\n",
    "    elif CONFIG['scheduler'] == None:\n",
    "        return None\n",
    "        \n",
    "    return scheduler"
   ]
  },
  {
   "cell_type": "code",
   "execution_count": 21,
   "id": "d30a5248",
   "metadata": {
    "execution": {
     "iopub.execute_input": "2024-06-30T00:27:25.561550Z",
     "iopub.status.busy": "2024-06-30T00:27:25.560965Z",
     "iopub.status.idle": "2024-06-30T00:27:25.567670Z",
     "shell.execute_reply": "2024-06-30T00:27:25.566808Z"
    },
    "papermill": {
     "duration": 0.024231,
     "end_time": "2024-06-30T00:27:25.569579",
     "exception": false,
     "start_time": "2024-06-30T00:27:25.545348",
     "status": "completed"
    },
    "tags": []
   },
   "outputs": [],
   "source": [
    "def prepare_loaders(df, fold):\n",
    "    df_train = df[df.kfold != fold].reset_index(drop=True)\n",
    "    df_valid = df[df.kfold == fold].reset_index(drop=True)\n",
    "    \n",
    "    train_dataset = ISICDataset_for_Train(df_train, transforms=data_transforms[\"train\"])\n",
    "    valid_dataset = ISICDataset(df_valid, transforms=data_transforms[\"valid\"])\n",
    "\n",
    "    train_loader = DataLoader(train_dataset, batch_size=CONFIG['train_batch_size'], \n",
    "                              num_workers=2, shuffle=True, pin_memory=True, drop_last=True)\n",
    "    valid_loader = DataLoader(valid_dataset, batch_size=CONFIG['valid_batch_size'], \n",
    "                              num_workers=2, shuffle=False, pin_memory=True)\n",
    "    \n",
    "    return train_loader, valid_loader"
   ]
  },
  {
   "cell_type": "markdown",
   "id": "20653292",
   "metadata": {
    "papermill": {
     "duration": 0.014342,
     "end_time": "2024-06-30T00:27:25.598546",
     "exception": false,
     "start_time": "2024-06-30T00:27:25.584204",
     "status": "completed"
    },
    "tags": []
   },
   "source": [
    "<span style=\"color: #000508; font-family: Segoe UI; font-size: 1.5em; font-weight: 300;\">Prepare Dataloaders</span>"
   ]
  },
  {
   "cell_type": "code",
   "execution_count": 22,
   "id": "99b8c16b",
   "metadata": {
    "execution": {
     "iopub.execute_input": "2024-06-30T00:27:25.629070Z",
     "iopub.status.busy": "2024-06-30T00:27:25.628708Z",
     "iopub.status.idle": "2024-06-30T00:27:25.646416Z",
     "shell.execute_reply": "2024-06-30T00:27:25.645624Z"
    },
    "papermill": {
     "duration": 0.035306,
     "end_time": "2024-06-30T00:27:25.648428",
     "exception": false,
     "start_time": "2024-06-30T00:27:25.613122",
     "status": "completed"
    },
    "tags": []
   },
   "outputs": [],
   "source": [
    "train_loader, valid_loader = prepare_loaders(df, fold=CONFIG[\"fold\"])"
   ]
  },
  {
   "cell_type": "markdown",
   "id": "18b95085",
   "metadata": {
    "papermill": {
     "duration": 0.014421,
     "end_time": "2024-06-30T00:27:25.678060",
     "exception": false,
     "start_time": "2024-06-30T00:27:25.663639",
     "status": "completed"
    },
    "tags": []
   },
   "source": [
    "<span style=\"color: #000508; font-family: Segoe UI; font-size: 1.5em; font-weight: 300;\">Define Optimizer and Scheduler</span>"
   ]
  },
  {
   "cell_type": "code",
   "execution_count": 23,
   "id": "b80a8486",
   "metadata": {
    "execution": {
     "iopub.execute_input": "2024-06-30T00:27:25.709475Z",
     "iopub.status.busy": "2024-06-30T00:27:25.708835Z",
     "iopub.status.idle": "2024-06-30T00:27:25.715495Z",
     "shell.execute_reply": "2024-06-30T00:27:25.714609Z"
    },
    "papermill": {
     "duration": 0.024605,
     "end_time": "2024-06-30T00:27:25.717414",
     "exception": false,
     "start_time": "2024-06-30T00:27:25.692809",
     "status": "completed"
    },
    "tags": []
   },
   "outputs": [],
   "source": [
    "optimizer = optim.Adam(model.parameters(), lr=CONFIG['learning_rate'], \n",
    "                       weight_decay=CONFIG['weight_decay'])\n",
    "scheduler = fetch_scheduler(optimizer)"
   ]
  },
  {
   "cell_type": "markdown",
   "id": "b2329e28",
   "metadata": {
    "papermill": {
     "duration": 0.014701,
     "end_time": "2024-06-30T00:27:25.746824",
     "exception": false,
     "start_time": "2024-06-30T00:27:25.732123",
     "status": "completed"
    },
    "tags": []
   },
   "source": [
    "<span style=\"color: #000508; font-family: Segoe UI; font-size: 1.5em; font-weight: 300;\">Start Training</span>"
   ]
  },
  {
   "cell_type": "code",
   "execution_count": 24,
   "id": "44d3bdb7",
   "metadata": {
    "execution": {
     "iopub.execute_input": "2024-06-30T00:27:25.777990Z",
     "iopub.status.busy": "2024-06-30T00:27:25.777635Z",
     "iopub.status.idle": "2024-06-30T00:39:59.028513Z",
     "shell.execute_reply": "2024-06-30T00:39:59.027269Z"
    },
    "papermill": {
     "duration": 753.269178,
     "end_time": "2024-06-30T00:39:59.030778",
     "exception": false,
     "start_time": "2024-06-30T00:27:25.761600",
     "status": "completed"
    },
    "tags": []
   },
   "outputs": [
    {
     "name": "stdout",
     "output_type": "stream",
     "text": [
      "[INFO] Using GPU: Tesla P100-PCIE-16GB\n",
      "\n"
     ]
    },
    {
     "name": "stderr",
     "output_type": "stream",
     "text": [
      "100%|██████████| 19/19 [00:10<00:00,  1.87it/s, Epoch=1, LR=0.0001, Train_Auroc=0.636, Train_Loss=0.665]\n",
      "100%|██████████| 26/26 [00:09<00:00,  2.82it/s, Epoch=1, LR=0.0001, Valid_Auroc=0.508, Valid_Loss=0.746]\n"
     ]
    },
    {
     "name": "stdout",
     "output_type": "stream",
     "text": [
      "\u001b[34mValidation AUROC Improved (-inf ---> 0.507779247374298)\n",
      "Model Saved\u001b[0m\n",
      "\n"
     ]
    },
    {
     "name": "stderr",
     "output_type": "stream",
     "text": [
      "100%|██████████| 19/19 [00:07<00:00,  2.54it/s, Epoch=2, LR=0.0001, Train_Auroc=0.775, Train_Loss=0.596]\n",
      "100%|██████████| 26/26 [00:07<00:00,  3.47it/s, Epoch=2, LR=0.0001, Valid_Auroc=0.51, Valid_Loss=0.54]\n"
     ]
    },
    {
     "name": "stdout",
     "output_type": "stream",
     "text": [
      "\u001b[34mValidation AUROC Improved (0.507779247374298 ---> 0.5095724298198989)\n",
      "Model Saved\u001b[0m\n",
      "\n"
     ]
    },
    {
     "name": "stderr",
     "output_type": "stream",
     "text": [
      "100%|██████████| 19/19 [00:07<00:00,  2.52it/s, Epoch=3, LR=0.0001, Train_Auroc=0.851, Train_Loss=0.503]\n",
      "100%|██████████| 26/26 [00:06<00:00,  4.02it/s, Epoch=3, LR=0.0001, Valid_Auroc=0.514, Valid_Loss=0.554]\n"
     ]
    },
    {
     "name": "stdout",
     "output_type": "stream",
     "text": [
      "\u001b[34mValidation AUROC Improved (0.5095724298198989 ---> 0.5144245705550542)\n",
      "Model Saved\u001b[0m\n",
      "\n"
     ]
    },
    {
     "name": "stderr",
     "output_type": "stream",
     "text": [
      "100%|██████████| 19/19 [00:07<00:00,  2.55it/s, Epoch=4, LR=0.0001, Train_Auroc=0.88, Train_Loss=0.45]\n",
      "100%|██████████| 26/26 [00:06<00:00,  3.78it/s, Epoch=4, LR=0.0001, Valid_Auroc=0.516, Valid_Loss=0.478]\n"
     ]
    },
    {
     "name": "stdout",
     "output_type": "stream",
     "text": [
      "\u001b[34mValidation AUROC Improved (0.5144245705550542 ---> 0.5162704936608199)\n",
      "Model Saved\u001b[0m\n",
      "\n"
     ]
    },
    {
     "name": "stderr",
     "output_type": "stream",
     "text": [
      "100%|██████████| 19/19 [00:07<00:00,  2.58it/s, Epoch=5, LR=0.0001, Train_Auroc=0.903, Train_Loss=0.419]\n",
      "100%|██████████| 26/26 [00:06<00:00,  3.86it/s, Epoch=5, LR=0.0001, Valid_Auroc=0.516, Valid_Loss=0.571]\n"
     ]
    },
    {
     "name": "stdout",
     "output_type": "stream",
     "text": [
      "\n"
     ]
    },
    {
     "name": "stderr",
     "output_type": "stream",
     "text": [
      "100%|██████████| 19/19 [00:07<00:00,  2.57it/s, Epoch=6, LR=0.0001, Train_Auroc=0.895, Train_Loss=0.416]\n",
      "100%|██████████| 26/26 [00:06<00:00,  3.82it/s, Epoch=6, LR=0.0001, Valid_Auroc=0.516, Valid_Loss=0.511]\n"
     ]
    },
    {
     "name": "stdout",
     "output_type": "stream",
     "text": [
      "\n"
     ]
    },
    {
     "name": "stderr",
     "output_type": "stream",
     "text": [
      "100%|██████████| 19/19 [00:07<00:00,  2.56it/s, Epoch=7, LR=0.0001, Train_Auroc=0.945, Train_Loss=0.314]\n",
      "100%|██████████| 26/26 [00:06<00:00,  3.94it/s, Epoch=7, LR=0.0001, Valid_Auroc=0.516, Valid_Loss=0.426]\n"
     ]
    },
    {
     "name": "stdout",
     "output_type": "stream",
     "text": [
      "\n"
     ]
    },
    {
     "name": "stderr",
     "output_type": "stream",
     "text": [
      "100%|██████████| 19/19 [00:07<00:00,  2.56it/s, Epoch=8, LR=9.99e-5, Train_Auroc=0.918, Train_Loss=0.368]\n",
      "100%|██████████| 26/26 [00:06<00:00,  4.07it/s, Epoch=8, LR=9.99e-5, Valid_Auroc=0.515, Valid_Loss=0.395]\n"
     ]
    },
    {
     "name": "stdout",
     "output_type": "stream",
     "text": [
      "\n"
     ]
    },
    {
     "name": "stderr",
     "output_type": "stream",
     "text": [
      "100%|██████████| 19/19 [00:07<00:00,  2.45it/s, Epoch=9, LR=9.99e-5, Train_Auroc=0.943, Train_Loss=0.318]\n",
      "100%|██████████| 26/26 [00:06<00:00,  3.79it/s, Epoch=9, LR=9.99e-5, Valid_Auroc=0.516, Valid_Loss=0.332]\n"
     ]
    },
    {
     "name": "stdout",
     "output_type": "stream",
     "text": [
      "\n"
     ]
    },
    {
     "name": "stderr",
     "output_type": "stream",
     "text": [
      "100%|██████████| 19/19 [00:07<00:00,  2.54it/s, Epoch=10, LR=9.99e-5, Train_Auroc=0.957, Train_Loss=0.287]\n",
      "100%|██████████| 26/26 [00:06<00:00,  3.90it/s, Epoch=10, LR=9.99e-5, Valid_Auroc=0.515, Valid_Loss=0.278]\n"
     ]
    },
    {
     "name": "stdout",
     "output_type": "stream",
     "text": [
      "\n"
     ]
    },
    {
     "name": "stderr",
     "output_type": "stream",
     "text": [
      "100%|██████████| 19/19 [00:07<00:00,  2.52it/s, Epoch=11, LR=9.99e-5, Train_Auroc=0.963, Train_Loss=0.262]\n",
      "100%|██████████| 26/26 [00:06<00:00,  3.92it/s, Epoch=11, LR=9.99e-5, Valid_Auroc=0.516, Valid_Loss=0.388]\n"
     ]
    },
    {
     "name": "stdout",
     "output_type": "stream",
     "text": [
      "\n"
     ]
    },
    {
     "name": "stderr",
     "output_type": "stream",
     "text": [
      "100%|██████████| 19/19 [00:07<00:00,  2.54it/s, Epoch=12, LR=9.99e-5, Train_Auroc=0.944, Train_Loss=0.31]\n",
      "100%|██████████| 26/26 [00:06<00:00,  3.94it/s, Epoch=12, LR=9.99e-5, Valid_Auroc=0.514, Valid_Loss=0.197]\n"
     ]
    },
    {
     "name": "stdout",
     "output_type": "stream",
     "text": [
      "\n"
     ]
    },
    {
     "name": "stderr",
     "output_type": "stream",
     "text": [
      "100%|██████████| 19/19 [00:07<00:00,  2.51it/s, Epoch=13, LR=9.99e-5, Train_Auroc=0.956, Train_Loss=0.331]\n",
      "100%|██████████| 26/26 [00:06<00:00,  3.86it/s, Epoch=13, LR=9.99e-5, Valid_Auroc=0.515, Valid_Loss=0.602]\n"
     ]
    },
    {
     "name": "stdout",
     "output_type": "stream",
     "text": [
      "\n"
     ]
    },
    {
     "name": "stderr",
     "output_type": "stream",
     "text": [
      "100%|██████████| 19/19 [00:07<00:00,  2.54it/s, Epoch=14, LR=9.98e-5, Train_Auroc=0.95, Train_Loss=0.32]\n",
      "100%|██████████| 26/26 [00:06<00:00,  3.99it/s, Epoch=14, LR=9.98e-5, Valid_Auroc=0.515, Valid_Loss=0.241]\n"
     ]
    },
    {
     "name": "stdout",
     "output_type": "stream",
     "text": [
      "\n"
     ]
    },
    {
     "name": "stderr",
     "output_type": "stream",
     "text": [
      "100%|██████████| 19/19 [00:07<00:00,  2.55it/s, Epoch=15, LR=9.98e-5, Train_Auroc=0.96, Train_Loss=0.295]\n",
      "100%|██████████| 26/26 [00:06<00:00,  4.04it/s, Epoch=15, LR=9.98e-5, Valid_Auroc=0.515, Valid_Loss=0.273]\n"
     ]
    },
    {
     "name": "stdout",
     "output_type": "stream",
     "text": [
      "\n"
     ]
    },
    {
     "name": "stderr",
     "output_type": "stream",
     "text": [
      "100%|██████████| 19/19 [00:07<00:00,  2.59it/s, Epoch=16, LR=9.98e-5, Train_Auroc=0.963, Train_Loss=0.278]\n",
      "100%|██████████| 26/26 [00:06<00:00,  4.02it/s, Epoch=16, LR=9.98e-5, Valid_Auroc=0.516, Valid_Loss=0.328]\n"
     ]
    },
    {
     "name": "stdout",
     "output_type": "stream",
     "text": [
      "\n"
     ]
    },
    {
     "name": "stderr",
     "output_type": "stream",
     "text": [
      "100%|██████████| 19/19 [00:07<00:00,  2.58it/s, Epoch=17, LR=9.98e-5, Train_Auroc=0.965, Train_Loss=0.255]\n",
      "100%|██████████| 26/26 [00:06<00:00,  3.75it/s, Epoch=17, LR=9.98e-5, Valid_Auroc=0.515, Valid_Loss=0.352]\n"
     ]
    },
    {
     "name": "stdout",
     "output_type": "stream",
     "text": [
      "\n"
     ]
    },
    {
     "name": "stderr",
     "output_type": "stream",
     "text": [
      "100%|██████████| 19/19 [00:07<00:00,  2.55it/s, Epoch=18, LR=9.97e-5, Train_Auroc=0.964, Train_Loss=0.249]\n",
      "100%|██████████| 26/26 [00:06<00:00,  3.83it/s, Epoch=18, LR=9.97e-5, Valid_Auroc=0.516, Valid_Loss=0.351]\n"
     ]
    },
    {
     "name": "stdout",
     "output_type": "stream",
     "text": [
      "\u001b[34mValidation AUROC Improved (0.5162704936608199 ---> 0.5163232343209846)\n",
      "Model Saved\u001b[0m\n",
      "\n"
     ]
    },
    {
     "name": "stderr",
     "output_type": "stream",
     "text": [
      "100%|██████████| 19/19 [00:07<00:00,  2.55it/s, Epoch=19, LR=9.97e-5, Train_Auroc=0.967, Train_Loss=0.239]\n",
      "100%|██████████| 26/26 [00:07<00:00,  3.66it/s, Epoch=19, LR=9.97e-5, Valid_Auroc=0.516, Valid_Loss=0.23]\n"
     ]
    },
    {
     "name": "stdout",
     "output_type": "stream",
     "text": [
      "\n"
     ]
    },
    {
     "name": "stderr",
     "output_type": "stream",
     "text": [
      "100%|██████████| 19/19 [00:07<00:00,  2.54it/s, Epoch=20, LR=9.97e-5, Train_Auroc=0.971, Train_Loss=0.236]\n",
      "100%|██████████| 26/26 [00:06<00:00,  3.93it/s, Epoch=20, LR=9.97e-5, Valid_Auroc=0.516, Valid_Loss=0.436]\n"
     ]
    },
    {
     "name": "stdout",
     "output_type": "stream",
     "text": [
      "\n"
     ]
    },
    {
     "name": "stderr",
     "output_type": "stream",
     "text": [
      "100%|██████████| 19/19 [00:07<00:00,  2.53it/s, Epoch=21, LR=9.96e-5, Train_Auroc=0.987, Train_Loss=0.208]\n",
      "100%|██████████| 26/26 [00:07<00:00,  3.57it/s, Epoch=21, LR=9.96e-5, Valid_Auroc=0.516, Valid_Loss=0.297]\n"
     ]
    },
    {
     "name": "stdout",
     "output_type": "stream",
     "text": [
      "\n"
     ]
    },
    {
     "name": "stderr",
     "output_type": "stream",
     "text": [
      "100%|██████████| 19/19 [00:07<00:00,  2.55it/s, Epoch=22, LR=9.96e-5, Train_Auroc=0.974, Train_Loss=0.237]\n",
      "100%|██████████| 26/26 [00:06<00:00,  3.91it/s, Epoch=22, LR=9.96e-5, Valid_Auroc=0.516, Valid_Loss=0.352]\n"
     ]
    },
    {
     "name": "stdout",
     "output_type": "stream",
     "text": [
      "\n"
     ]
    },
    {
     "name": "stderr",
     "output_type": "stream",
     "text": [
      "100%|██████████| 19/19 [00:07<00:00,  2.55it/s, Epoch=23, LR=9.96e-5, Train_Auroc=0.971, Train_Loss=0.228]\n",
      "100%|██████████| 26/26 [00:06<00:00,  3.76it/s, Epoch=23, LR=9.96e-5, Valid_Auroc=0.516, Valid_Loss=0.243]\n"
     ]
    },
    {
     "name": "stdout",
     "output_type": "stream",
     "text": [
      "\n"
     ]
    },
    {
     "name": "stderr",
     "output_type": "stream",
     "text": [
      "100%|██████████| 19/19 [00:07<00:00,  2.58it/s, Epoch=24, LR=9.95e-5, Train_Auroc=0.981, Train_Loss=0.192]\n",
      "100%|██████████| 26/26 [00:06<00:00,  3.92it/s, Epoch=24, LR=9.95e-5, Valid_Auroc=0.516, Valid_Loss=0.333]\n"
     ]
    },
    {
     "name": "stdout",
     "output_type": "stream",
     "text": [
      "\u001b[34mValidation AUROC Improved (0.5163232343209846 ---> 0.5163759749811493)\n",
      "Model Saved\u001b[0m\n",
      "\n"
     ]
    },
    {
     "name": "stderr",
     "output_type": "stream",
     "text": [
      "100%|██████████| 19/19 [00:07<00:00,  2.57it/s, Epoch=25, LR=9.95e-5, Train_Auroc=0.981, Train_Loss=0.212]\n",
      "100%|██████████| 26/26 [00:06<00:00,  3.92it/s, Epoch=25, LR=9.95e-5, Valid_Auroc=0.517, Valid_Loss=0.368]\n"
     ]
    },
    {
     "name": "stdout",
     "output_type": "stream",
     "text": [
      "\u001b[34mValidation AUROC Improved (0.5163759749811493 ---> 0.5166924189421378)\n",
      "Model Saved\u001b[0m\n",
      "\n"
     ]
    },
    {
     "name": "stderr",
     "output_type": "stream",
     "text": [
      "100%|██████████| 19/19 [00:07<00:00,  2.47it/s, Epoch=26, LR=9.94e-5, Train_Auroc=0.987, Train_Loss=0.168]\n",
      "100%|██████████| 26/26 [00:06<00:00,  3.99it/s, Epoch=26, LR=9.94e-5, Valid_Auroc=0.516, Valid_Loss=0.263]\n"
     ]
    },
    {
     "name": "stdout",
     "output_type": "stream",
     "text": [
      "\n"
     ]
    },
    {
     "name": "stderr",
     "output_type": "stream",
     "text": [
      "100%|██████████| 19/19 [00:07<00:00,  2.56it/s, Epoch=27, LR=9.94e-5, Train_Auroc=0.979, Train_Loss=0.21]\n",
      "100%|██████████| 26/26 [00:06<00:00,  3.87it/s, Epoch=27, LR=9.94e-5, Valid_Auroc=0.516, Valid_Loss=0.364]\n"
     ]
    },
    {
     "name": "stdout",
     "output_type": "stream",
     "text": [
      "\n"
     ]
    },
    {
     "name": "stderr",
     "output_type": "stream",
     "text": [
      "100%|██████████| 19/19 [00:07<00:00,  2.52it/s, Epoch=28, LR=9.94e-5, Train_Auroc=0.98, Train_Loss=0.201]\n",
      "100%|██████████| 26/26 [00:06<00:00,  3.97it/s, Epoch=28, LR=9.94e-5, Valid_Auroc=0.516, Valid_Loss=0.275]\n"
     ]
    },
    {
     "name": "stdout",
     "output_type": "stream",
     "text": [
      "\n"
     ]
    },
    {
     "name": "stderr",
     "output_type": "stream",
     "text": [
      "100%|██████████| 19/19 [00:07<00:00,  2.53it/s, Epoch=29, LR=9.93e-5, Train_Auroc=0.989, Train_Loss=0.147]\n",
      "100%|██████████| 26/26 [00:06<00:00,  3.84it/s, Epoch=29, LR=9.93e-5, Valid_Auroc=0.516, Valid_Loss=0.492]\n"
     ]
    },
    {
     "name": "stdout",
     "output_type": "stream",
     "text": [
      "\n"
     ]
    },
    {
     "name": "stderr",
     "output_type": "stream",
     "text": [
      "100%|██████████| 19/19 [00:07<00:00,  2.49it/s, Epoch=30, LR=9.93e-5, Train_Auroc=0.986, Train_Loss=0.189]\n",
      "100%|██████████| 26/26 [00:06<00:00,  3.93it/s, Epoch=30, LR=9.93e-5, Valid_Auroc=0.516, Valid_Loss=0.259]\n"
     ]
    },
    {
     "name": "stdout",
     "output_type": "stream",
     "text": [
      "\n"
     ]
    },
    {
     "name": "stderr",
     "output_type": "stream",
     "text": [
      "100%|██████████| 19/19 [00:07<00:00,  2.52it/s, Epoch=31, LR=9.92e-5, Train_Auroc=0.989, Train_Loss=0.163]\n",
      "100%|██████████| 26/26 [00:06<00:00,  3.84it/s, Epoch=31, LR=9.92e-5, Valid_Auroc=0.517, Valid_Loss=0.542]\n"
     ]
    },
    {
     "name": "stdout",
     "output_type": "stream",
     "text": [
      "\n"
     ]
    },
    {
     "name": "stderr",
     "output_type": "stream",
     "text": [
      "100%|██████████| 19/19 [00:07<00:00,  2.52it/s, Epoch=32, LR=9.92e-5, Train_Auroc=0.987, Train_Loss=0.171]\n",
      "100%|██████████| 26/26 [00:06<00:00,  3.93it/s, Epoch=32, LR=9.92e-5, Valid_Auroc=0.517, Valid_Loss=0.268]\n"
     ]
    },
    {
     "name": "stdout",
     "output_type": "stream",
     "text": [
      "\n"
     ]
    },
    {
     "name": "stderr",
     "output_type": "stream",
     "text": [
      "100%|██████████| 19/19 [00:07<00:00,  2.53it/s, Epoch=33, LR=9.91e-5, Train_Auroc=0.989, Train_Loss=0.158]\n",
      "100%|██████████| 26/26 [00:06<00:00,  3.84it/s, Epoch=33, LR=9.91e-5, Valid_Auroc=0.517, Valid_Loss=0.367]\n"
     ]
    },
    {
     "name": "stdout",
     "output_type": "stream",
     "text": [
      "\u001b[34mValidation AUROC Improved (0.5166924189421378 ---> 0.5166924189421378)\n",
      "Model Saved\u001b[0m\n",
      "\n"
     ]
    },
    {
     "name": "stderr",
     "output_type": "stream",
     "text": [
      "100%|██████████| 19/19 [00:07<00:00,  2.52it/s, Epoch=34, LR=9.9e-5, Train_Auroc=0.987, Train_Loss=0.16]\n",
      "100%|██████████| 26/26 [00:06<00:00,  3.90it/s, Epoch=34, LR=9.9e-5, Valid_Auroc=0.516, Valid_Loss=0.316]\n"
     ]
    },
    {
     "name": "stdout",
     "output_type": "stream",
     "text": [
      "\n"
     ]
    },
    {
     "name": "stderr",
     "output_type": "stream",
     "text": [
      "100%|██████████| 19/19 [00:07<00:00,  2.56it/s, Epoch=35, LR=9.9e-5, Train_Auroc=0.99, Train_Loss=0.132]\n",
      "100%|██████████| 26/26 [00:06<00:00,  3.90it/s, Epoch=35, LR=9.9e-5, Valid_Auroc=0.517, Valid_Loss=0.348]\n"
     ]
    },
    {
     "name": "stdout",
     "output_type": "stream",
     "text": [
      "\u001b[34mValidation AUROC Improved (0.5166924189421378 ---> 0.5171143442234556)\n",
      "Model Saved\u001b[0m\n",
      "\n"
     ]
    },
    {
     "name": "stderr",
     "output_type": "stream",
     "text": [
      "100%|██████████| 19/19 [00:07<00:00,  2.58it/s, Epoch=36, LR=9.89e-5, Train_Auroc=0.992, Train_Loss=0.135]\n",
      "100%|██████████| 26/26 [00:06<00:00,  3.73it/s, Epoch=36, LR=9.89e-5, Valid_Auroc=0.516, Valid_Loss=0.356]\n"
     ]
    },
    {
     "name": "stdout",
     "output_type": "stream",
     "text": [
      "\n"
     ]
    },
    {
     "name": "stderr",
     "output_type": "stream",
     "text": [
      "100%|██████████| 19/19 [00:07<00:00,  2.54it/s, Epoch=37, LR=9.89e-5, Train_Auroc=0.991, Train_Loss=0.153]\n",
      "100%|██████████| 26/26 [00:06<00:00,  3.80it/s, Epoch=37, LR=9.89e-5, Valid_Auroc=0.516, Valid_Loss=0.495]\n"
     ]
    },
    {
     "name": "stdout",
     "output_type": "stream",
     "text": [
      "\n"
     ]
    },
    {
     "name": "stderr",
     "output_type": "stream",
     "text": [
      "100%|██████████| 19/19 [00:07<00:00,  2.56it/s, Epoch=38, LR=9.88e-5, Train_Auroc=0.994, Train_Loss=0.116]\n",
      "100%|██████████| 26/26 [00:06<00:00,  3.81it/s, Epoch=38, LR=9.88e-5, Valid_Auroc=0.517, Valid_Loss=0.387]\n"
     ]
    },
    {
     "name": "stdout",
     "output_type": "stream",
     "text": [
      "\n"
     ]
    },
    {
     "name": "stderr",
     "output_type": "stream",
     "text": [
      "100%|██████████| 19/19 [00:07<00:00,  2.53it/s, Epoch=39, LR=9.87e-5, Train_Auroc=0.995, Train_Loss=0.115]\n",
      "100%|██████████| 26/26 [00:06<00:00,  3.90it/s, Epoch=39, LR=9.87e-5, Valid_Auroc=0.517, Valid_Loss=0.287]\n"
     ]
    },
    {
     "name": "stdout",
     "output_type": "stream",
     "text": [
      "\n"
     ]
    },
    {
     "name": "stderr",
     "output_type": "stream",
     "text": [
      "100%|██████████| 19/19 [00:07<00:00,  2.55it/s, Epoch=40, LR=9.87e-5, Train_Auroc=0.993, Train_Loss=0.119]\n",
      "100%|██████████| 26/26 [00:06<00:00,  3.80it/s, Epoch=40, LR=9.87e-5, Valid_Auroc=0.516, Valid_Loss=0.39]\n"
     ]
    },
    {
     "name": "stdout",
     "output_type": "stream",
     "text": [
      "\n"
     ]
    },
    {
     "name": "stderr",
     "output_type": "stream",
     "text": [
      "100%|██████████| 19/19 [00:07<00:00,  2.54it/s, Epoch=41, LR=9.86e-5, Train_Auroc=0.991, Train_Loss=0.152]\n",
      "100%|██████████| 26/26 [00:06<00:00,  3.88it/s, Epoch=41, LR=9.86e-5, Valid_Auroc=0.517, Valid_Loss=0.414]\n"
     ]
    },
    {
     "name": "stdout",
     "output_type": "stream",
     "text": [
      "\n"
     ]
    },
    {
     "name": "stderr",
     "output_type": "stream",
     "text": [
      "100%|██████████| 19/19 [00:07<00:00,  2.55it/s, Epoch=42, LR=9.85e-5, Train_Auroc=0.993, Train_Loss=0.129]\n",
      "100%|██████████| 26/26 [00:06<00:00,  3.91it/s, Epoch=42, LR=9.85e-5, Valid_Auroc=0.516, Valid_Loss=0.302]\n"
     ]
    },
    {
     "name": "stdout",
     "output_type": "stream",
     "text": [
      "\n"
     ]
    },
    {
     "name": "stderr",
     "output_type": "stream",
     "text": [
      "100%|██████████| 19/19 [00:07<00:00,  2.54it/s, Epoch=43, LR=9.85e-5, Train_Auroc=0.995, Train_Loss=0.104]\n",
      "100%|██████████| 26/26 [00:06<00:00,  3.96it/s, Epoch=43, LR=9.85e-5, Valid_Auroc=0.515, Valid_Loss=0.396]\n"
     ]
    },
    {
     "name": "stdout",
     "output_type": "stream",
     "text": [
      "\n"
     ]
    },
    {
     "name": "stderr",
     "output_type": "stream",
     "text": [
      "100%|██████████| 19/19 [00:07<00:00,  2.56it/s, Epoch=44, LR=9.84e-5, Train_Auroc=0.994, Train_Loss=0.111]\n",
      "100%|██████████| 26/26 [00:06<00:00,  4.07it/s, Epoch=44, LR=9.84e-5, Valid_Auroc=0.516, Valid_Loss=0.372]\n"
     ]
    },
    {
     "name": "stdout",
     "output_type": "stream",
     "text": [
      "\n"
     ]
    },
    {
     "name": "stderr",
     "output_type": "stream",
     "text": [
      "100%|██████████| 19/19 [00:07<00:00,  2.54it/s, Epoch=45, LR=9.83e-5, Train_Auroc=0.994, Train_Loss=0.0934]\n",
      "100%|██████████| 26/26 [00:06<00:00,  3.97it/s, Epoch=45, LR=9.83e-5, Valid_Auroc=0.514, Valid_Loss=0.34]\n"
     ]
    },
    {
     "name": "stdout",
     "output_type": "stream",
     "text": [
      "\n"
     ]
    },
    {
     "name": "stderr",
     "output_type": "stream",
     "text": [
      "100%|██████████| 19/19 [00:07<00:00,  2.56it/s, Epoch=46, LR=9.83e-5, Train_Auroc=0.994, Train_Loss=0.119]\n",
      "100%|██████████| 26/26 [00:06<00:00,  3.85it/s, Epoch=46, LR=9.83e-5, Valid_Auroc=0.514, Valid_Loss=0.402]\n"
     ]
    },
    {
     "name": "stdout",
     "output_type": "stream",
     "text": [
      "\n"
     ]
    },
    {
     "name": "stderr",
     "output_type": "stream",
     "text": [
      "100%|██████████| 19/19 [00:07<00:00,  2.52it/s, Epoch=47, LR=9.82e-5, Train_Auroc=1, Train_Loss=0.0694]\n",
      "100%|██████████| 26/26 [00:06<00:00,  3.93it/s, Epoch=47, LR=9.82e-5, Valid_Auroc=0.516, Valid_Loss=0.459]\n"
     ]
    },
    {
     "name": "stdout",
     "output_type": "stream",
     "text": [
      "\n"
     ]
    },
    {
     "name": "stderr",
     "output_type": "stream",
     "text": [
      "100%|██████████| 19/19 [00:07<00:00,  2.57it/s, Epoch=48, LR=9.81e-5, Train_Auroc=0.997, Train_Loss=0.111]\n",
      "100%|██████████| 26/26 [00:06<00:00,  3.94it/s, Epoch=48, LR=9.81e-5, Valid_Auroc=0.516, Valid_Loss=0.436]\n"
     ]
    },
    {
     "name": "stdout",
     "output_type": "stream",
     "text": [
      "\n"
     ]
    },
    {
     "name": "stderr",
     "output_type": "stream",
     "text": [
      "100%|██████████| 19/19 [00:07<00:00,  2.53it/s, Epoch=49, LR=9.8e-5, Train_Auroc=0.997, Train_Loss=0.074]\n",
      "100%|██████████| 26/26 [00:06<00:00,  3.88it/s, Epoch=49, LR=9.8e-5, Valid_Auroc=0.516, Valid_Loss=0.418]\n"
     ]
    },
    {
     "name": "stdout",
     "output_type": "stream",
     "text": [
      "\n"
     ]
    },
    {
     "name": "stderr",
     "output_type": "stream",
     "text": [
      "100%|██████████| 19/19 [00:07<00:00,  2.55it/s, Epoch=50, LR=9.79e-5, Train_Auroc=0.998, Train_Loss=0.075]\n",
      "100%|██████████| 26/26 [00:06<00:00,  3.91it/s, Epoch=50, LR=9.79e-5, Valid_Auroc=0.516, Valid_Loss=0.478]\n"
     ]
    },
    {
     "name": "stdout",
     "output_type": "stream",
     "text": [
      "\n",
      "Training complete in 0h 12m 33s\n",
      "Best AUROC: 0.5171\n"
     ]
    }
   ],
   "source": [
    "model, history = run_training(model, optimizer, scheduler,\n",
    "                              device=CONFIG['device'],\n",
    "                              num_epochs=CONFIG['epochs'])"
   ]
  },
  {
   "cell_type": "code",
   "execution_count": 25,
   "id": "206c0a6a",
   "metadata": {
    "execution": {
     "iopub.execute_input": "2024-06-30T00:39:59.824798Z",
     "iopub.status.busy": "2024-06-30T00:39:59.823993Z",
     "iopub.status.idle": "2024-06-30T00:39:59.833348Z",
     "shell.execute_reply": "2024-06-30T00:39:59.832600Z"
    },
    "papermill": {
     "duration": 0.410611,
     "end_time": "2024-06-30T00:39:59.835325",
     "exception": false,
     "start_time": "2024-06-30T00:39:59.424714",
     "status": "completed"
    },
    "tags": []
   },
   "outputs": [],
   "source": [
    "history = pd.DataFrame.from_dict(history)\n",
    "history.to_csv(\"history.csv\", index=False)"
   ]
  },
  {
   "cell_type": "markdown",
   "id": "d665b523",
   "metadata": {
    "papermill": {
     "duration": 0.398557,
     "end_time": "2024-06-30T00:40:00.630816",
     "exception": false,
     "start_time": "2024-06-30T00:40:00.232259",
     "status": "completed"
    },
    "tags": []
   },
   "source": [
    "# <span><h1 style = \"font-family: garamond; font-size: 40px; font-style: normal; letter-spcaing: 3px; background-color: #f6f5f5; color :#fe346e; border-radius: 100px 100px; text-align:center\">Logs</h1></span>"
   ]
  },
  {
   "cell_type": "code",
   "execution_count": 26,
   "id": "337c539f",
   "metadata": {
    "execution": {
     "iopub.execute_input": "2024-06-30T00:40:01.483820Z",
     "iopub.status.busy": "2024-06-30T00:40:01.483456Z",
     "iopub.status.idle": "2024-06-30T00:40:01.776665Z",
     "shell.execute_reply": "2024-06-30T00:40:01.775820Z"
    },
    "papermill": {
     "duration": 0.692716,
     "end_time": "2024-06-30T00:40:01.778941",
     "exception": false,
     "start_time": "2024-06-30T00:40:01.086225",
     "status": "completed"
    },
    "tags": []
   },
   "outputs": [
    {
     "data": {
      "image/png": "[encoded data removed]",
      "text/plain": [
       "<Figure size 640x480 with 1 Axes>"
      ]
     },
     "metadata": {},
     "output_type": "display_data"
    }
   ],
   "source": [
    "plt.plot( range(history.shape[0]), history[\"Train Loss\"].values, label=\"Train Loss\")\n",
    "plt.plot( range(history.shape[0]), history[\"Valid Loss\"].values, label=\"Valid Loss\")\n",
    "plt.xlabel(\"epochs\")\n",
    "plt.ylabel(\"Loss\")\n",
    "plt.grid()\n",
    "plt.legend()\n",
    "plt.show()"
   ]
  },
  {
   "cell_type": "code",
   "execution_count": 27,
   "id": "243aa3c5",
   "metadata": {
    "execution": {
     "iopub.execute_input": "2024-06-30T00:40:02.578658Z",
     "iopub.status.busy": "2024-06-30T00:40:02.577907Z",
     "iopub.status.idle": "2024-06-30T00:40:02.838792Z",
     "shell.execute_reply": "2024-06-30T00:40:02.837881Z"
    },
    "papermill": {
     "duration": 0.663418,
     "end_time": "2024-06-30T00:40:02.840972",
     "exception": false,
     "start_time": "2024-06-30T00:40:02.177554",
     "status": "completed"
    },
    "tags": []
   },
   "outputs": [
    {
     "data": {
      "image/png": "[encoded data removed]",
      "text/plain": [
       "<Figure size 640x480 with 1 Axes>"
      ]
     },
     "metadata": {},
     "output_type": "display_data"
    }
   ],
   "source": [
    "plt.plot( range(history.shape[0]), history[\"Train AUROC\"].values, label=\"Train AUROC\")\n",
    "plt.plot( range(history.shape[0]), history[\"Valid AUROC\"].values, label=\"Valid AUROC\")\n",
    "plt.xlabel(\"epochs\")\n",
    "plt.ylabel(\"AUROC\")\n",
    "plt.grid()\n",
    "plt.legend()\n",
    "plt.show()"
   ]
  },
  {
   "cell_type": "code",
   "execution_count": 28,
   "id": "f08f8476",
   "metadata": {
    "execution": {
     "iopub.execute_input": "2024-06-30T00:40:03.711108Z",
     "iopub.status.busy": "2024-06-30T00:40:03.710348Z",
     "iopub.status.idle": "2024-06-30T00:40:03.956566Z",
     "shell.execute_reply": "2024-06-30T00:40:03.955626Z"
    },
    "papermill": {
     "duration": 0.721299,
     "end_time": "2024-06-30T00:40:03.958520",
     "exception": false,
     "start_time": "2024-06-30T00:40:03.237221",
     "status": "completed"
    },
    "tags": []
   },
   "outputs": [
    {
     "data": {
      "image/png": "[encoded data removed]",
      "text/plain": [
       "<Figure size 640x480 with 1 Axes>"
      ]
     },
     "metadata": {},
     "output_type": "display_data"
    }
   ],
   "source": [
    "plt.plot( range(history.shape[0]), history[\"lr\"].values, label=\"lr\")\n",
    "plt.xlabel(\"epochs\")\n",
    "plt.ylabel(\"lr\")\n",
    "plt.grid()\n",
    "plt.legend()\n",
    "plt.show()"
   ]
  }
 ],
 "metadata": {
  "kaggle": {
   "accelerator": "gpu",
   "dataSources": [
    {
     "databundleVersionId": 8940774,
     "sourceId": 63056,
     "sourceType": "competition"
    },
    {
     "modelInstanceId": 2656,
     "sourceId": 3729,
     "sourceType": "modelInstanceVersion"
    }
   ],
   "isGpuEnabled": true,
   "isInternetEnabled": true,
   "language": "python",
   "sourceType": "notebook"
  },
  "kernelspec": {
   "display_name": "Python 3",
   "language": "python",
   "name": "python3"
  },
  "language_info": {
   "codemirror_mode": {
    "name": "ipython",
    "version": 3
   },
   "file_extension": ".py",
   "mimetype": "text/x-python",
   "name": "python",
   "nbconvert_exporter": "python",
   "pygments_lexer": "ipython3",
   "version": "3.10.13"
  },
  "papermill": {
   "default_parameters": {},
   "duration": 801.714902,
   "end_time": "2024-06-30T00:40:07.345203",
   "environment_variables": {},
   "exception": null,
   "input_path": "__notebook__.ipynb",
   "output_path": "__notebook__.ipynb",
   "parameters": {},
   "start_time": "2024-06-30T00:26:45.630301",
   "version": "2.5.0"
  },
  "widgets": {
   "application/vnd.jupyter.widget-state+json": {
    "state": {
     "06134057aae74dd093aefb9c4b152de3": {
      "model_module": "@jupyter-widgets/base",
      "model_module_version": "1.2.0",
      "model_name": "LayoutModel",
      "state": {
       "_model_module": "@jupyter-widgets/base",
       "_model_module_version": "1.2.0",
       "_model_name": "LayoutModel",
       "_view_count": null,
       "_view_module": "@jupyter-widgets/base",
       "_view_module_version": "1.2.0",
       "_view_name": "LayoutView",
       "align_content": null,
       "align_items": null,
       "align_self": null,
       "border": null,
       "bottom": null,
       "display": null,
       "flex": null,
       "flex_flow": null,
       "grid_area": null,
       "grid_auto_columns": null,
       "grid_auto_flow": null,
       "grid_auto_rows": null,
       "grid_column": null,
       "grid_gap": null,
       "grid_row": null,
       "grid_template_areas": null,
       "grid_template_columns": null,
       "grid_template_rows": null,
       "height": null,
       "justify_content": null,
       "justify_items": null,
       "left": null,
       "margin": null,
       "max_height": null,
       "max_width": null,
       "min_height": null,
       "min_width": null,
       "object_fit": null,
       "object_position": null,
       "order": null,
       "overflow": null,
       "overflow_x": null,
       "overflow_y": null,
       "padding": null,
       "right": null,
       "top": null,
       "visibility": null,
       "width": null
      }
     },
     "19773f40a4c84ee0bd5b52ddfb7c5b4d": {
      "model_module": "@jupyter-widgets/controls",
      "model_module_version": "1.5.0",
      "model_name": "DescriptionStyleModel",
      "state": {
       "_model_module": "@jupyter-widgets/controls",
       "_model_module_version": "1.5.0",
       "_model_name": "DescriptionStyleModel",
       "_view_count": null,
       "_view_module": "@jupyter-widgets/base",
       "_view_module_version": "1.2.0",
       "_view_name": "StyleView",
       "description_width": ""
      }
     },
     "315ba745fb3a4cd58c469cd39abba44b": {
      "model_module": "@jupyter-widgets/controls",
      "model_module_version": "1.5.0",
      "model_name": "HBoxModel",
      "state": {
       "_dom_classes": [],
       "_model_module": "@jupyter-widgets/controls",
       "_model_module_version": "1.5.0",
       "_model_name": "HBoxModel",
       "_view_count": null,
       "_view_module": "@jupyter-widgets/controls",
       "_view_module_version": "1.5.0",
       "_view_name": "HBoxView",
       "box_style": "",
       "children": [
        "IPY_MODEL_b286f73a2fb24c828268b76f602d2953",
        "IPY_MODEL_76c462d75c3a4ca1a9ff72465fc6d1e1",
        "IPY_MODEL_98e271198e5c4401aa9ee2644b46cf7b"
       ],
       "layout": "IPY_MODEL_e4e318501ac64bbfb0cfd1cf8a76d95f"
      }
     },
     "59656746fbef428388b032785eeaa47b": {
      "model_module": "@jupyter-widgets/base",
      "model_module_version": "1.2.0",
      "model_name": "LayoutModel",
      "state": {
       "_model_module": "@jupyter-widgets/base",
       "_model_module_version": "1.2.0",
       "_model_name": "LayoutModel",
       "_view_count": null,
       "_view_module": "@jupyter-widgets/base",
       "_view_module_version": "1.2.0",
       "_view_name": "LayoutView",
       "align_content": null,
       "align_items": null,
       "align_self": null,
       "border": null,
       "bottom": null,
       "display": null,
       "flex": null,
       "flex_flow": null,
       "grid_area": null,
       "grid_auto_columns": null,
       "grid_auto_flow": null,
       "grid_auto_rows": null,
       "grid_column": null,
       "grid_gap": null,
       "grid_row": null,
       "grid_template_areas": null,
       "grid_template_columns": null,
       "grid_template_rows": null,
       "height": null,
       "justify_content": null,
       "justify_items": null,
       "left": null,
       "margin": null,
       "max_height": null,
       "max_width": null,
       "min_height": null,
       "min_width": null,
       "object_fit": null,
       "object_position": null,
       "order": null,
       "overflow": null,
       "overflow_x": null,
       "overflow_y": null,
       "padding": null,
       "right": null,
       "top": null,
       "visibility": null,
       "width": null
      }
     },
     "76c462d75c3a4ca1a9ff72465fc6d1e1": {
      "model_module": "@jupyter-widgets/controls",
      "model_module_version": "1.5.0",
      "model_name": "FloatProgressModel",
      "state": {
       "_dom_classes": [],
       "_model_module": "@jupyter-widgets/controls",
       "_model_module_version": "1.5.0",
       "_model_name": "FloatProgressModel",
       "_view_count": null,
       "_view_module": "@jupyter-widgets/controls",
       "_view_module_version": "1.5.0",
       "_view_name": "ProgressView",
       "bar_style": "success",
       "description": "",
       "description_tooltip": null,
       "layout": "IPY_MODEL_59656746fbef428388b032785eeaa47b",
       "max": 21355344.0,
       "min": 0.0,
       "orientation": "horizontal",
       "style": "IPY_MODEL_cc839177eb0d410ea80eb50241f0cc62",
       "value": 21355344.0
      }
     },
     "98e271198e5c4401aa9ee2644b46cf7b": {
      "model_module": "@jupyter-widgets/controls",
      "model_module_version": "1.5.0",
      "model_name": "HTMLModel",
      "state": {
       "_dom_classes": [],
       "_model_module": "@jupyter-widgets/controls",
       "_model_module_version": "1.5.0",
       "_model_name": "HTMLModel",
       "_view_count": null,
       "_view_module": "@jupyter-widgets/controls",
       "_view_module_version": "1.5.0",
       "_view_name": "HTMLView",
       "description": "",
       "description_tooltip": null,
       "layout": "IPY_MODEL_e0ad46c9e2cf455e909ce445cdc1768b",
       "placeholder": "​",
       "style": "IPY_MODEL_a767928a117940049e4c34b47f7565d5",
       "value": " 21.4M/21.4M [00:00&lt;00:00, 65.9MB/s]"
      }
     },
     "a767928a117940049e4c34b47f7565d5": {
      "model_module": "@jupyter-widgets/controls",
      "model_module_version": "1.5.0",
      "model_name": "DescriptionStyleModel",
      "state": {
       "_model_module": "@jupyter-widgets/controls",
       "_model_module_version": "1.5.0",
       "_model_name": "DescriptionStyleModel",
       "_view_count": null,
       "_view_module": "@jupyter-widgets/base",
       "_view_module_version": "1.2.0",
       "_view_name": "StyleView",
       "description_width": ""
      }
     },
     "b286f73a2fb24c828268b76f602d2953": {
      "model_module": "@jupyter-widgets/controls",
      "model_module_version": "1.5.0",
      "model_name": "HTMLModel",
      "state": {
       "_dom_classes": [],
       "_model_module": "@jupyter-widgets/controls",
       "_model_module_version": "1.5.0",
       "_model_name": "HTMLModel",
       "_view_count": null,
       "_view_module": "@jupyter-widgets/controls",
       "_view_module_version": "1.5.0",
       "_view_name": "HTMLView",
       "description": "",
       "description_tooltip": null,
       "layout": "IPY_MODEL_06134057aae74dd093aefb9c4b152de3",
       "placeholder": "​",
       "style": "IPY_MODEL_19773f40a4c84ee0bd5b52ddfb7c5b4d",
       "value": "model.safetensors: 100%"
      }
     },
     "cc839177eb0d410ea80eb50241f0cc62": {
      "model_module": "@jupyter-widgets/controls",
      "model_module_version": "1.5.0",
      "model_name": "ProgressStyleModel",
      "state": {
       "_model_module": "@jupyter-widgets/controls",
       "_model_module_version": "1.5.0",
       "_model_name": "ProgressStyleModel",
       "_view_count": null,
       "_view_module": "@jupyter-widgets/base",
       "_view_module_version": "1.2.0",
       "_view_name": "StyleView",
       "bar_color": null,
       "description_width": ""
      }
     },
     "e0ad46c9e2cf455e909ce445cdc1768b": {
      "model_module": "@jupyter-widgets/base",
      "model_module_version": "1.2.0",
      "model_name": "LayoutModel",
      "state": {
       "_model_module": "@jupyter-widgets/base",
       "_model_module_version": "1.2.0",
       "_model_name": "LayoutModel",
       "_view_count": null,
       "_view_module": "@jupyter-widgets/base",
       "_view_module_version": "1.2.0",
       "_view_name": "LayoutView",
       "align_content": null,
       "align_items": null,
       "align_self": null,
       "border": null,
       "bottom": null,
       "display": null,
       "flex": null,
       "flex_flow": null,
       "grid_area": null,
       "grid_auto_columns": null,
       "grid_auto_flow": null,
       "grid_auto_rows": null,
       "grid_column": null,
       "grid_gap": null,
       "grid_row": null,
       "grid_template_areas": null,
       "grid_template_columns": null,
       "grid_template_rows": null,
       "height": null,
       "justify_content": null,
       "justify_items": null,
       "left": null,
       "margin": null,
       "max_height": null,
       "max_width": null,
       "min_height": null,
       "min_width": null,
       "object_fit": null,
       "object_position": null,
       "order": null,
       "overflow": null,
       "overflow_x": null,
       "overflow_y": null,
       "padding": null,
       "right": null,
       "top": null,
       "visibility": null,
       "width": null
      }
     },
     "e4e318501ac64bbfb0cfd1cf8a76d95f": {
      "model_module": "@jupyter-widgets/base",
      "model_module_version": "1.2.0",
      "model_name": "LayoutModel",
      "state": {
       "_model_module": "@jupyter-widgets/base",
       "_model_module_version": "1.2.0",
       "_model_name": "LayoutModel",
       "_view_count": null,
       "_view_module": "@jupyter-widgets/base",
       "_view_module_version": "1.2.0",
       "_view_name": "LayoutView",
       "align_content": null,
       "align_items": null,
       "align_self": null,
       "border": null,
       "bottom": null,
       "display": null,
       "flex": null,
       "flex_flow": null,
       "grid_area": null,
       "grid_auto_columns": null,
       "grid_auto_flow": null,
       "grid_auto_rows": null,
       "grid_column": null,
       "grid_gap": null,
       "grid_row": null,
       "grid_template_areas": null,
       "grid_template_columns": null,
       "grid_template_rows": null,
       "height": null,
       "justify_content": null,
       "justify_items": null,
       "left": null,
       "margin": null,
       "max_height": null,
       "max_width": null,
       "min_height": null,
       "min_width": null,
       "object_fit": null,
       "object_position": null,
       "order": null,
       "overflow": null,
       "overflow_x": null,
       "overflow_y": null,
       "padding": null,
       "right": null,
       "top": null,
       "visibility": null,
       "width": null
      }
     }
    },
    "version_major": 2,
    "version_minor": 0
   }
  }
 },
 "nbformat": 4,
 "nbformat_minor": 5
}
